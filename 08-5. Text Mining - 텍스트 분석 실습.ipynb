{
 "cells": [
  {
   "cell_type": "code",
   "execution_count": 2,
   "metadata": {},
   "outputs": [],
   "source": [
    "import numpy as np\n",
    "import pandas as pd\n",
    "import seaborn as sns\n",
    "import matplotlib.pyplot as plt\n",
    "%matplotlib inline\n",
    "\n",
    "from sklearn.linear_model import Ridge, LogisticRegression\n",
    "from sklearn.model_selection import train_test_split, cross_val_score\n",
    "from sklearn.feature_extraction.text import CountVectorizer, TfidfVectorizer"
   ]
  },
  {
   "cell_type": "code",
   "execution_count": 3,
   "metadata": {},
   "outputs": [
    {
     "name": "stdout",
     "output_type": "stream",
     "text": [
      "(1482535, 8)\n"
     ]
    },
    {
     "data": {
      "text/html": [
       "<div>\n",
       "<style scoped>\n",
       "    .dataframe tbody tr th:only-of-type {\n",
       "        vertical-align: middle;\n",
       "    }\n",
       "\n",
       "    .dataframe tbody tr th {\n",
       "        vertical-align: top;\n",
       "    }\n",
       "\n",
       "    .dataframe thead th {\n",
       "        text-align: right;\n",
       "    }\n",
       "</style>\n",
       "<table border=\"1\" class=\"dataframe\">\n",
       "  <thead>\n",
       "    <tr style=\"text-align: right;\">\n",
       "      <th></th>\n",
       "      <th>train_id</th>\n",
       "      <th>name</th>\n",
       "      <th>item_condition_id</th>\n",
       "      <th>category_name</th>\n",
       "      <th>brand_name</th>\n",
       "      <th>price</th>\n",
       "      <th>shipping</th>\n",
       "      <th>item_description</th>\n",
       "    </tr>\n",
       "  </thead>\n",
       "  <tbody>\n",
       "    <tr>\n",
       "      <th>0</th>\n",
       "      <td>0</td>\n",
       "      <td>MLB Cincinnati Reds T Shirt Size XL</td>\n",
       "      <td>3</td>\n",
       "      <td>Men/Tops/T-shirts</td>\n",
       "      <td>NaN</td>\n",
       "      <td>10.0</td>\n",
       "      <td>1</td>\n",
       "      <td>No description yet</td>\n",
       "    </tr>\n",
       "    <tr>\n",
       "      <th>1</th>\n",
       "      <td>1</td>\n",
       "      <td>Razer BlackWidow Chroma Keyboard</td>\n",
       "      <td>3</td>\n",
       "      <td>Electronics/Computers &amp; Tablets/Components &amp; P...</td>\n",
       "      <td>Razer</td>\n",
       "      <td>52.0</td>\n",
       "      <td>0</td>\n",
       "      <td>This keyboard is in great condition and works ...</td>\n",
       "    </tr>\n",
       "    <tr>\n",
       "      <th>2</th>\n",
       "      <td>2</td>\n",
       "      <td>AVA-VIV Blouse</td>\n",
       "      <td>1</td>\n",
       "      <td>Women/Tops &amp; Blouses/Blouse</td>\n",
       "      <td>Target</td>\n",
       "      <td>10.0</td>\n",
       "      <td>1</td>\n",
       "      <td>Adorable top with a hint of lace and a key hol...</td>\n",
       "    </tr>\n",
       "    <tr>\n",
       "      <th>3</th>\n",
       "      <td>3</td>\n",
       "      <td>Leather Horse Statues</td>\n",
       "      <td>1</td>\n",
       "      <td>Home/Home Décor/Home Décor Accents</td>\n",
       "      <td>NaN</td>\n",
       "      <td>35.0</td>\n",
       "      <td>1</td>\n",
       "      <td>New with tags. Leather horses. Retail for [rm]...</td>\n",
       "    </tr>\n",
       "    <tr>\n",
       "      <th>4</th>\n",
       "      <td>4</td>\n",
       "      <td>24K GOLD plated rose</td>\n",
       "      <td>1</td>\n",
       "      <td>Women/Jewelry/Necklaces</td>\n",
       "      <td>NaN</td>\n",
       "      <td>44.0</td>\n",
       "      <td>0</td>\n",
       "      <td>Complete with certificate of authenticity</td>\n",
       "    </tr>\n",
       "  </tbody>\n",
       "</table>\n",
       "</div>"
      ],
      "text/plain": [
       "   train_id                                 name  item_condition_id  \\\n",
       "0         0  MLB Cincinnati Reds T Shirt Size XL                  3   \n",
       "1         1     Razer BlackWidow Chroma Keyboard                  3   \n",
       "2         2                       AVA-VIV Blouse                  1   \n",
       "3         3                Leather Horse Statues                  1   \n",
       "4         4                 24K GOLD plated rose                  1   \n",
       "\n",
       "                                       category_name brand_name  price  \\\n",
       "0                                  Men/Tops/T-shirts        NaN   10.0   \n",
       "1  Electronics/Computers & Tablets/Components & P...      Razer   52.0   \n",
       "2                        Women/Tops & Blouses/Blouse     Target   10.0   \n",
       "3                 Home/Home Décor/Home Décor Accents        NaN   35.0   \n",
       "4                            Women/Jewelry/Necklaces        NaN   44.0   \n",
       "\n",
       "   shipping                                   item_description  \n",
       "0         1                                 No description yet  \n",
       "1         0  This keyboard is in great condition and works ...  \n",
       "2         1  Adorable top with a hint of lace and a key hol...  \n",
       "3         1  New with tags. Leather horses. Retail for [rm]...  \n",
       "4         0          Complete with certificate of authenticity  "
      ]
     },
     "execution_count": 3,
     "metadata": {},
     "output_type": "execute_result"
    }
   ],
   "source": [
    "df = pd.read_csv('08/mercari/train.tsv', sep='\\t')\n",
    "print(df.shape)\n",
    "df.head()"
   ]
  },
  {
   "cell_type": "markdown",
   "metadata": {},
   "source": [
    "- 여기서 수행할 것은 지도학습(회귀)이며, 다른 data들을 이용하여 'price'를 예측하는 것!\n",
    "- 다른 점은 'item_description'이라고 하는 텍스트 칼럼 또한 이 예측에 활용함."
   ]
  },
  {
   "cell_type": "code",
   "execution_count": 42,
   "metadata": {},
   "outputs": [
    {
     "name": "stdout",
     "output_type": "stream",
     "text": [
      "<class 'pandas.core.frame.DataFrame'>\n",
      "RangeIndex: 1482535 entries, 0 to 1482534\n",
      "Data columns (total 8 columns):\n",
      "train_id             1482535 non-null int64\n",
      "name                 1482535 non-null object\n",
      "item_condition_id    1482535 non-null int64\n",
      "category_name        1476208 non-null object\n",
      "brand_name           849853 non-null object\n",
      "price                1482535 non-null float64\n",
      "shipping             1482535 non-null int64\n",
      "item_description     1482531 non-null object\n",
      "dtypes: float64(1), int64(3), object(4)\n",
      "memory usage: 90.5+ MB\n"
     ]
    }
   ],
   "source": [
    "#결측값, 기본정보 확인\n",
    "df.info()"
   ]
  },
  {
   "cell_type": "code",
   "execution_count": 43,
   "metadata": {},
   "outputs": [
    {
     "data": {
      "text/plain": [
       "<matplotlib.axes._subplots.AxesSubplot at 0x287834405f8>"
      ]
     },
     "execution_count": 43,
     "metadata": {},
     "output_type": "execute_result"
    },
    {
     "data": {
      "image/png": "[encoded data removed]",
      "text/plain": [
       "<Figure size 432x288 with 1 Axes>"
      ]
     },
     "metadata": {
      "needs_background": "light"
     },
     "output_type": "display_data"
    }
   ],
   "source": [
    "#target 값의 데이터 분포도 확인\n",
    "sns.distplot(df['price'])"
   ]
  },
  {
   "cell_type": "code",
   "execution_count": 44,
   "metadata": {},
   "outputs": [
    {
     "data": {
      "text/plain": [
       "<matplotlib.axes._subplots.AxesSubplot at 0x2878618ff60>"
      ]
     },
     "execution_count": 44,
     "metadata": {},
     "output_type": "execute_result"
    },
    {
     "data": {
      "image/png": "[encoded data removed]",
      "text/plain": [
       "<Figure size 432x288 with 1 Axes>"
      ]
     },
     "metadata": {
      "needs_background": "light"
     },
     "output_type": "display_data"
    }
   ],
   "source": [
    "#왜곡이 많이 되어있으므로, 로그변환을 통해 데이터 분포를 정규분포로 바꾸기\n",
    "df['price'] = np.log1p(df['price'])\n",
    "sns.distplot(df['price'], kde=False) #kde=False로 하면 정규분포 곡선이 출력되지 않음."
   ]
  },
  {
   "cell_type": "markdown",
   "metadata": {},
   "source": [
    "- 참고) kde는 kernel distribution estimator의 약자로, 확률밀도함수를 추정하는 것임.\n",
    "- sns.kdeplot으로 확인할수있고, / sns.distplot은 히스토그램과 kde를 같이 그려주는 것!\n",
    "- https://pinkwink.kr/984"
   ]
  },
  {
   "cell_type": "code",
   "execution_count": 45,
   "metadata": {},
   "outputs": [
    {
     "data": {
      "text/plain": [
       "0    2.397895\n",
       "1    3.970292\n",
       "2    2.397895\n",
       "3    3.583519\n",
       "4    3.806662\n",
       "Name: price, dtype: float64"
      ]
     },
     "execution_count": 45,
     "metadata": {},
     "output_type": "execute_result"
    }
   ],
   "source": [
    "df['price'].head()"
   ]
  },
  {
   "cell_type": "code",
   "execution_count": 46,
   "metadata": {},
   "outputs": [
    {
     "name": "stdout",
     "output_type": "stream",
     "text": [
      "0    819435\n",
      "1    663100\n",
      "Name: shipping, dtype: int64\n",
      "1    640549\n",
      "3    432161\n",
      "2    375479\n",
      "4     31962\n",
      "5      2384\n",
      "Name: item_condition_id, dtype: int64\n"
     ]
    }
   ],
   "source": [
    "#df의 범주형 변수인 'shipping'(배송비 0/1), 'item_condition_id'(제품상태 1~5) 를 분포 확인\n",
    "print(df['shipping'].value_counts())\n",
    "print(df['item_condition_id'].value_counts())"
   ]
  },
  {
   "cell_type": "code",
   "execution_count": 47,
   "metadata": {},
   "outputs": [
    {
     "data": {
      "text/plain": [
       "train_id                  0\n",
       "name                      0\n",
       "item_condition_id         0\n",
       "category_name          6327\n",
       "brand_name           632682\n",
       "price                     0\n",
       "shipping                  0\n",
       "item_description          4\n",
       "dtype: int64"
      ]
     },
     "execution_count": 47,
     "metadata": {},
     "output_type": "execute_result"
    }
   ],
   "source": [
    "#우리가 텍스트 분석을 하려는 칼럼 'item_description'은 결측값이 별로 없지만(4개), 별도 설명이 없으면 'No description yet'으로 되어있음.\n",
    "df.isnull().sum()"
   ]
  },
  {
   "cell_type": "code",
   "execution_count": 48,
   "metadata": {},
   "outputs": [
    {
     "data": {
      "text/plain": [
       "82489"
      ]
     },
     "execution_count": 48,
     "metadata": {},
     "output_type": "execute_result"
    }
   ],
   "source": [
    "df[df['item_description']=='No description yet']['item_description'].count() #결측값은 4건뿐이나 이렇게 아무 설명도 없는 것들도 결측값과 마찬가지임. \n",
    "                                                                                                                        #값이 아주 많음.."
   ]
  },
  {
   "cell_type": "code",
   "execution_count": 49,
   "metadata": {},
   "outputs": [
    {
     "data": {
      "text/plain": [
       "0                                    Men/Tops/T-shirts\n",
       "1    Electronics/Computers & Tablets/Components & P...\n",
       "2                          Women/Tops & Blouses/Blouse\n",
       "3                   Home/Home Décor/Home Décor Accents\n",
       "4                              Women/Jewelry/Necklaces\n",
       "Name: category_name, dtype: object"
      ]
     },
     "execution_count": 49,
     "metadata": {},
     "output_type": "execute_result"
    }
   ],
   "source": [
    "#df의 'category_name'의 현황: 결측값 다수 존재, 대분류/중분류/소분류로 되어 있음. 이 칼럼에 함수를 적용하여 칼럼3개를 만듦(대/중/소 칼럼)\n",
    "df['category_name'].head()"
   ]
  },
  {
   "cell_type": "code",
   "execution_count": 4,
   "metadata": {},
   "outputs": [],
   "source": [
    "def split_cat(category_name):\n",
    "    try:\n",
    "        return category_name.split('/') #결측값이 아니라면 '/'기호 기준으로 split하여 3개 칼럼반환\n",
    "    except:\n",
    "        return ['Other_Null','Other_Null','Other_Null'] #결측값이라면 전부(3개 칼럼 모두) 'Other_Null' 을 반환"
   ]
  },
  {
   "cell_type": "code",
   "execution_count": 5,
   "metadata": {},
   "outputs": [
    {
     "data": {
      "text/html": [
       "<div>\n",
       "<style scoped>\n",
       "    .dataframe tbody tr th:only-of-type {\n",
       "        vertical-align: middle;\n",
       "    }\n",
       "\n",
       "    .dataframe tbody tr th {\n",
       "        vertical-align: top;\n",
       "    }\n",
       "\n",
       "    .dataframe thead th {\n",
       "        text-align: right;\n",
       "    }\n",
       "</style>\n",
       "<table border=\"1\" class=\"dataframe\">\n",
       "  <thead>\n",
       "    <tr style=\"text-align: right;\">\n",
       "      <th></th>\n",
       "      <th>train_id</th>\n",
       "      <th>name</th>\n",
       "      <th>item_condition_id</th>\n",
       "      <th>category_name</th>\n",
       "      <th>brand_name</th>\n",
       "      <th>price</th>\n",
       "      <th>shipping</th>\n",
       "      <th>item_description</th>\n",
       "      <th>cat_dae</th>\n",
       "      <th>cat_jung</th>\n",
       "      <th>cat_so</th>\n",
       "    </tr>\n",
       "  </thead>\n",
       "  <tbody>\n",
       "    <tr>\n",
       "      <th>0</th>\n",
       "      <td>0</td>\n",
       "      <td>MLB Cincinnati Reds T Shirt Size XL</td>\n",
       "      <td>3</td>\n",
       "      <td>Men/Tops/T-shirts</td>\n",
       "      <td>NaN</td>\n",
       "      <td>10.0</td>\n",
       "      <td>1</td>\n",
       "      <td>No description yet</td>\n",
       "      <td>Men</td>\n",
       "      <td>Tops</td>\n",
       "      <td>T-shirts</td>\n",
       "    </tr>\n",
       "    <tr>\n",
       "      <th>1</th>\n",
       "      <td>1</td>\n",
       "      <td>Razer BlackWidow Chroma Keyboard</td>\n",
       "      <td>3</td>\n",
       "      <td>Electronics/Computers &amp; Tablets/Components &amp; P...</td>\n",
       "      <td>Razer</td>\n",
       "      <td>52.0</td>\n",
       "      <td>0</td>\n",
       "      <td>This keyboard is in great condition and works ...</td>\n",
       "      <td>Electronics</td>\n",
       "      <td>Computers &amp; Tablets</td>\n",
       "      <td>Components &amp; Parts</td>\n",
       "    </tr>\n",
       "    <tr>\n",
       "      <th>2</th>\n",
       "      <td>2</td>\n",
       "      <td>AVA-VIV Blouse</td>\n",
       "      <td>1</td>\n",
       "      <td>Women/Tops &amp; Blouses/Blouse</td>\n",
       "      <td>Target</td>\n",
       "      <td>10.0</td>\n",
       "      <td>1</td>\n",
       "      <td>Adorable top with a hint of lace and a key hol...</td>\n",
       "      <td>Women</td>\n",
       "      <td>Tops &amp; Blouses</td>\n",
       "      <td>Blouse</td>\n",
       "    </tr>\n",
       "  </tbody>\n",
       "</table>\n",
       "</div>"
      ],
      "text/plain": [
       "   train_id                                 name  item_condition_id  \\\n",
       "0         0  MLB Cincinnati Reds T Shirt Size XL                  3   \n",
       "1         1     Razer BlackWidow Chroma Keyboard                  3   \n",
       "2         2                       AVA-VIV Blouse                  1   \n",
       "\n",
       "                                       category_name brand_name  price  \\\n",
       "0                                  Men/Tops/T-shirts        NaN   10.0   \n",
       "1  Electronics/Computers & Tablets/Components & P...      Razer   52.0   \n",
       "2                        Women/Tops & Blouses/Blouse     Target   10.0   \n",
       "\n",
       "   shipping                                   item_description      cat_dae  \\\n",
       "0         1                                 No description yet          Men   \n",
       "1         0  This keyboard is in great condition and works ...  Electronics   \n",
       "2         1  Adorable top with a hint of lace and a key hol...        Women   \n",
       "\n",
       "              cat_jung              cat_so  \n",
       "0                 Tops            T-shirts  \n",
       "1  Computers & Tablets  Components & Parts  \n",
       "2       Tops & Blouses              Blouse  "
      ]
     },
     "execution_count": 5,
     "metadata": {},
     "output_type": "execute_result"
    }
   ],
   "source": [
    "#위의 함수 적용: zip과 *를 apply lambda 식에 적용! ==>칼럼 3개가 반환됨.\n",
    "df['cat_dae'], df['cat_jung'], df['cat_so'] = zip(*df['category_name'].apply(lambda x: split_cat(x)))\n",
    "df.head(3)"
   ]
  },
  {
   "cell_type": "code",
   "execution_count": 5,
   "metadata": {},
   "outputs": [
    {
     "name": "stdout",
     "output_type": "stream",
     "text": [
      "\n",
      "대분류: \n",
      " Women                     664385\n",
      "Beauty                    207828\n",
      "Kids                      171689\n",
      "Electronics               122690\n",
      "Men                        93680\n",
      "Home                       67871\n",
      "Vintage & Collectibles     46530\n",
      "Other                      45351\n",
      "Handmade                   30842\n",
      "Sports & Outdoors          25342\n",
      "Other_Null                  6327\n",
      "Name: cat_dae, dtype: int64\n",
      "\n",
      "중분류: \n",
      " Athletic Apparel             134383\n",
      "Makeup                       124624\n",
      "Tops & Blouses               106960\n",
      "Shoes                        100452\n",
      "Jewelry                       61763\n",
      "Toys                          58158\n",
      "Cell Phones & Accessories     53290\n",
      "Women's Handbags              45862\n",
      "Dresses                       45758\n",
      "Women's Accessories           42350\n",
      "Jeans                         36130\n",
      "Video Games & Consoles        35971\n",
      "Sweaters                      35752\n",
      "Underwear                     33784\n",
      "Skin Care                     29838\n",
      "Home Décor                    25188\n",
      "Fragrance                     24294\n",
      "Kitchen & Dining              21954\n",
      "Tops                          20591\n",
      "Other                         20017\n",
      "Swimwear                      18924\n",
      "Men's Accessories             18672\n",
      "Girls 2T-5T                   18448\n",
      "Coats & Jackets               18391\n",
      "Girls 0-24 Mos                17878\n",
      "Boys 0-24 Mos                 15372\n",
      "Girls (4+)                    15243\n",
      "Boys (4+)                     14747\n",
      "Boys 2T-5T                    14382\n",
      "Tools & Accessories           13055\n",
      "                              ...  \n",
      "Kids' Home Store                675\n",
      "Art                             656\n",
      "Weddings                        611\n",
      "Glass                           592\n",
      "Health & Baby Care              547\n",
      "Footwear                        540\n",
      "Car Audio, Video & GPS          516\n",
      "Home Decor                      477\n",
      "Strollers                       477\n",
      "Safety                          400\n",
      "Holidays                        325\n",
      "Others                          309\n",
      "Needlecraft                     271\n",
      "Pets                            261\n",
      "Crochet                         234\n",
      "Magazines                       219\n",
      "Patterns                        202\n",
      "Furniture                       179\n",
      "Paper Ephemera                  165\n",
      "Knitting                        163\n",
      "Potty Training                  155\n",
      "Woodworking                     121\n",
      "Geekery                         110\n",
      "Blazers & Sport Coats            69\n",
      "Suits                            66\n",
      "Candles                          64\n",
      "Ceramics and Pottery             57\n",
      "Dolls and Miniatures             49\n",
      "Books and Zines                  46\n",
      "Quilts                           31\n",
      "Name: cat_jung, Length: 114, dtype: int64\n",
      "\n",
      "소분류: \n",
      " Pants, Tights, Leggings       60177\n",
      "Other                         50224\n",
      "Face                          50171\n",
      "T-Shirts                      46380\n",
      "Shoes                         32168\n",
      "Games                         30906\n",
      "Lips                          30871\n",
      "Athletic                      27059\n",
      "Eyes                          26038\n",
      "Cases, Covers & Skins         24676\n",
      "Shorts                        21815\n",
      "Bras                          21274\n",
      "Blouse                        20288\n",
      "Tank, Cami                    20284\n",
      "Boots                         20270\n",
      "Above Knee, Mini              20082\n",
      "Necklaces                     19758\n",
      "Makeup Palettes               19103\n",
      "Women                         18975\n",
      "Shirts & Tops                 16876\n",
      "Sandals                       15368\n",
      "Shoulder Bag                  15328\n",
      "Fashion Sneakers              15203\n",
      "T-shirts                      15108\n",
      "Wallets                       14884\n",
      "Knee-Length                   14770\n",
      "Tops & T-Shirts               14508\n",
      "Bracelets                     14497\n",
      "Slim, Skinny                  14229\n",
      "Dolls & Accessories           13957\n",
      "                              ...  \n",
      "Child Friendly                    1\n",
      "Doorstops                         1\n",
      "Zipper                            1\n",
      "Entertainment                     1\n",
      "St Patricks                       1\n",
      "Double Breasted                   1\n",
      "Map                               1\n",
      "Ephemera                          1\n",
      "Nursery Furniture                 1\n",
      "Seasonal                          1\n",
      "Towel                             1\n",
      "Artist Bears                      1\n",
      "Dishwashers                       1\n",
      "Four Button                       1\n",
      "Educational                       1\n",
      "International Publications        1\n",
      "Tiles                             1\n",
      "Bathroom Furniture                1\n",
      "Doll Clothes                      1\n",
      "Bathroom                          1\n",
      "Garbage Disposals                 1\n",
      "Decorating                        1\n",
      "Frames                            1\n",
      "Pet Food                          1\n",
      "Mirror                            1\n",
      "Crib Netting                      1\n",
      "Bear                              1\n",
      "New Years                         1\n",
      "Aceo                              1\n",
      "Cleaning                          1\n",
      "Name: cat_so, Length: 871, dtype: int64\n"
     ]
    }
   ],
   "source": [
    "#분포 정도 파악\n",
    "print('\\n대분류: \\n', df['cat_dae'].value_counts())\n",
    "print('\\n중분류: \\n', df['cat_jung'].value_counts())\n",
    "print('\\n소분류: \\n', df['cat_so'].value_counts())"
   ]
  },
  {
   "cell_type": "code",
   "execution_count": 6,
   "metadata": {},
   "outputs": [
    {
     "name": "stdout",
     "output_type": "stream",
     "text": [
      "11\n",
      "114\n",
      "871\n"
     ]
    }
   ],
   "source": [
    "print(df['cat_dae'].nunique())\n",
    "print(df['cat_jung'].nunique())\n",
    "print(df['cat_so'].nunique())"
   ]
  },
  {
   "cell_type": "code",
   "execution_count": 6,
   "metadata": {},
   "outputs": [],
   "source": [
    "#결측값 처리 -category, brand_name, item_description 전부 null값을 'Other_Null'로 동일하게 변경!\n",
    "df['category_name'].fillna('Other_Null', inplace=True) #아까 대/중/소 칼럼은 결측값의 경우 'Other Null'로 되어있으므로 이 세개 칼럼에 대해선 노상관.\n",
    "df['brand_name'].fillna('Other_Null', inplace=True)\n",
    "df['item_description'].fillna('Other_Null', inplace=True)"
   ]
  },
  {
   "cell_type": "code",
   "execution_count": 7,
   "metadata": {},
   "outputs": [
    {
     "data": {
      "text/plain": [
       "train_id             0\n",
       "name                 0\n",
       "item_condition_id    0\n",
       "category_name        0\n",
       "brand_name           0\n",
       "price                0\n",
       "shipping             0\n",
       "item_description     0\n",
       "cat_dae              0\n",
       "cat_jung             0\n",
       "cat_so               0\n",
       "dtype: int64"
      ]
     },
     "execution_count": 7,
     "metadata": {},
     "output_type": "execute_result"
    }
   ],
   "source": [
    "df.isnull().sum()"
   ]
  },
  {
   "cell_type": "markdown",
   "metadata": {},
   "source": [
    "- df의 문자열 칼럼 -> 숫자형으로 바꾸기 // 하나씩 컬럼을 살펴본 후, 맨 마지막에 일괄적용"
   ]
  },
  {
   "cell_type": "code",
   "execution_count": 56,
   "metadata": {},
   "outputs": [
    {
     "data": {
      "text/plain": [
       "train_id               int64\n",
       "name                  object\n",
       "item_condition_id      int64\n",
       "category_name         object\n",
       "brand_name            object\n",
       "price                float64\n",
       "shipping               int64\n",
       "item_description      object\n",
       "cat_dae               object\n",
       "cat_jung              object\n",
       "cat_so                object\n",
       "dtype: object"
      ]
     },
     "execution_count": 56,
     "metadata": {},
     "output_type": "execute_result"
    }
   ],
   "source": [
    "df.dtypes"
   ]
  },
  {
   "cell_type": "code",
   "execution_count": 59,
   "metadata": {},
   "outputs": [
    {
     "name": "stdout",
     "output_type": "stream",
     "text": [
      "4810\n",
      "Other_Null           632682\n",
      "PINK                  54088\n",
      "Nike                  54043\n",
      "Victoria's Secret     48036\n",
      "LuLaRoe               31024\n",
      "Name: brand_name, dtype: int64\n"
     ]
    }
   ],
   "source": [
    "#brand_name(상품의 브랜드명) 데이터 분포 --> 유니크한 것의 개수가 4810개로 많아 보이지만 '원-핫인코딩 변환.'\n",
    "        #brand_name은 price에 많은 영향을 끼치는 것으로 보임. 원핫인코딩 시 brand중 어떤 브랜드가 특히 영향을 많이 미치는지?를 볼수있음.\n",
    "print(df['brand_name'].nunique()) #unique한 네임이 4810개.\n",
    "print(df['brand_name'].value_counts()[:5]) #가장많은 이름은 결측값."
   ]
  },
  {
   "cell_type": "code",
   "execution_count": 60,
   "metadata": {},
   "outputs": [
    {
     "name": "stdout",
     "output_type": "stream",
     "text": [
      "1225273\n",
      "Bundle      2232\n",
      "Reserved     453\n",
      "Converse     445\n",
      "BUNDLE       418\n",
      "Dress        410\n",
      "Name: name, dtype: int64\n"
     ]
    }
   ],
   "source": [
    "#name(제품명) --> 텍스트가 짧고, 유형이 많으므로 'count기반 벡터화.'\n",
    "print(df['name'].nunique()) #unique한 네임이 122만여개로 매우 많음(전체 데이터가 148만개임)\n",
    "print(df['name'].value_counts()[:5]) #특출나게 많이 쏠려 있는 네임이 있는 것은 아님."
   ]
  },
  {
   "cell_type": "code",
   "execution_count": null,
   "metadata": {},
   "outputs": [],
   "source": [
    "#cat_dae, jung, so --> 원-핫 인코딩 적용\n",
    "#shipping(배송비): 0/1 --> 원-핫 인코딩 적용\n",
    "#item_condition_id(제품 상태): 1~5 --> 원-핫 인코딩 적용(왜냐면 숫자가 값을 가질 수 있기 때문.)"
   ]
  },
  {
   "cell_type": "code",
   "execution_count": 8,
   "metadata": {},
   "outputs": [
    {
     "name": "stdout",
     "output_type": "stream",
     "text": [
      "평균 문자열 크기:  145.7113889385411\n",
      "예시 2개 \n",
      " 0                                   No description yet\n",
      "1    This keyboard is in great condition and works ...\n",
      "Name: item_description, dtype: object\n"
     ]
    }
   ],
   "source": [
    "#item_description(제품 설명): 평균 문자가 145자 정도로 큰 편이므로 tf-idf 적용.\n",
    "print('평균 문자열 크기: ', df['item_description'].str.len().mean())\n",
    "print('예시 2개 \\n', df['item_description'][:2])"
   ]
  },
  {
   "cell_type": "markdown",
   "metadata": {},
   "source": [
    "- 문자열 전처리 일괄적용"
   ]
  },
  {
   "cell_type": "code",
   "execution_count": 9,
   "metadata": {},
   "outputs": [
    {
     "name": "stdout",
     "output_type": "stream",
     "text": [
      "(1482535, 105757)\n"
     ]
    }
   ],
   "source": [
    "#피처벡터화(name: count, item_description: tfidf)\n",
    "cnt_vect = CountVectorizer()\n",
    "X_name = cnt_vect.fit_transform(df['name'])\n",
    "print(X_name.shape)"
   ]
  },
  {
   "cell_type": "code",
   "execution_count": 11,
   "metadata": {},
   "outputs": [
    {
     "name": "stdout",
     "output_type": "stream",
     "text": [
      "(1482535, 10000)\n"
     ]
    }
   ],
   "source": [
    "tfidf = TfidfVectorizer(max_features=50000, ngram_range=(1,3), stop_words='english') #책에선 max_features=50000인데 너무 오래 걸려서 만으로 줄임\n",
    "X_desc = tfidf.fit_transform(df['item_description'])\n",
    "print(X_desc.shape)"
   ]
  },
  {
   "cell_type": "code",
   "execution_count": 10,
   "metadata": {},
   "outputs": [
    {
     "name": "stdout",
     "output_type": "stream",
     "text": [
      "<class 'scipy.sparse.csr.csr_matrix'>\n",
      "(1482535, 4810) (1482535, 5) (1482535, 1)\n",
      "(1482535, 11) (1482535, 114) (1482535, 871)\n"
     ]
    }
   ],
   "source": [
    "#원핫인코딩(원래 사용하던 OneHotEncoder 외에 LabelBinarizer를 사용하면 원-핫인코딩+희소행렬 변환 가능!)\n",
    "    #왜냐면 피처벡터결과 희소행렬 & 원핫인코딩결과 희소행렬을 나중에 hstack으로 붙이기 위함.(모두 희소행렬로만 만들기 위해)\n",
    "from sklearn.preprocessing import LabelBinarizer\n",
    "\n",
    "#brand_name, item_condition_id, shipping, dae/jung/so에 대해 진행\n",
    "lb_brand = LabelBinarizer(sparse_output=True) #sparse_output=True면 희소행렬 반환한다는 뜻\n",
    "X_brand = lb_brand.fit_transform(df['brand_name'])\n",
    "\n",
    "lb_con = LabelBinarizer(sparse_output=True) \n",
    "X_con = lb_con.fit_transform(df['item_condition_id'])\n",
    "\n",
    "lb_ship = LabelBinarizer(sparse_output=True) \n",
    "X_ship = lb_ship.fit_transform(df['shipping'])\n",
    "\n",
    "lb_dae = LabelBinarizer(sparse_output=True) \n",
    "X_dae = lb_dae.fit_transform(df['cat_dae'])\n",
    "\n",
    "lb_jung = LabelBinarizer(sparse_output=True) \n",
    "X_jung = lb_jung.fit_transform(df['cat_jung'])\n",
    "\n",
    "lb_so = LabelBinarizer(sparse_output=True) \n",
    "X_so = lb_so.fit_transform(df['cat_so'])\n",
    "\n",
    "#반환결과, 모든 type은 csr matrix임. 하나만 보자\n",
    "print(type(X_brand))\n",
    "\n",
    "#나머지 shape을 출력\n",
    "print(X_brand.shape, X_con.shape, X_ship.shape)\n",
    "print(X_dae.shape, X_jung.shape, X_so.shape)"
   ]
  },
  {
   "cell_type": "code",
   "execution_count": 17,
   "metadata": {},
   "outputs": [
    {
     "data": {
      "text/plain": [
       "13"
      ]
     },
     "execution_count": 17,
     "metadata": {},
     "output_type": "execute_result"
    }
   ],
   "source": [
    "#만들어진 피처벡터+원핫인코딩벡터를 hstack으로 결합\n",
    "import gc\n",
    "gc.collect()"
   ]
  },
  {
   "cell_type": "code",
   "execution_count": 18,
   "metadata": {},
   "outputs": [
    {
     "name": "stdout",
     "output_type": "stream",
     "text": [
      "<class 'scipy.sparse.csr.csr_matrix'> (1482535, 121569)\n"
     ]
    },
    {
     "data": {
      "text/plain": [
       "0"
      ]
     },
     "execution_count": 18,
     "metadata": {},
     "output_type": "execute_result"
    }
   ],
   "source": [
    "from scipy.sparse import hstack\n",
    "import gc\n",
    "\n",
    "sparse_matrix_list = (X_name, X_desc, X_brand, X_con, X_ship, X_dae, X_jung, X_so) #아까 만든 것들 리스트\n",
    "X_sparse = hstack(sparse_matrix_list).tocsr() #총 결합 피처\n",
    "print(type(X_sparse), X_sparse.shape)\n",
    "\n",
    "#위에 출력만 하고 이게 메모리를 많이 차지하므로 사용목적 끝났으면 바로 삭제\n",
    "del X_sparse\n",
    "gc.collect()"
   ]
  },
  {
   "cell_type": "markdown",
   "metadata": {},
   "source": [
    "### 머신러닝 회귀 모델에 적용 - 릿지, LightGBM\n",
    "- 릿지"
   ]
  },
  {
   "cell_type": "code",
   "execution_count": 36,
   "metadata": {},
   "outputs": [],
   "source": [
    "#평가지표: RMSLE\n",
    "def rmsle(y, pred):\n",
    "    return np.sqrt(np.mean(np.power(np.log1p(y)-np.log1p(pred), 2)))\n",
    "\n",
    "#우리가 앞에서 타겟값인 'price'에 로그변환을 했었으므로, 지도학습 시 실제값인 y_test뿐 아니라 예측된 pred 값또한 로그변환된 값이 반환됨.\n",
    "#원본으로 지수변환시킨 후, RMSLE 함수를 적용해야 함\n",
    "def evaluate_org_price(y_test, preds):\n",
    "    #로그변환값->원래값으로 변환.\n",
    "    pred_exp = np.expm1(preds)\n",
    "    y_test_exp = np.expm1(y_test)\n",
    "    \n",
    "    #다시 위의 함수를 적용\n",
    "    result = rmsle(y_test_exp, pred_exp)\n",
    "    rmsle_result = np.round(result, 3)\n",
    "    return rmsle_result"
   ]
  },
  {
   "cell_type": "code",
   "execution_count": 37,
   "metadata": {},
   "outputs": [],
   "source": [
    "#회귀- 릿지(지도학습) 하는 함수\n",
    "import gc\n",
    "gc.collect()\n",
    "from scipy.sparse import hstack\n",
    "\n",
    "def model_train_predict(model, X_list):\n",
    "    \n",
    "    X = hstack(X_list).tocsr() #들어온 X_list들을 희소행렬화\n",
    "    X_train, X_test, y_train, y_test = train_test_split(X, df['price'], test_size=.2, random_state=156)\n",
    "    \n",
    "    #모델 학습 및 예측\n",
    "    #객체-이미 만들어져있음\n",
    "    model.fit(X_train,y_train)\n",
    "    preds = model.predict(X_test)\n",
    "    \n",
    "    #메모리 삭제(용량 많이 잡아먹어서,,ㅠㅠ)\n",
    "    del X, X_train, X_test, y_train\n",
    "    gc.collect()\n",
    "    \n",
    "    return y_test, preds #반환값은 실제값(y_test)와 예측값(preds)만\n",
    "    "
   ]
  },
  {
   "cell_type": "code",
   "execution_count": 27,
   "metadata": {},
   "outputs": [
    {
     "name": "stdout",
     "output_type": "stream",
     "text": [
      "inf\n"
     ]
    },
    {
     "name": "stderr",
     "output_type": "stream",
     "text": [
      "C:\\ProgramData\\Anaconda3\\lib\\site-packages\\ipykernel_launcher.py:10: RuntimeWarning: overflow encountered in expm1\n",
      "  # Remove the CWD from sys.path while we load stuff.\n",
      "C:\\ProgramData\\Anaconda3\\lib\\site-packages\\ipykernel_launcher.py:3: RuntimeWarning: overflow encountered in log1p\n",
      "  This is separate from the ipykernel package so we can avoid doing imports until\n",
      "C:\\ProgramData\\Anaconda3\\lib\\site-packages\\ipykernel_launcher.py:3: RuntimeWarning: invalid value encountered in log1p\n",
      "  This is separate from the ipykernel package so we can avoid doing imports until\n",
      "C:\\ProgramData\\Anaconda3\\lib\\site-packages\\ipykernel_launcher.py:3: RuntimeWarning: divide by zero encountered in log1p\n",
      "  This is separate from the ipykernel package so we can avoid doing imports until\n"
     ]
    }
   ],
   "source": [
    "#객체\n",
    "linear_model = Ridge(solver='lsqr', fit_intercept=False)\n",
    "\n",
    "#desc 포함 안한 경우 rmsle\n",
    "X_list = (X_name, X_brand, X_con, X_ship, X_dae, X_jung, X_so)\n",
    "y_test, preds = model_train_predict(linear_model, X_list)\n",
    "print(evaluate_org_price(y_test, preds))"
   ]
  },
  {
   "cell_type": "code",
   "execution_count": 28,
   "metadata": {},
   "outputs": [
    {
     "name": "stdout",
     "output_type": "stream",
     "text": [
      "inf\n"
     ]
    },
    {
     "name": "stderr",
     "output_type": "stream",
     "text": [
      "C:\\ProgramData\\Anaconda3\\lib\\site-packages\\ipykernel_launcher.py:10: RuntimeWarning: overflow encountered in expm1\n",
      "  # Remove the CWD from sys.path while we load stuff.\n",
      "C:\\ProgramData\\Anaconda3\\lib\\site-packages\\ipykernel_launcher.py:3: RuntimeWarning: overflow encountered in log1p\n",
      "  This is separate from the ipykernel package so we can avoid doing imports until\n",
      "C:\\ProgramData\\Anaconda3\\lib\\site-packages\\ipykernel_launcher.py:3: RuntimeWarning: invalid value encountered in log1p\n",
      "  This is separate from the ipykernel package so we can avoid doing imports until\n",
      "C:\\ProgramData\\Anaconda3\\lib\\site-packages\\ipykernel_launcher.py:3: RuntimeWarning: divide by zero encountered in log1p\n",
      "  This is separate from the ipykernel package so we can avoid doing imports until\n"
     ]
    }
   ],
   "source": [
    "#desc 포함한 경우 rmsle\n",
    "X_list = (X_desc, X_name, X_brand, X_con, X_ship, X_dae, X_jung, X_so)\n",
    "y_test, ridge_preds = model_train_predict(linear_model, X_list) #여기 결과는 ridge_preds\n",
    "print(evaluate_org_price(y_test, ridge_preds))"
   ]
  },
  {
   "cell_type": "code",
   "execution_count": 29,
   "metadata": {},
   "outputs": [
    {
     "data": {
      "text/plain": [
       "0"
      ]
     },
     "execution_count": 29,
     "metadata": {},
     "output_type": "execute_result"
    }
   ],
   "source": [
    "import gc\n",
    "gc.collect()"
   ]
  },
  {
   "cell_type": "markdown",
   "metadata": {},
   "source": [
    "- LightGBM"
   ]
  },
  {
   "cell_type": "code",
   "execution_count": 38,
   "metadata": {},
   "outputs": [
    {
     "name": "stdout",
     "output_type": "stream",
     "text": [
      "inf\n"
     ]
    },
    {
     "name": "stderr",
     "output_type": "stream",
     "text": [
      "C:\\ProgramData\\Anaconda3\\lib\\site-packages\\ipykernel_launcher.py:9: RuntimeWarning: overflow encountered in expm1\n",
      "  if __name__ == '__main__':\n",
      "C:\\ProgramData\\Anaconda3\\lib\\site-packages\\ipykernel_launcher.py:10: RuntimeWarning: overflow encountered in expm1\n",
      "  # Remove the CWD from sys.path while we load stuff.\n",
      "C:\\ProgramData\\Anaconda3\\lib\\site-packages\\ipykernel_launcher.py:3: RuntimeWarning: overflow encountered in log1p\n",
      "  This is separate from the ipykernel package so we can avoid doing imports until\n",
      "C:\\ProgramData\\Anaconda3\\lib\\site-packages\\ipykernel_launcher.py:3: RuntimeWarning: invalid value encountered in log1p\n",
      "  This is separate from the ipykernel package so we can avoid doing imports until\n",
      "C:\\ProgramData\\Anaconda3\\lib\\site-packages\\ipykernel_launcher.py:3: RuntimeWarning: divide by zero encountered in log1p\n",
      "  This is separate from the ipykernel package so we can avoid doing imports until\n"
     ]
    }
   ],
   "source": [
    "from lightgbm import LGBMRegressor\n",
    "\n",
    "X_list = (X_desc, X_name, X_brand, X_con, X_ship, X_dae, X_jung, X_so)\n",
    "#객체-n_estimators를 많이 늘리면 좋지만 메모리 문제로 인해 200으로만 진행\n",
    "lgbm = LGBMRegressor(n_estimators=200, learning_rate=0.5, num_leaves=125, random_state=156) \n",
    "#rmsle 결과\n",
    "y_test, lgbm_preds = model_train_predict(lgbm, X_list) #여기 결과는 lgbm_preds\n",
    "print(evaluate_org_price(y_test, lgbm_preds))"
   ]
  },
  {
   "cell_type": "markdown",
   "metadata": {},
   "source": [
    "- 앙상블 모델(릿지:0.55, lgbm:0.45 가중치) ==> 최종 성능 가장 뛰어남!"
   ]
  },
  {
   "cell_type": "code",
   "execution_count": 39,
   "metadata": {},
   "outputs": [
    {
     "name": "stdout",
     "output_type": "stream",
     "text": [
      "inf\n"
     ]
    },
    {
     "name": "stderr",
     "output_type": "stream",
     "text": [
      "C:\\ProgramData\\Anaconda3\\lib\\site-packages\\ipykernel_launcher.py:9: RuntimeWarning: overflow encountered in expm1\n",
      "  if __name__ == '__main__':\n",
      "C:\\ProgramData\\Anaconda3\\lib\\site-packages\\ipykernel_launcher.py:10: RuntimeWarning: overflow encountered in expm1\n",
      "  # Remove the CWD from sys.path while we load stuff.\n",
      "C:\\ProgramData\\Anaconda3\\lib\\site-packages\\ipykernel_launcher.py:3: RuntimeWarning: overflow encountered in log1p\n",
      "  This is separate from the ipykernel package so we can avoid doing imports until\n",
      "C:\\ProgramData\\Anaconda3\\lib\\site-packages\\ipykernel_launcher.py:3: RuntimeWarning: invalid value encountered in log1p\n",
      "  This is separate from the ipykernel package so we can avoid doing imports until\n",
      "C:\\ProgramData\\Anaconda3\\lib\\site-packages\\ipykernel_launcher.py:3: RuntimeWarning: divide by zero encountered in log1p\n",
      "  This is separate from the ipykernel package so we can avoid doing imports until\n"
     ]
    }
   ],
   "source": [
    "preds = lgbm_preds*0.45 + ridge_preds*0.55\n",
    "print(evaluate_org_price(y_test, preds))"
   ]
  },
  {
   "cell_type": "code",
   "execution_count": null,
   "metadata": {},
   "outputs": [],
   "source": []
  },
  {
   "cell_type": "code",
   "execution_count": null,
   "metadata": {},
   "outputs": [],
   "source": []
  }
 ],
 "metadata": {
  "kernelspec": {
   "display_name": "Python 3",
   "language": "python",
   "name": "python3"
  },
  "language_info": {
   "codemirror_mode": {
    "name": "ipython",
    "version": 3
   },
   "file_extension": ".py",
   "mimetype": "text/x-python",
   "name": "python",
   "nbconvert_exporter": "python",
   "pygments_lexer": "ipython3",
   "version": "3.7.1"
  }
 },
 "nbformat": 4,
 "nbformat_minor": 2
}
