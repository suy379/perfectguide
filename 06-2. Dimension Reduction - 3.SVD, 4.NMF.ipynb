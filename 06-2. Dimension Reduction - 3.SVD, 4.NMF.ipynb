{
 "cells": [
  {
   "cell_type": "markdown",
   "metadata": {},
   "source": [
    "## 행렬 분해 기법(Matrix Factorization;MF) - SVD, NMF\n",
    "- 말그대로 행렬을 분해하여 서로 다른 행렬들의 내적곱의 형태로 나타내는 것을 의미.\n",
    "- 반드시 정방행렬(nxn)만 사용가능했던 PCA와는 달리, 비정방행렬(mxn)에도 사용이 가능! & 희소행렬(Sparse matrix)에 대해서도 적용가능\n",
    "- (mxn) = np.dot((mxk),(kxn))\n",
    "\n",
    "### 3. SVD(Singular Value Decomposition)\n",
    "- PCA와 유사한 행렬 분해 기법을 사용하는데, 차이점으로는\n",
    "- 많은 차원을, 특이값 분해를 통해 특이값이 0인 부분과 이에 대응하는 특이벡터들까지 제거함으로써 차원을 축소하는 기법.\n",
    "- (참고)SVD를 이용하여 차원을 축소하는 방식을 역으로 이용하면, 적은 리뷰데이터에 대해 차원을 늘려서 모르는 리뷰 점수까지 예측할 수 있는 <09.추천 시스템>에 적용 가능."
   ]
  },
  {
   "cell_type": "markdown",
   "metadata": {},
   "source": [
    "- 보통 SVD는 넘파이나 사이파이 라이브러리를 이용하여 수행함.\n",
    "- 넘파이의 SVD 모듈: numpy.linalg.svd\n",
    "- ★꼭 기억) np로 생성하는 것은 전부 ndarray"
   ]
  },
  {
   "cell_type": "code",
   "execution_count": 1,
   "metadata": {},
   "outputs": [],
   "source": [
    "import numpy as np\n",
    "from numpy.linalg import svd"
   ]
  },
  {
   "cell_type": "code",
   "execution_count": 2,
   "metadata": {},
   "outputs": [
    {
     "name": "stdout",
     "output_type": "stream",
     "text": [
      "[[-0.212 -0.285 -0.574 -0.44 ]\n",
      " [-0.33   1.184  1.615  0.367]\n",
      " [-0.014  0.63   1.71  -1.327]\n",
      " [ 0.402 -0.191  1.404 -1.969]]\n"
     ]
    }
   ],
   "source": [
    "#4x4 랜덤 행렬 a를 생성(랜덤행렬이므로 행렬a는 의존성이 없음)\n",
    "np.random.seed(121) #랜덤 패키지는 돌릴때마다 값이 바뀌어서 나오므로 seed를 항상 주어야함\n",
    "a = np.random.randn(4,4) #4x4의 정규분포를 따르는 matrix 생성\n",
    "print(np.round(a,3))"
   ]
  },
  {
   "cell_type": "code",
   "execution_count": 3,
   "metadata": {},
   "outputs": [
    {
     "name": "stdout",
     "output_type": "stream",
     "text": [
      "(4, 4) (4,) (4, 4)\n",
      " \n",
      "U: \n",
      " [[-0.079 -0.318  0.867  0.376]\n",
      " [ 0.383  0.787  0.12   0.469]\n",
      " [ 0.656  0.022  0.357 -0.664]\n",
      " [ 0.645 -0.529 -0.328  0.444]]\n",
      "Sigma Value: \n",
      " [3.423 2.023 0.463 0.079]\n",
      "V-transpose: \n",
      " [[ 0.041  0.224  0.786 -0.574]\n",
      " [-0.2    0.562  0.37   0.712]\n",
      " [-0.778  0.395 -0.333 -0.357]\n",
      " [-0.593 -0.692  0.366  0.189]]\n"
     ]
    }
   ],
   "source": [
    "##앞의 행렬 a는 svd를 이용해 분해가 가능.\n",
    "#행렬 a = U*Sigma*V.T\n",
    "U, Sigma, Vt = svd(a)\n",
    "\n",
    "print(U.shape, Sigma.shape, Vt.shape)\n",
    "print(' ')\n",
    "print('U: \\n', np.round(U, 3))\n",
    "print('Sigma Value: \\n', np.round(Sigma,3))\n",
    "print('V-transpose: \\n', np.round(Vt, 3))"
   ]
  },
  {
   "cell_type": "code",
   "execution_count": 4,
   "metadata": {},
   "outputs": [
    {
     "name": "stdout",
     "output_type": "stream",
     "text": [
      "(4, 4)\n",
      "[[-0.212 -0.285 -0.574 -0.44 ]\n",
      " [-0.33   1.184  1.615  0.367]\n",
      " [-0.014  0.63   1.71  -1.327]\n",
      " [ 0.402 -0.191  1.404 -1.969]]\n"
     ]
    }
   ],
   "source": [
    "#분해한 것을 다시 \"내적\"하여 원본 행렬 a가 나오는지 확인\n",
    "Sigma_matrix = np.diag(Sigma)\n",
    "print(Sigma_matrix.shape)\n",
    "a_ = np.dot(np.dot(U,Sigma_matrix),Vt)\n",
    "print(np.round(a_, 3)) #나온다!"
   ]
  },
  {
   "cell_type": "markdown",
   "metadata": {},
   "source": [
    "- 번외: 원본행렬 a가 의존성이 있다면? : Sigma(고유값)에 0이 등장!"
   ]
  },
  {
   "cell_type": "code",
   "execution_count": 5,
   "metadata": {},
   "outputs": [
    {
     "name": "stdout",
     "output_type": "stream",
     "text": [
      "<class 'numpy.ndarray'>\n",
      "(4, 4)\n",
      "[[-0.21203317 -0.28492917 -0.57389821 -0.44031017]\n",
      " [-0.33011056  1.18369457  1.61537293  0.36706247]\n",
      " [-0.01411931  0.6296418   1.70964074 -1.32698736]\n",
      " [ 0.40187312 -0.19142667  1.40382596 -1.96876855]]\n",
      " \n",
      "[-0.01411931  0.6296418   1.70964074 -1.32698736]\n",
      "1.7096407352946972\n"
     ]
    }
   ],
   "source": [
    "print(type(a))\n",
    "print(a.shape)\n",
    "print(a)\n",
    "print(' ')\n",
    "print(a[2]) #ndarray의 인덱싱-> [ ] ,여기서는 3번쨰 행 의미.\n",
    "print(a[2,2]) #3번째 행과 3번째 열의 원소"
   ]
  },
  {
   "cell_type": "code",
   "execution_count": 6,
   "metadata": {},
   "outputs": [
    {
     "name": "stdout",
     "output_type": "stream",
     "text": [
      "[[-0.21203317 -0.28492917 -0.57389821 -0.44031017]\n",
      " [-0.33011056  1.18369457  1.61537293  0.36706247]\n",
      " [-0.54214372  0.8987654   1.04147472 -0.0732477 ]\n",
      " [-0.21203317 -0.28492917 -0.57389821 -0.44031017]]\n"
     ]
    }
   ],
   "source": [
    "#의존성 있게 행렬 a를 업데이트-> 3번째 행과 4번째 행은 둘다 1번,2번 행과 관련이 있음.\n",
    "a[2] = a[0]+a[1]\n",
    "a[3] = a[0]\n",
    "print(a)"
   ]
  },
  {
   "cell_type": "code",
   "execution_count": 7,
   "metadata": {},
   "outputs": [
    {
     "name": "stdout",
     "output_type": "stream",
     "text": [
      "(4, 4) (4,) (4, 4)\n",
      " \n",
      "U: \n",
      " [[ 0.246  0.583 -0.071 -0.771]\n",
      " [-0.774 -0.017  0.551 -0.31 ]\n",
      " [-0.529  0.566 -0.551  0.31 ]\n",
      " [ 0.246  0.583  0.623  0.461]]\n",
      "Sigma Value: \n",
      " [2.663 0.807 0.    0.   ]\n",
      "V-transpose: \n",
      " [[ 0.164 -0.575 -0.782 -0.173]\n",
      " [-0.68   0.194 -0.132 -0.695]\n",
      " [-0.703 -0.444  0.056  0.553]\n",
      " [-0.129  0.659 -0.606  0.426]]\n"
     ]
    }
   ],
   "source": [
    "##앞의 행렬 a는 svd를 이용해 분해가 가능.\n",
    "#행렬 a = U*Sigma*V.T\n",
    "U, Sigma, Vt = svd(a)\n",
    "\n",
    "print(U.shape, Sigma.shape, Vt.shape)\n",
    "print(' ')\n",
    "print('U: \\n', np.round(U, 3))\n",
    "print('Sigma Value: \\n', np.round(Sigma,3)) #sigma의 값이 4개 중 2개가 0이 됨.\n",
    "                                            ##(이것은 선형독립인 특이값이 2개란 뜻-앞에서 2개 행을 의존성 있게 만들었으므로)\n",
    "print('V-transpose: \\n', np.round(Vt, 3))"
   ]
  },
  {
   "cell_type": "code",
   "execution_count": 8,
   "metadata": {},
   "outputs": [
    {
     "data": {
      "text/plain": [
       "array([[2.66335286, 0.        ],\n",
       "       [0.        , 0.80703506]])"
      ]
     },
     "execution_count": 8,
     "metadata": {},
     "output_type": "execute_result"
    }
   ],
   "source": [
    "np.diag(Sigma[:2]) #앞의 2개 특이값만 뗀 후 대각행렬화"
   ]
  },
  {
   "cell_type": "code",
   "execution_count": 9,
   "metadata": {},
   "outputs": [
    {
     "data": {
      "text/plain": [
       "array([[ 0.24568427,  0.58278576],\n",
       "       [-0.77441642, -0.01670951],\n",
       "       [-0.52873215,  0.56607625],\n",
       "       [ 0.24568427,  0.58278576]])"
      ]
     },
     "execution_count": 9,
     "metadata": {},
     "output_type": "execute_result"
    }
   ],
   "source": [
    "U[:,:2]"
   ]
  },
  {
   "cell_type": "code",
   "execution_count": 10,
   "metadata": {},
   "outputs": [
    {
     "data": {
      "text/plain": [
       "array([[ 0.16449395, -0.57517122, -0.78233269, -0.17342252],\n",
       "       [-0.67967123,  0.19439734, -0.13178782, -0.69490191]])"
      ]
     },
     "execution_count": 10,
     "metadata": {},
     "output_type": "execute_result"
    }
   ],
   "source": [
    "Vt[:2,:]"
   ]
  },
  {
   "cell_type": "code",
   "execution_count": 11,
   "metadata": {},
   "outputs": [
    {
     "name": "stdout",
     "output_type": "stream",
     "text": [
      "(2, 2)\n",
      "[[-0.212 -0.285 -0.574 -0.44 ]\n",
      " [-0.33   1.184  1.615  0.367]\n",
      " [-0.542  0.899  1.041 -0.073]\n",
      " [-0.212 -0.285 -0.574 -0.44 ]]\n"
     ]
    }
   ],
   "source": [
    "#분해한 것 중 특이값이 2개가 0이 되었으므로 뒤의 0을 제외하고 \"내적\"하여 원래의 행렬 a가 나오는지 확인.\n",
    "\n",
    "#시그마\n",
    "Sigma_ = np.diag(Sigma[:2])\n",
    "print(Sigma_.shape)\n",
    "#U\n",
    "U_ = U[:,:2]\n",
    "#Vt\n",
    "Vt_ = Vt[:2,:]\n",
    "\n",
    "#내적\n",
    "a_ = np.dot(np.dot(U_,Sigma_),Vt_)\n",
    "print(np.round(a_, 3))"
   ]
  },
  {
   "cell_type": "code",
   "execution_count": 12,
   "metadata": {},
   "outputs": [
    {
     "data": {
      "text/plain": [
       "array([[-0.212, -0.285, -0.574, -0.44 ],\n",
       "       [-0.33 ,  1.184,  1.615,  0.367],\n",
       "       [-0.542,  0.899,  1.041, -0.073],\n",
       "       [-0.212, -0.285, -0.574, -0.44 ]])"
      ]
     },
     "execution_count": 12,
     "metadata": {},
     "output_type": "execute_result"
    }
   ],
   "source": [
    "np.round(a,3)  #어차피 0을 제외하여 차원을 줄여 내적해도 결과값은 동일!"
   ]
  },
  {
   "cell_type": "markdown",
   "metadata": {},
   "source": [
    "### Truncated SVD\n",
    "- 일반 SVD vs Truncated SVD 비교\n",
    "- 'truncated'란 '끝을 잘라버린' 이란 뜻으로, 일반 SVD가 sigma의 특이값 중 0인 것만 제거를 하는 데 비해,\n",
    "- Truncated SVD는 sigma의 특이값 중 상위값을 제외하고 전부 제거함.=>원본 행렬과 똑같진 않지만, 근사한 행렬이 됨"
   ]
  },
  {
   "cell_type": "markdown",
   "metadata": {},
   "source": [
    "<scipy의 svd 모듈>(tsvd는 numpy에선 제공x)\n",
    "- scipy.sparse.linalg.svds -->truncated svd\n",
    "- scipy.linalg.svd -->svd"
   ]
  },
  {
   "cell_type": "code",
   "execution_count": 13,
   "metadata": {},
   "outputs": [],
   "source": [
    "import numpy as np\n",
    "from scipy.sparse.linalg import svds\n",
    "from scipy.linalg import svd"
   ]
  },
  {
   "cell_type": "code",
   "execution_count": 14,
   "metadata": {},
   "outputs": [
    {
     "name": "stdout",
     "output_type": "stream",
     "text": [
      "원본행렬: \n",
      " [[0.111 0.211 0.233 0.152 0.83  0.408]\n",
      " [0.556 0.746 0.248 0.969 0.953 0.49 ]\n",
      " [0.018 0.858 0.405 0.622 0.295 0.93 ]\n",
      " [0.406 0.567 0.246 0.226 0.038 0.581]\n",
      " [0.829 0.773 0.947 0.736 0.673 0.745]\n",
      " [0.512 0.469 0.644 0.821 0.145 0.018]]\n",
      "\n",
      " 분해 행렬 차원:  (6, 6) (6,) (6, 6)\n",
      "\n",
      " Sigma 값 행렬:  [3.2535007  0.88116505 0.83865238 0.55463089 0.35834824 0.0349925 ]\n"
     ]
    }
   ],
   "source": [
    "#원본행렬 'b'(6x6)\n",
    "np.random.seed(121)\n",
    "b = np.random.random((6,6))\n",
    "print(\"원본행렬: \\n\", np.round(b,3))\n",
    "\n",
    "#일반 svd로 분해\n",
    "U, Sigma, Vt = svd(b, full_matrices=False)\n",
    "print('\\n 분해 행렬 차원: ', U.shape, Sigma.shape, Vt.shape)\n",
    "print('\\n Sigma 값 행렬: ', Sigma) #Sigma(특이값)에 0이 없음."
   ]
  },
  {
   "cell_type": "code",
   "execution_count": 15,
   "metadata": {},
   "outputs": [
    {
     "name": "stdout",
     "output_type": "stream",
     "text": [
      "\n",
      " 분해 행렬 차원:  (6, 4) (4,) (4, 6)\n",
      "\n",
      " Sigma 값 행렬:  [0.55463089 0.83865238 0.88116505 3.2535007 ]\n"
     ]
    }
   ],
   "source": [
    "#Truncated svd로 분해-원본행렬은 특이값이 0인 게 없음. 하지만 그냥 상위 4개만 포함하고 나머지는 잘라보자.\n",
    "num_comp = 4\n",
    "U_, Sigma_, Vt_ = svds(b, k=num_comp) #truncated svd를 의미, k=개수\n",
    "print('\\n 분해 행렬 차원: ', U_.shape, Sigma_.shape, Vt_.shape)\n",
    "print('\\n Sigma 값 행렬: ', Sigma_) #6개->상위 4개만 남기고 사라짐."
   ]
  },
  {
   "cell_type": "code",
   "execution_count": 16,
   "metadata": {},
   "outputs": [
    {
     "name": "stdout",
     "output_type": "stream",
     "text": [
      "복원한 행렬: \n",
      " [[0.192 0.218 0.16  0.141 0.816 0.425]\n",
      " [0.449 0.722 0.346 0.991 0.969 0.475]\n",
      " [0.127 0.889 0.306 0.595 0.28  0.94 ]\n",
      " [0.24  0.51  0.397 0.273 0.06  0.572]\n",
      " [0.838 0.788 0.939 0.727 0.674 0.738]\n",
      " [0.597 0.48  0.566 0.807 0.131 0.035]]\n"
     ]
    }
   ],
   "source": [
    "#Truncated svd로 분해한 것을 다시 \"내적\"을 통해 원본 행렬로 반환하면?\n",
    "Sigma_diag = np.diag(Sigma_)\n",
    "b_ = np.dot(np.dot(U_,Sigma_diag),Vt_)\n",
    "print('복원한 행렬: \\n', np.round(b_, 3)) #원본과 값 차이 존재하지만 근사하게 같다."
   ]
  },
  {
   "cell_type": "markdown",
   "metadata": {},
   "source": [
    "### 사이킷런 Truncated SVD 실습- iris 데이터\n",
    "- 사이킷런 패키지의 경우 U, Sigma, Vt를 반환하지는 않음.\n",
    "- 객체, fit(), transform()"
   ]
  },
  {
   "cell_type": "code",
   "execution_count": 17,
   "metadata": {},
   "outputs": [],
   "source": [
    "from sklearn.decomposition import TruncatedSVD, PCA\n",
    "from sklearn.datasets import load_iris\n",
    "import matplotlib.pyplot as plt\n",
    "%matplotlib inline"
   ]
  },
  {
   "cell_type": "code",
   "execution_count": 18,
   "metadata": {},
   "outputs": [
    {
     "data": {
      "text/plain": [
       "array([[ 5.91274714e+00,  2.30203322e+00],\n",
       "       [ 5.57248242e+00,  1.97182599e+00],\n",
       "       [ 5.44697714e+00,  2.09520636e+00],\n",
       "       [ 5.43645948e+00,  1.87038151e+00],\n",
       "       [ 5.87564494e+00,  2.32829018e+00],\n",
       "       [ 6.47759822e+00,  2.32464996e+00],\n",
       "       [ 5.51597520e+00,  2.07090423e+00],\n",
       "       [ 5.85092859e+00,  2.14807482e+00],\n",
       "       [ 5.15891972e+00,  1.77506408e+00],\n",
       "       [ 5.64500117e+00,  1.99000106e+00],\n",
       "       [ 6.26539771e+00,  2.42576813e+00],\n",
       "       [ 5.75200785e+00,  2.02037338e+00],\n",
       "       [ 5.48058085e+00,  1.97777558e+00],\n",
       "       [ 4.95112411e+00,  2.04828749e+00],\n",
       "       [ 6.52596417e+00,  2.91606081e+00],\n",
       "       [ 6.79037199e+00,  2.82500759e+00],\n",
       "       [ 6.27239468e+00,  2.60811578e+00],\n",
       "       [ 5.92953789e+00,  2.26766614e+00],\n",
       "       [ 6.64813130e+00,  2.38959506e+00],\n",
       "       [ 6.09486463e+00,  2.36082303e+00],\n",
       "       [ 6.25397363e+00,  2.12001187e+00],\n",
       "       [ 6.07364677e+00,  2.27178150e+00],\n",
       "       [ 5.36999813e+00,  2.49808604e+00],\n",
       "       [ 6.04100482e+00,  1.87698371e+00],\n",
       "       [ 5.90591050e+00,  1.80777402e+00],\n",
       "       [ 5.75019501e+00,  1.85851056e+00],\n",
       "       [ 5.93581099e+00,  2.00847420e+00],\n",
       "       [ 6.03915884e+00,  2.25958425e+00],\n",
       "       [ 5.94984934e+00,  2.27577626e+00],\n",
       "       [ 5.60087980e+00,  1.88260699e+00],\n",
       "       [ 5.63798200e+00,  1.85635003e+00],\n",
       "       [ 6.18495337e+00,  2.19301062e+00],\n",
       "       [ 6.25041979e+00,  2.62199803e+00],\n",
       "       [ 6.47925073e+00,  2.79842433e+00],\n",
       "       [ 5.66179193e+00,  1.95563398e+00],\n",
       "       [ 5.62100870e+00,  2.25132529e+00],\n",
       "       [ 6.16188952e+00,  2.48656963e+00],\n",
       "       [ 5.78374337e+00,  2.33423977e+00],\n",
       "       [ 5.14562746e+00,  1.90060499e+00],\n",
       "       [ 5.92603941e+00,  2.17649231e+00],\n",
       "       [ 5.80312619e+00,  2.31011510e+00],\n",
       "       [ 4.97146870e+00,  1.51193425e+00],\n",
       "       [ 5.22164469e+00,  2.00995389e+00],\n",
       "       [ 6.00740111e+00,  1.99441449e+00],\n",
       "       [ 6.31685893e+00,  2.04299013e+00],\n",
       "       [ 5.51416236e+00,  1.90904141e+00],\n",
       "       [ 6.12937476e+00,  2.32432366e+00],\n",
       "       [ 5.42316721e+00,  1.99592242e+00],\n",
       "       [ 6.19028689e+00,  2.39735064e+00],\n",
       "       [ 5.76161909e+00,  2.16426683e+00],\n",
       "       [ 9.12024508e+00, -7.30558200e-02],\n",
       "       [ 8.58376916e+00, -1.36194931e-01],\n",
       "       [ 9.12651817e+00, -3.32247752e-01],\n",
       "       [ 7.27560832e+00, -4.60955955e-01],\n",
       "       [ 8.55814639e+00, -3.97341697e-01],\n",
       "       [ 7.87237747e+00, -4.85081002e-01],\n",
       "       [ 8.66605949e+00, -2.86037963e-01],\n",
       "       [ 6.45347358e+00,  2.23799845e-02],\n",
       "       [ 8.63768432e+00, -2.45515595e-01],\n",
       "       [ 7.16780021e+00, -2.91011251e-01],\n",
       "       [ 6.47915170e+00, -3.09633237e-01],\n",
       "       [ 7.97829519e+00, -1.75031916e-01],\n",
       "       [ 7.56278153e+00, -2.70441712e-01],\n",
       "       [ 8.33022188e+00, -4.92836582e-01],\n",
       "       [ 7.37356730e+00,  1.78974058e-01],\n",
       "       [ 8.70300135e+00, -3.83374315e-04],\n",
       "       [ 7.90686540e+00, -4.72883753e-01],\n",
       "       [ 7.65390386e+00, -1.24770897e-01],\n",
       "       [ 8.05346136e+00, -7.39774413e-01],\n",
       "       [ 7.34185398e+00, -1.83588948e-01],\n",
       "       [ 8.41249000e+00, -5.93982991e-01],\n",
       "       [ 7.91631631e+00, -1.70787632e-02],\n",
       "       [ 8.44780157e+00, -8.30799394e-01],\n",
       "       [ 8.25863175e+00, -4.78776871e-01],\n",
       "       [ 8.33356003e+00, -8.97512089e-02],\n",
       "       [ 8.58988192e+00, -8.34753146e-02],\n",
       "       [ 8.86928986e+00, -4.19455056e-01],\n",
       "       [ 9.02317031e+00, -5.83357800e-01],\n",
       "       [ 8.16930004e+00, -4.13888242e-01],\n",
       "       [ 7.23297912e+00,  2.17335895e-01],\n",
       "       [ 7.17743366e+00, -1.95814432e-01],\n",
       "       [ 7.10934202e+00, -9.05808962e-02],\n",
       "       [ 7.58488360e+00, -5.17721477e-02],\n",
       "       [ 8.41787888e+00, -9.82802956e-01],\n",
       "       [ 7.75664376e+00, -5.29718734e-01],\n",
       "       [ 8.37613388e+00, -1.74883073e-01],\n",
       "       [ 8.87369476e+00, -2.47349822e-01],\n",
       "       [ 8.08169840e+00, -5.17081855e-01],\n",
       "       [ 7.66808034e+00, -1.20683770e-01],\n",
       "       [ 7.35162556e+00, -3.51607055e-01],\n",
       "       [ 7.57804696e+00, -5.46031346e-01],\n",
       "       [ 8.31692961e+00, -3.67295677e-01],\n",
       "       [ 7.59817587e+00, -1.77313053e-01],\n",
       "       [ 6.49057578e+00, -3.87697543e-03],\n",
       "       [ 7.60535538e+00, -3.55573575e-01],\n",
       "       [ 7.77770129e+00, -1.28765654e-01],\n",
       "       [ 7.75648343e+00, -2.17807185e-01],\n",
       "       [ 8.18333840e+00, -1.46586189e-01],\n",
       "       [ 6.50459193e+00,  3.12121701e-01],\n",
       "       [ 7.66717393e+00, -2.01615180e-01],\n",
       "       [ 9.48408779e+00, -1.51660561e+00],\n",
       "       [ 8.31802951e+00, -1.14273918e+00],\n",
       "       [ 9.85248456e+00, -1.24495426e+00],\n",
       "       [ 9.00931450e+00, -1.21126802e+00],\n",
       "       [ 9.36730953e+00, -1.37895983e+00],\n",
       "       [ 1.05871448e+01, -1.59893200e+00],\n",
       "       [ 7.22462810e+00, -1.01391260e+00],\n",
       "       [ 1.01195289e+01, -1.42315831e+00],\n",
       "       [ 9.26032507e+00, -1.45802877e+00],\n",
       "       [ 1.03254119e+01, -1.16769130e+00],\n",
       "       [ 9.05063906e+00, -7.04811578e-01],\n",
       "       [ 8.87129618e+00, -1.11396715e+00],\n",
       "       [ 9.42194857e+00, -1.04674091e+00],\n",
       "       [ 8.13239132e+00, -1.24400619e+00],\n",
       "       [ 8.43999189e+00, -1.25990013e+00],\n",
       "       [ 9.12850228e+00, -9.78063221e-01],\n",
       "       [ 9.14624386e+00, -1.02889214e+00],\n",
       "       [ 1.10344162e+01, -1.23835244e+00],\n",
       "       [ 1.06977054e+01, -2.07054584e+00],\n",
       "       [ 8.15974415e+00, -1.15094167e+00],\n",
       "       [ 9.70925990e+00, -1.11944159e+00],\n",
       "       [ 8.12000547e+00, -1.03753388e+00],\n",
       "       [ 1.06207486e+01, -1.71636278e+00],\n",
       "       [ 8.57419106e+00, -8.24551736e-01],\n",
       "       [ 9.56346538e+00, -1.05286796e+00],\n",
       "       [ 1.00045412e+01, -1.07495308e+00],\n",
       "       [ 8.48578798e+00, -7.27428321e-01],\n",
       "       [ 8.53799528e+00, -7.17363366e-01],\n",
       "       [ 9.09678896e+00, -1.34062623e+00],\n",
       "       [ 9.79234073e+00, -9.73834912e-01],\n",
       "       [ 1.00708200e+01, -1.34204944e+00],\n",
       "       [ 1.09971537e+01, -9.00183935e-01],\n",
       "       [ 9.11357971e+00, -1.37499331e+00],\n",
       "       [ 8.66442919e+00, -8.08508955e-01],\n",
       "       [ 8.67790400e+00, -1.29465803e+00],\n",
       "       [ 1.04393327e+01, -1.28491639e+00],\n",
       "       [ 9.30010211e+00, -1.14409826e+00],\n",
       "       [ 9.10914166e+00, -1.00263518e+00],\n",
       "       [ 8.41158358e+00, -6.74914401e-01],\n",
       "       [ 9.48376712e+00, -8.92782514e-01],\n",
       "       [ 9.48651952e+00, -1.19445165e+00],\n",
       "       [ 9.36344597e+00, -7.48917309e-01],\n",
       "       [ 8.31802951e+00, -1.14273918e+00],\n",
       "       [ 9.73675086e+00, -1.28959199e+00],\n",
       "       [ 9.63062839e+00, -1.19033628e+00],\n",
       "       [ 9.22651660e+00, -9.31293195e-01],\n",
       "       [ 8.56626547e+00, -1.03913417e+00],\n",
       "       [ 9.02592271e+00, -8.85026933e-01],\n",
       "       [ 9.10559876e+00, -9.96415757e-01],\n",
       "       [ 8.49037542e+00, -9.15931258e-01]])"
      ]
     },
     "execution_count": 18,
     "metadata": {},
     "output_type": "execute_result"
    }
   ],
   "source": [
    "iris = load_iris()\n",
    "X_ftr = iris.data\n",
    "\n",
    "#2개의 component로 TruncatedSVD 반환(4개의 피처->2개의 특이값 분해)\n",
    "#객체\n",
    "tsvd = TruncatedSVD(n_components = 2)\n",
    "#학습 및 적용\n",
    "X_tsvd = tsvd.fit_transform(X_ftr)\n",
    "X_tsvd"
   ]
  },
  {
   "cell_type": "code",
   "execution_count": 19,
   "metadata": {},
   "outputs": [
    {
     "data": {
      "text/plain": [
       "Text(0, 0.5, 'TSVD Component 2')"
      ]
     },
     "execution_count": 19,
     "metadata": {},
     "output_type": "execute_result"
    },
    {
     "data": {
      "image/png": "[encoded data removed]",
      "text/plain": [
       "<Figure size 432x288 with 1 Axes>"
      ]
     },
     "metadata": {
      "needs_background": "light"
     },
     "output_type": "display_data"
    }
   ],
   "source": [
    "plt.scatter(X_tsvd[:,0], X_tsvd[:,1], c=iris.target) #c(color)는 label값으로 구분\n",
    "plt.xlabel('TSVD Component 1')\n",
    "plt.ylabel('TSVD Component 2')"
   ]
  },
  {
   "cell_type": "markdown",
   "metadata": {},
   "source": [
    "#### TSVD와 PCA 간 관계\n",
    "- 위의 값은 스케일링을 하지 않고 TSVD를 적용한 것임. \n",
    "- 그래서 스케일링까지 하고 다시 시각화를 해보면 PCA와의 그래프와 완전 비슷할 것임(왜냐면 PCA도 SVD를 적용하기 떄문)"
   ]
  },
  {
   "cell_type": "code",
   "execution_count": 20,
   "metadata": {},
   "outputs": [],
   "source": [
    "from sklearn.preprocessing import StandardScaler"
   ]
  },
  {
   "cell_type": "code",
   "execution_count": 21,
   "metadata": {},
   "outputs": [],
   "source": [
    "#1)표준화\n",
    "X_scaled = StandardScaler().fit_transform(X_ftr)\n",
    "\n",
    "#2)TSVD\n",
    "#객체\n",
    "tsvd = TruncatedSVD(n_components = 2)\n",
    "#학습 및 적용\n",
    "X_tsvd = tsvd.fit_transform(X_scaled)\n",
    "\n",
    "#PCA\n",
    "#객체\n",
    "pca = PCA(n_components = 2)\n",
    "#학습 및 적용\n",
    "X_pca = pca.fit_transform(X_scaled)"
   ]
  },
  {
   "cell_type": "code",
   "execution_count": 22,
   "metadata": {},
   "outputs": [
    {
     "data": {
      "text/plain": [
       "array([0.72962445, 0.22850762])"
      ]
     },
     "execution_count": 22,
     "metadata": {},
     "output_type": "execute_result"
    }
   ],
   "source": [
    "#3)주성분들(2개)의 변동성\n",
    "tsvd.explained_variance_ratio_  #첫번째 분산이 73%, 두번째가 23%로 전체 데이터의 96%를 설명하고 있음."
   ]
  },
  {
   "cell_type": "code",
   "execution_count": 23,
   "metadata": {},
   "outputs": [
    {
     "data": {
      "text/plain": [
       "array([[ 0.52106591, -0.26934744,  0.5804131 ,  0.56485654],\n",
       "       [ 0.37741762,  0.92329566,  0.02449161,  0.06694199]])"
      ]
     },
     "execution_count": 23,
     "metadata": {},
     "output_type": "execute_result"
    }
   ],
   "source": [
    "tsvd.components_"
   ]
  },
  {
   "cell_type": "code",
   "execution_count": 24,
   "metadata": {},
   "outputs": [
    {
     "data": {
      "image/png": "[encoded data removed]",
      "text/plain": [
       "<Figure size 864x432 with 2 Axes>"
      ]
     },
     "metadata": {
      "needs_background": "light"
     },
     "output_type": "display_data"
    }
   ],
   "source": [
    "#시각화(X_tsvd, X_pca)\n",
    "fig, (ax1, ax2) =plt.subplots(1,2, figsize=(12,6))\n",
    "\n",
    "ax1.scatter(X_tsvd[:,0], X_tsvd[:,1], c=iris.target)\n",
    "ax1.set_xlabel('TSVD Component 1')\n",
    "ax1.set_ylabel('TSVD Component 2')\n",
    "ax1.set_title('Truncated SVD')\n",
    "\n",
    "ax2.scatter(X_pca[:,0], X_pca[:,1], c=iris.target)\n",
    "ax2.set_xlabel('PCA Component 1')\n",
    "ax2.set_ylabel('PCA Component 2')\n",
    "ax2.set_title('PCA')\n",
    "\n",
    "plt.show()"
   ]
  },
  {
   "cell_type": "markdown",
   "metadata": {},
   "source": [
    "- 시각화 결과, TSVD와 PCA 수행 결과가 똑같음을 알 수 있음.\n",
    "- 더 정확하게 알기 위해서, 변환된 변동 행렬(X_tsvd, X_pca)의 차이를 한번 알아보자."
   ]
  },
  {
   "cell_type": "code",
   "execution_count": 29,
   "metadata": {},
   "outputs": [
    {
     "name": "stdout",
     "output_type": "stream",
     "text": [
      "-2.31915759744498e-15\n"
     ]
    }
   ],
   "source": [
    "print((X_tsvd - X_pca).mean()) #np.mean()안에 넣어도 되고. #암튼 값이 아주 작음(차이가 별로 안남)"
   ]
  },
  {
   "cell_type": "markdown",
   "metadata": {},
   "source": [
    "##### 모델.components_ : 주성분 벡터를 의미(벡터는 방향(부호)이 가장 중요, 출력된 값의 부호는 반대일 수 있음)\n",
    "- 각 주성분의 개수(=row개수),\n",
    "- 각 본래 X피처의 개수(=col개수)\n",
    "\n",
    "- 주성분 벡터 즉, 가장 근사 데이터를 만드는 단위기저벡터는 components_ 속성에서 구할 수 있다. 이 값은 평균을 제거한 특징행렬의 첫 번째 오른쪽 특이벡터 또는 그 행렬의 분산행렬의 첫 번째(가장 큰 고윳값에 대응하는) 고유벡터에 해당한다. 고유벡터의 부호 즉 방향은 반대가 될 수도 있다.\n",
    "- 참고: https://datascienceschool.net/view-notebook/f10aad8a34a4489697933f77c5d58e3a/ 에서 'components' 검색"
   ]
  },
  {
   "cell_type": "code",
   "execution_count": 30,
   "metadata": {},
   "outputs": [
    {
     "data": {
      "text/plain": [
       "array([[ 0.52106591, -0.26934744,  0.5804131 ,  0.56485654],\n",
       "       [ 0.37741762,  0.92329566,  0.02449161,  0.06694199]])"
      ]
     },
     "execution_count": 30,
     "metadata": {},
     "output_type": "execute_result"
    }
   ],
   "source": [
    "pca.components_ #행은 comp1, comp2를, 열은 본래의 X피처 4개를 의미. 그리고 안의 값은 바로 주성분 벡터임.\n",
    "                            #다시말해, 첫번째 행의 값은: 주성분(comp)1에서 X피처 4개가 각각 차지하고 있는 주성분벡터 값을 의미."
   ]
  },
  {
   "cell_type": "code",
   "execution_count": 31,
   "metadata": {
    "scrolled": true
   },
   "outputs": [
    {
     "data": {
      "text/plain": [
       "array([[ 0.52106591, -0.26934744,  0.5804131 ,  0.56485654],\n",
       "       [ 0.37741762,  0.92329566,  0.02449161,  0.06694199]])"
      ]
     },
     "execution_count": 31,
     "metadata": {},
     "output_type": "execute_result"
    }
   ],
   "source": [
    "tsvd.components_"
   ]
  },
  {
   "cell_type": "code",
   "execution_count": 32,
   "metadata": {},
   "outputs": [
    {
     "name": "stdout",
     "output_type": "stream",
     "text": [
      "-8.803721640582296e-17\n"
     ]
    }
   ],
   "source": [
    "print((pca.components_-tsvd.components_).mean()) #값이 아주 작음(차이가 별로 안남)"
   ]
  },
  {
   "cell_type": "markdown",
   "metadata": {},
   "source": [
    "### 4. NMF(Non-Negative Matrix Factorization)\n",
    "- 행렬 분해 방식, SVD와 비슷한 기법 사용.(그래서 mxn 행렬을 서로 다른 \"작은\" 행렬로 분할하는 방법.\n",
    "- 이런 작은 행렬들에는 '잠재요인'이 들어가 있음. (mxn) = (mxk) * (kxn) \n",
    "- SVD와 마찬가지로 <09.추천시스템>에 잠재요인 방식으로 사용된다.\n",
    "- (주의!) NMF는 이름에서도 알 수 있듯이 Non-Negative라 반드시 \"양수\"값만 가질 수 있음!!"
   ]
  },
  {
   "cell_type": "code",
   "execution_count": 25,
   "metadata": {},
   "outputs": [],
   "source": [
    "from sklearn.decomposition import NMF #NMF 로드\n",
    "from sklearn.datasets import load_iris\n",
    "import matplotlib.pyplot as plt\n",
    "%matplotlib inline"
   ]
  },
  {
   "cell_type": "code",
   "execution_count": 26,
   "metadata": {},
   "outputs": [],
   "source": [
    "iris = load_iris()\n",
    "X_ftr = iris.data"
   ]
  },
  {
   "cell_type": "code",
   "execution_count": 27,
   "metadata": {},
   "outputs": [
    {
     "data": {
      "text/plain": [
       "array([[0.10666948, 1.32441671],\n",
       "       [0.13650159, 1.1703995 ],\n",
       "       [0.10290364, 1.21005821],\n",
       "       [0.14288053, 1.12082689],\n",
       "       [0.0985986 , 1.33211468],\n",
       "       [0.15276661, 1.37327809],\n",
       "       [0.11346615, 1.20536052],\n",
       "       [0.12919018, 1.25944815],\n",
       "       [0.13555337, 1.06367809],\n",
       "       [0.13964519, 1.18267339],\n",
       "       [0.11549983, 1.39806942],\n",
       "       [0.14364001, 1.20217757],\n",
       "       [0.12725351, 1.16623037],\n",
       "       [0.06736902, 1.15649913],\n",
       "       [0.04944091, 1.60947898],\n",
       "       [0.0895253 , 1.59232474],\n",
       "       [0.08294185, 1.47032916],\n",
       "       [0.11441437, 1.31208193],\n",
       "       [0.15609896, 1.41092271],\n",
       "       [0.11216748, 1.3604248 ],\n",
       "       [0.1701153 , 1.27693825],\n",
       "       [0.12648007, 1.32388815],\n",
       "       [0.0227611 , 1.36315012],\n",
       "       [0.19540813, 1.16622033],\n",
       "       [0.19600858, 1.12938927],\n",
       "       [0.17291716, 1.13837788],\n",
       "       [0.16213616, 1.21051584],\n",
       "       [0.12562885, 1.31665785],\n",
       "       [0.11474036, 1.31671874],\n",
       "       [0.15527221, 1.13726991],\n",
       "       [0.16334309, 1.12957194],\n",
       "       [0.15069271, 1.30079424],\n",
       "       [0.07847778, 1.47420388],\n",
       "       [0.06670834, 1.55984548],\n",
       "       [0.14739009, 1.17033861],\n",
       "       [0.089957  , 1.2838327 ],\n",
       "       [0.09522602, 1.4146951 ],\n",
       "       [0.08935052, 1.32794554],\n",
       "       [0.11152948, 1.11214273],\n",
       "       [0.13069337, 1.27595206],\n",
       "       [0.095455  , 1.31984079],\n",
       "       [0.16675143, 0.94689873],\n",
       "       [0.09839409, 1.16054649],\n",
       "       [0.17105826, 1.21004818],\n",
       "       [0.18973714, 1.25103896],\n",
       "       [0.1427433 , 1.14156082],\n",
       "       [0.12187877, 1.3484968 ],\n",
       "       [0.11885665, 1.16929154],\n",
       "       [0.11399665, 1.38156551],\n",
       "       [0.11830169, 1.25950904],\n",
       "       [0.82392609, 0.61669672],\n",
       "       [0.78773951, 0.55386404],\n",
       "       [0.87164788, 0.51513063],\n",
       "       [0.73054937, 0.33349536],\n",
       "       [0.83296966, 0.44929767],\n",
       "       [0.78799821, 0.36619872],\n",
       "       [0.8223259 , 0.5007017 ],\n",
       "       [0.56953455, 0.46551748],\n",
       "       [0.81241536, 0.514673  ],\n",
       "       [0.69005774, 0.39271914],\n",
       "       [0.6322209 , 0.33668834],\n",
       "       [0.74099041, 0.49572905],\n",
       "       [0.7213983 , 0.42881733],\n",
       "       [0.83010053, 0.39555592],\n",
       "       [0.62282162, 0.5922616 ],\n",
       "       [0.77361567, 0.61577142],\n",
       "       [0.78884943, 0.37342902],\n",
       "       [0.70300964, 0.49255614],\n",
       "       [0.85041009, 0.27883745],\n",
       "       [0.68597118, 0.44733533],\n",
       "       [0.85582685, 0.36155188],\n",
       "       [0.70672999, 0.55352819],\n",
       "       [0.90203495, 0.27089592],\n",
       "       [0.82117843, 0.39602359],\n",
       "       [0.75704042, 0.55445349],\n",
       "       [0.77868018, 0.57506564],\n",
       "       [0.8646467 , 0.46261863],\n",
       "       [0.90815519, 0.40898862],\n",
       "       [0.80142986, 0.41524277],\n",
       "       [0.60333701, 0.59742696],\n",
       "       [0.6735795 , 0.43089231],\n",
       "       [0.64837841, 0.46748985],\n",
       "       [0.68358705, 0.51641213],\n",
       "       [0.92704729, 0.20892764],\n",
       "       [0.78584306, 0.34042121],\n",
       "       [0.77633628, 0.52391739],\n",
       "       [0.83372913, 0.53064835],\n",
       "       [0.8123996 , 0.36847555],\n",
       "       [0.70353487, 0.49514964],\n",
       "       [0.71741398, 0.38189911],\n",
       "       [0.77292615, 0.32138469],\n",
       "       [0.80607664, 0.44402056],\n",
       "       [0.70761094, 0.46794748],\n",
       "       [0.57760543, 0.45781951],\n",
       "       [0.74069415, 0.39828124],\n",
       "       [0.71474935, 0.49972555],\n",
       "       [0.72906194, 0.4631889 ],\n",
       "       [0.75403405, 0.52144567],\n",
       "       [0.52134955, 0.5831807 ],\n",
       "       [0.71817345, 0.46324979],\n",
       "       [1.11896044, 0.07427277],\n",
       "       [0.94727561, 0.13891551],\n",
       "       [1.10225322, 0.20730026],\n",
       "       [1.02119219, 0.16085974],\n",
       "       [1.08352283, 0.12020481],\n",
       "       [1.23196248, 0.11998042],\n",
       "       [0.82665541, 0.11222274],\n",
       "       [1.15841736, 0.15605944],\n",
       "       [1.08838809, 0.08154232],\n",
       "       [1.1302422 , 0.2711508 ],\n",
       "       [0.93270431, 0.36311748],\n",
       "       [0.99120709, 0.18941342],\n",
       "       [1.02791891, 0.2548396 ],\n",
       "       [0.94919652, 0.08593584],\n",
       "       [0.97943239, 0.10144353],\n",
       "       [0.9893482 , 0.26108372],\n",
       "       [1.00017467, 0.2423322 ],\n",
       "       [1.20612518, 0.29350181],\n",
       "       [1.30380576, 0.        ],\n",
       "       [0.93468468, 0.12451579],\n",
       "       [1.06668888, 0.24655219],\n",
       "       [0.91053406, 0.16630034],\n",
       "       [1.25631235, 0.07615258],\n",
       "       [0.91213425, 0.28229536],\n",
       "       [1.04162502, 0.26241579],\n",
       "       [1.08484252, 0.28494947],\n",
       "       [0.88660718, 0.31425609],\n",
       "       [0.8894248 , 0.32189317],\n",
       "       [1.05249776, 0.11615745],\n",
       "       [1.04757574, 0.30974079],\n",
       "       [1.13932076, 0.18455223],\n",
       "       [1.14127319, 0.42396747],\n",
       "       [1.06024265, 0.10382268],\n",
       "       [0.91724425, 0.29497601],\n",
       "       [1.00690933, 0.10458538],\n",
       "       [1.1616745 , 0.23312862],\n",
       "       [1.03482309, 0.20786049],\n",
       "       [0.99210379, 0.25003017],\n",
       "       [0.87046542, 0.32965203],\n",
       "       [1.00539821, 0.31980816],\n",
       "       [1.06053891, 0.20127049],\n",
       "       [0.96851943, 0.36792692],\n",
       "       [0.94727561, 0.13891551],\n",
       "       [1.10009807, 0.18152274],\n",
       "       [1.0726046 , 0.21307671],\n",
       "       [0.98953695, 0.28645446],\n",
       "       [0.95047073, 0.19729406],\n",
       "       [0.96329589, 0.29045096],\n",
       "       [0.99066263, 0.25221689],\n",
       "       [0.92133081, 0.24035982]])"
      ]
     },
     "execution_count": 27,
     "metadata": {},
     "output_type": "execute_result"
    }
   ],
   "source": [
    "#NMF 수행\n",
    "#객체\n",
    "nmf = NMF(n_components=2)\n",
    "#학습 및 적용\n",
    "X_nmf = nmf.fit_transform(X_ftr)\n",
    "X_nmf"
   ]
  },
  {
   "cell_type": "code",
   "execution_count": 28,
   "metadata": {},
   "outputs": [
    {
     "data": {
      "text/plain": [
       "Text(0, 0.5, 'NMF Component 2')"
      ]
     },
     "execution_count": 28,
     "metadata": {},
     "output_type": "execute_result"
    },
    {
     "data": {
      "image/png": "[encoded data removed]",
      "text/plain": [
       "<Figure size 432x288 with 1 Axes>"
      ]
     },
     "metadata": {
      "needs_background": "light"
     },
     "output_type": "display_data"
    }
   ],
   "source": [
    "plt.scatter(X_nmf[:,0], X_nmf[:,1], c=iris.target) #c(color)는 label값으로 구분\n",
    "plt.xlabel('NMF Component 1')\n",
    "plt.ylabel('NMF Component 2')"
   ]
  },
  {
   "cell_type": "markdown",
   "metadata": {},
   "source": [
    "- 스케일링을 적용하고 결과를 반환!(svd와 비교)\n",
    "- (주의) NMF는 음수값이 있으면 안되기때문에 표준화가 아닌 정규화를 적용.\n",
    "- 그리고 NMF는 모델.explained_variance_ratio_를 사용할 수 없음."
   ]
  },
  {
   "cell_type": "code",
   "execution_count": 29,
   "metadata": {},
   "outputs": [],
   "source": [
    "#1)정규화(표준화를 적용하려 했는데 nmf는 음수값이 들어가면 적용을 할수가없음. but 표준화하면 음수값이 있기때문에(N(0,1)따르니까..))\n",
    "     #음수값이 없는 minmax로 정규화!\n",
    "from sklearn.preprocessing import MinMaxScaler\n",
    "X_scaled = MinMaxScaler().fit_transform(X_ftr)\n",
    "\n",
    "#2)NMF\n",
    "#객체\n",
    "nmf = NMF(n_components=2)\n",
    "#학습 및 적용\n",
    "X_nmf = nmf.fit_transform(X_scaled)"
   ]
  },
  {
   "cell_type": "code",
   "execution_count": 30,
   "metadata": {},
   "outputs": [
    {
     "data": {
      "text/plain": [
       "array([[1.46139603, 0.20880569, 2.01832621, 2.04206161],\n",
       "       [0.63669077, 2.32400399, 0.05362373, 0.        ]])"
      ]
     },
     "execution_count": 30,
     "metadata": {},
     "output_type": "execute_result"
    }
   ],
   "source": [
    "nmf.components_"
   ]
  },
  {
   "cell_type": "code",
   "execution_count": 31,
   "metadata": {},
   "outputs": [
    {
     "data": {
      "text/plain": [
       "Text(0, 0.5, 'NMF Component 2')"
      ]
     },
     "execution_count": 31,
     "metadata": {},
     "output_type": "execute_result"
    },
    {
     "data": {
      "image/png": "[encoded data removed]",
      "text/plain": [
       "<Figure size 432x288 with 1 Axes>"
      ]
     },
     "metadata": {
      "needs_background": "light"
     },
     "output_type": "display_data"
    }
   ],
   "source": [
    "plt.scatter(X_nmf[:,0], X_nmf[:,1], c=iris.target) #c(color)는 label값으로 구분\n",
    "plt.xlabel('NMF Component 1')\n",
    "plt.ylabel('NMF Component 2')"
   ]
  },
  {
   "cell_type": "code",
   "execution_count": 32,
   "metadata": {},
   "outputs": [],
   "source": [
    "#2)TSVD-얘한테도 정규화를 적용한 후 비교\n",
    "#객체\n",
    "tsvd = TruncatedSVD(n_components = 2)\n",
    "#학습 및 적용\n",
    "X_tsvd = tsvd.fit_transform(X_scaled)"
   ]
  },
  {
   "cell_type": "code",
   "execution_count": 33,
   "metadata": {},
   "outputs": [
    {
     "data": {
      "image/png": "[encoded data removed]",
      "text/plain": [
       "<Figure size 864x432 with 2 Axes>"
      ]
     },
     "metadata": {
      "needs_background": "light"
     },
     "output_type": "display_data"
    }
   ],
   "source": [
    "#시각화(X_tsvd, X_pca)\n",
    "fig, (ax1, ax2) =plt.subplots(1,2, figsize=(12,6))\n",
    "\n",
    "ax1.scatter(X_tsvd[:,0], X_tsvd[:,1], c=iris.target)\n",
    "ax1.set_xlabel('TSVD Component 1')\n",
    "ax1.set_ylabel('TSVD Component 2')\n",
    "ax1.set_title('Truncated SVD')\n",
    "\n",
    "ax2.scatter(X_nmf[:,0], X_nmf[:,1], c=iris.target)\n",
    "ax2.set_xlabel('NMF Component 1')\n",
    "ax2.set_ylabel('NMF Component 2')\n",
    "ax2.set_title('NMF')\n",
    "\n",
    "plt.show() #결과가 좀 비슷하나 다르다."
   ]
  },
  {
   "cell_type": "code",
   "execution_count": null,
   "metadata": {},
   "outputs": [],
   "source": []
  },
  {
   "cell_type": "code",
   "execution_count": null,
   "metadata": {},
   "outputs": [],
   "source": []
  }
 ],
 "metadata": {
  "kernelspec": {
   "display_name": "Python 3",
   "language": "python",
   "name": "python3"
  },
  "language_info": {
   "codemirror_mode": {
    "name": "ipython",
    "version": 3
   },
   "file_extension": ".py",
   "mimetype": "text/x-python",
   "name": "python",
   "nbconvert_exporter": "python",
   "pygments_lexer": "ipython3",
   "version": "3.7.1"
  }
 },
 "nbformat": 4,
 "nbformat_minor": 2
}
