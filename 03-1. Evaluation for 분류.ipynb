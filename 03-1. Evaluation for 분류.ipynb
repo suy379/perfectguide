{
 "cells": [
  {
   "cell_type": "markdown",
   "metadata": {},
   "source": [
    "# 분류의 성능 평가 지표(Evaluation Metric)"
   ]
  },
  {
   "cell_type": "markdown",
   "metadata": {},
   "source": [
    "- 정확도(accuracy)\n",
    "- 오차행렬(confusion matrix)\n",
    "- 정밀도(precision)\n",
    "- 재현율(recall)\n",
    "- F1 score\n",
    "- ROC/AUC"
   ]
  },
  {
   "cell_type": "code",
   "execution_count": null,
   "metadata": {},
   "outputs": [],
   "source": [
    "- 이진 분류, 멀티 분류 모두에 적용되지만 특히 '이진 분류'에서 더 중요!"
   ]
  },
  {
   "cell_type": "markdown",
   "metadata": {},
   "source": [
    "# 정확도(accuracy)\n",
    "#실제 데이터에서 예측 데이터가 얼마나 같은지? (y_test와 pred가 얼마나 겹치는지?)"
   ]
  },
  {
   "cell_type": "code",
   "execution_count": 1,
   "metadata": {},
   "outputs": [],
   "source": [
    "import pandas as pd\n",
    "from sklearn.model_selection import train_test_split\n",
    "from sklearn.metrics import accuracy_score"
   ]
  },
  {
   "cell_type": "code",
   "execution_count": 2,
   "metadata": {},
   "outputs": [
    {
     "data": {
      "text/html": [
       "<div>\n",
       "<style scoped>\n",
       "    .dataframe tbody tr th:only-of-type {\n",
       "        vertical-align: middle;\n",
       "    }\n",
       "\n",
       "    .dataframe tbody tr th {\n",
       "        vertical-align: top;\n",
       "    }\n",
       "\n",
       "    .dataframe thead th {\n",
       "        text-align: right;\n",
       "    }\n",
       "</style>\n",
       "<table border=\"1\" class=\"dataframe\">\n",
       "  <thead>\n",
       "    <tr style=\"text-align: right;\">\n",
       "      <th></th>\n",
       "      <th>PassengerId</th>\n",
       "      <th>Survived</th>\n",
       "      <th>Pclass</th>\n",
       "      <th>Name</th>\n",
       "      <th>Sex</th>\n",
       "      <th>Age</th>\n",
       "      <th>SibSp</th>\n",
       "      <th>Parch</th>\n",
       "      <th>Ticket</th>\n",
       "      <th>Fare</th>\n",
       "      <th>Cabin</th>\n",
       "      <th>Embarked</th>\n",
       "    </tr>\n",
       "  </thead>\n",
       "  <tbody>\n",
       "    <tr>\n",
       "      <th>0</th>\n",
       "      <td>1</td>\n",
       "      <td>0</td>\n",
       "      <td>3</td>\n",
       "      <td>Braund, Mr. Owen Harris</td>\n",
       "      <td>male</td>\n",
       "      <td>22.0</td>\n",
       "      <td>1</td>\n",
       "      <td>0</td>\n",
       "      <td>A/5 21171</td>\n",
       "      <td>7.2500</td>\n",
       "      <td>NaN</td>\n",
       "      <td>S</td>\n",
       "    </tr>\n",
       "    <tr>\n",
       "      <th>1</th>\n",
       "      <td>2</td>\n",
       "      <td>1</td>\n",
       "      <td>1</td>\n",
       "      <td>Cumings, Mrs. John Bradley (Florence Briggs Th...</td>\n",
       "      <td>female</td>\n",
       "      <td>38.0</td>\n",
       "      <td>1</td>\n",
       "      <td>0</td>\n",
       "      <td>PC 17599</td>\n",
       "      <td>71.2833</td>\n",
       "      <td>C85</td>\n",
       "      <td>C</td>\n",
       "    </tr>\n",
       "    <tr>\n",
       "      <th>2</th>\n",
       "      <td>3</td>\n",
       "      <td>1</td>\n",
       "      <td>3</td>\n",
       "      <td>Heikkinen, Miss. Laina</td>\n",
       "      <td>female</td>\n",
       "      <td>26.0</td>\n",
       "      <td>0</td>\n",
       "      <td>0</td>\n",
       "      <td>STON/O2. 3101282</td>\n",
       "      <td>7.9250</td>\n",
       "      <td>NaN</td>\n",
       "      <td>S</td>\n",
       "    </tr>\n",
       "    <tr>\n",
       "      <th>3</th>\n",
       "      <td>4</td>\n",
       "      <td>1</td>\n",
       "      <td>1</td>\n",
       "      <td>Futrelle, Mrs. Jacques Heath (Lily May Peel)</td>\n",
       "      <td>female</td>\n",
       "      <td>35.0</td>\n",
       "      <td>1</td>\n",
       "      <td>0</td>\n",
       "      <td>113803</td>\n",
       "      <td>53.1000</td>\n",
       "      <td>C123</td>\n",
       "      <td>S</td>\n",
       "    </tr>\n",
       "    <tr>\n",
       "      <th>4</th>\n",
       "      <td>5</td>\n",
       "      <td>0</td>\n",
       "      <td>3</td>\n",
       "      <td>Allen, Mr. William Henry</td>\n",
       "      <td>male</td>\n",
       "      <td>35.0</td>\n",
       "      <td>0</td>\n",
       "      <td>0</td>\n",
       "      <td>373450</td>\n",
       "      <td>8.0500</td>\n",
       "      <td>NaN</td>\n",
       "      <td>S</td>\n",
       "    </tr>\n",
       "  </tbody>\n",
       "</table>\n",
       "</div>"
      ],
      "text/plain": [
       "   PassengerId  Survived  Pclass  \\\n",
       "0            1         0       3   \n",
       "1            2         1       1   \n",
       "2            3         1       3   \n",
       "3            4         1       1   \n",
       "4            5         0       3   \n",
       "\n",
       "                                                Name     Sex   Age  SibSp  \\\n",
       "0                            Braund, Mr. Owen Harris    male  22.0      1   \n",
       "1  Cumings, Mrs. John Bradley (Florence Briggs Th...  female  38.0      1   \n",
       "2                             Heikkinen, Miss. Laina  female  26.0      0   \n",
       "3       Futrelle, Mrs. Jacques Heath (Lily May Peel)  female  35.0      1   \n",
       "4                           Allen, Mr. William Henry    male  35.0      0   \n",
       "\n",
       "   Parch            Ticket     Fare Cabin Embarked  \n",
       "0      0         A/5 21171   7.2500   NaN        S  \n",
       "1      0          PC 17599  71.2833   C85        C  \n",
       "2      0  STON/O2. 3101282   7.9250   NaN        S  \n",
       "3      0            113803  53.1000  C123        S  \n",
       "4      0            373450   8.0500   NaN        S  "
      ]
     },
     "execution_count": 2,
     "metadata": {},
     "output_type": "execute_result"
    }
   ],
   "source": [
    "data=pd.read_csv('01/train.csv')\n",
    "data.head()"
   ]
  },
  {
   "cell_type": "code",
   "execution_count": 3,
   "metadata": {},
   "outputs": [],
   "source": [
    "#데이터 전처리 함수를 만들어보자\n",
    "\n",
    "#결측값 처리\n",
    "def fillna(df):\n",
    "    df['Age'].fillna(df['Age'].mean(),inplace=True)\n",
    "    df['Cabin'].fillna('N',inplace=True)\n",
    "    df['Embarked'].fillna('N',inplace=True)\n",
    "    df['Fare'].fillna(0, inplace=True)\n",
    "    return df\n",
    "\n",
    "#불필요 컬럼 제거\n",
    "def drop(df):\n",
    "    df.drop(['PassengerId','Name','Ticket'],axis=1, inplace=True)\n",
    "    return df\n",
    "\n",
    "#레이블 인코딩\n",
    "from sklearn.preprocessing import LabelEncoder\n",
    "\n",
    "def label_encoding(df):\n",
    "    df['Cabin']=df['Cabin'].str[:1]\n",
    "    features=['Cabin','Sex','Embarked']\n",
    "    for feature in features:\n",
    "        le=LabelEncoder()\n",
    "        le=le.fit(df[feature])\n",
    "        df[feature]=le.transform(df[feature])\n",
    "    return df\n",
    "\n",
    "#앞의 데이터 전처리 함수 모두 모은 함수 정의('transform_features')\n",
    "def transform_features(df):\n",
    "    df=fillna(df)\n",
    "    df=drop(df)\n",
    "    df=label_encoding(df)\n",
    "    return df"
   ]
  },
  {
   "cell_type": "code",
   "execution_count": 4,
   "metadata": {},
   "outputs": [
    {
     "data": {
      "text/html": [
       "<div>\n",
       "<style scoped>\n",
       "    .dataframe tbody tr th:only-of-type {\n",
       "        vertical-align: middle;\n",
       "    }\n",
       "\n",
       "    .dataframe tbody tr th {\n",
       "        vertical-align: top;\n",
       "    }\n",
       "\n",
       "    .dataframe thead th {\n",
       "        text-align: right;\n",
       "    }\n",
       "</style>\n",
       "<table border=\"1\" class=\"dataframe\">\n",
       "  <thead>\n",
       "    <tr style=\"text-align: right;\">\n",
       "      <th></th>\n",
       "      <th>Survived</th>\n",
       "      <th>Pclass</th>\n",
       "      <th>Sex</th>\n",
       "      <th>Age</th>\n",
       "      <th>SibSp</th>\n",
       "      <th>Parch</th>\n",
       "      <th>Fare</th>\n",
       "      <th>Cabin</th>\n",
       "      <th>Embarked</th>\n",
       "    </tr>\n",
       "  </thead>\n",
       "  <tbody>\n",
       "    <tr>\n",
       "      <th>0</th>\n",
       "      <td>0</td>\n",
       "      <td>3</td>\n",
       "      <td>1</td>\n",
       "      <td>22.0</td>\n",
       "      <td>1</td>\n",
       "      <td>0</td>\n",
       "      <td>7.2500</td>\n",
       "      <td>7</td>\n",
       "      <td>3</td>\n",
       "    </tr>\n",
       "    <tr>\n",
       "      <th>1</th>\n",
       "      <td>1</td>\n",
       "      <td>1</td>\n",
       "      <td>0</td>\n",
       "      <td>38.0</td>\n",
       "      <td>1</td>\n",
       "      <td>0</td>\n",
       "      <td>71.2833</td>\n",
       "      <td>2</td>\n",
       "      <td>0</td>\n",
       "    </tr>\n",
       "    <tr>\n",
       "      <th>2</th>\n",
       "      <td>1</td>\n",
       "      <td>3</td>\n",
       "      <td>0</td>\n",
       "      <td>26.0</td>\n",
       "      <td>0</td>\n",
       "      <td>0</td>\n",
       "      <td>7.9250</td>\n",
       "      <td>7</td>\n",
       "      <td>3</td>\n",
       "    </tr>\n",
       "    <tr>\n",
       "      <th>3</th>\n",
       "      <td>1</td>\n",
       "      <td>1</td>\n",
       "      <td>0</td>\n",
       "      <td>35.0</td>\n",
       "      <td>1</td>\n",
       "      <td>0</td>\n",
       "      <td>53.1000</td>\n",
       "      <td>2</td>\n",
       "      <td>3</td>\n",
       "    </tr>\n",
       "    <tr>\n",
       "      <th>4</th>\n",
       "      <td>0</td>\n",
       "      <td>3</td>\n",
       "      <td>1</td>\n",
       "      <td>35.0</td>\n",
       "      <td>0</td>\n",
       "      <td>0</td>\n",
       "      <td>8.0500</td>\n",
       "      <td>7</td>\n",
       "      <td>3</td>\n",
       "    </tr>\n",
       "  </tbody>\n",
       "</table>\n",
       "</div>"
      ],
      "text/plain": [
       "   Survived  Pclass  Sex   Age  SibSp  Parch     Fare  Cabin  Embarked\n",
       "0         0       3    1  22.0      1      0   7.2500      7         3\n",
       "1         1       1    0  38.0      1      0  71.2833      2         0\n",
       "2         1       3    0  26.0      0      0   7.9250      7         3\n",
       "3         1       1    0  35.0      1      0  53.1000      2         3\n",
       "4         0       3    1  35.0      0      0   8.0500      7         3"
      ]
     },
     "execution_count": 4,
     "metadata": {},
     "output_type": "execute_result"
    }
   ],
   "source": [
    "new_df=transform_features(data)\n",
    "new_df.head() #전처리 완료!"
   ]
  },
  {
   "cell_type": "code",
   "execution_count": 5,
   "metadata": {},
   "outputs": [
    {
     "data": {
      "text/plain": [
       "Index(['Survived', 'Pclass', 'Sex', 'Age', 'SibSp', 'Parch', 'Fare', 'Cabin',\n",
       "       'Embarked'],\n",
       "      dtype='object')"
      ]
     },
     "execution_count": 5,
     "metadata": {},
     "output_type": "execute_result"
    }
   ],
   "source": [
    "new_df.columns"
   ]
  },
  {
   "cell_type": "code",
   "execution_count": 6,
   "metadata": {},
   "outputs": [],
   "source": [
    "y_df=new_df['Survived']\n",
    "X_df=new_df.drop(['Survived'],axis=1)\n",
    "\n",
    "X_train, X_test, y_train, y_test = train_test_split(X_df,y_df, test_size=0.2, random_state=0) #순서주의! x 다음 y 순서로 쪼개야함!"
   ]
  },
  {
   "cell_type": "code",
   "execution_count": 7,
   "metadata": {},
   "outputs": [],
   "source": [
    "#단순히 성별(sex)이 1이면 0(사망), 아니면 1(생존)으로 예측하는 분류모델을 만들어보자.\n",
    "from sklearn.base import BaseEstimator ##BaseEstimator를 사용하면 직접 우리가 ML 모델을 만들 수 있다.\n",
    "import numpy as np\n",
    "\n",
    "#'MyDummyClassifer()' 또한 하나의 분류 ML 모델이라고 생각.\n",
    "class MyDummyClassifier(BaseEstimator):\n",
    "    def fit(self, X, y=None): #X_train, y_train 셋을 넣음\n",
    "        pass #fit을 시켜봤자 학습 안시키고 넘어감\n",
    "    def predict(self, X): #predict의 경우, 성별이 1이면 0, 아니면 1로 예측해버림 #X_test 셋을 넣음\n",
    "        pred = np.zeros( (X.shape[0],1) )\n",
    "        for i in range(X.shape[0]):\n",
    "            if X['Sex'].iloc[i]==1:\n",
    "                pred[i] = 0\n",
    "            else:\n",
    "                pred[i] = 1\n",
    "        return pred\n",
    "    "
   ]
  },
  {
   "cell_type": "code",
   "execution_count": 8,
   "metadata": {},
   "outputs": [],
   "source": [
    "#객체\n",
    "myclf=MyDummyClassifier()\n",
    "#학습\n",
    "myclf.fit(X_train, y_train)"
   ]
  },
  {
   "cell_type": "code",
   "execution_count": 9,
   "metadata": {},
   "outputs": [
    {
     "data": {
      "text/plain": [
       "0.7877094972067039"
      ]
     },
     "execution_count": 9,
     "metadata": {},
     "output_type": "execute_result"
    }
   ],
   "source": [
    "#예측\n",
    "pred=myclf.predict(X_test) \n",
    "#평가-정확도\n",
    "accuracy_score(y_test,pred) #그저 성별에 따라서 막 짠 분류모델인데도 정확도가 78%임.. \n",
    "\n",
    "#그러니 정확도(accuracy)만을 평가지표로 삼기엔 무리!"
   ]
  },
  {
   "cell_type": "code",
   "execution_count": 10,
   "metadata": {},
   "outputs": [],
   "source": [
    "#MNIST 데이터를 이용해 7과 7이 아닌 데이터셋으로 이진 분류를 해보자.\n",
    "##역시 위의 'MyDummyClassifier'처럼, 그냥 전부 0으로 예측해버리는 분류모델을 쓰겠음\n",
    "\n",
    "from sklearn.datasets import load_digits\n",
    "from sklearn.model_selection import train_test_split\n",
    "from sklearn.base import BaseEstimator\n",
    "from sklearn.metrics import accuracy_score\n",
    "import numpy as np\n",
    "import pandas as pd"
   ]
  },
  {
   "cell_type": "code",
   "execution_count": 11,
   "metadata": {},
   "outputs": [],
   "source": [
    "digits=load_digits()"
   ]
  },
  {
   "cell_type": "code",
   "execution_count": 12,
   "metadata": {},
   "outputs": [
    {
     "data": {
      "text/plain": [
       "dict_keys(['data', 'target', 'target_names', 'images', 'DESCR'])"
      ]
     },
     "execution_count": 12,
     "metadata": {},
     "output_type": "execute_result"
    }
   ],
   "source": [
    "digits.keys()"
   ]
  },
  {
   "cell_type": "code",
   "execution_count": 19,
   "metadata": {},
   "outputs": [
    {
     "data": {
      "text/html": [
       "<div>\n",
       "<style scoped>\n",
       "    .dataframe tbody tr th:only-of-type {\n",
       "        vertical-align: middle;\n",
       "    }\n",
       "\n",
       "    .dataframe tbody tr th {\n",
       "        vertical-align: top;\n",
       "    }\n",
       "\n",
       "    .dataframe thead th {\n",
       "        text-align: right;\n",
       "    }\n",
       "</style>\n",
       "<table border=\"1\" class=\"dataframe\">\n",
       "  <thead>\n",
       "    <tr style=\"text-align: right;\">\n",
       "      <th></th>\n",
       "      <th>0</th>\n",
       "    </tr>\n",
       "  </thead>\n",
       "  <tbody>\n",
       "    <tr>\n",
       "      <th>0</th>\n",
       "      <td>0</td>\n",
       "    </tr>\n",
       "    <tr>\n",
       "      <th>1</th>\n",
       "      <td>1</td>\n",
       "    </tr>\n",
       "    <tr>\n",
       "      <th>2</th>\n",
       "      <td>2</td>\n",
       "    </tr>\n",
       "    <tr>\n",
       "      <th>3</th>\n",
       "      <td>3</td>\n",
       "    </tr>\n",
       "    <tr>\n",
       "      <th>4</th>\n",
       "      <td>4</td>\n",
       "    </tr>\n",
       "    <tr>\n",
       "      <th>5</th>\n",
       "      <td>5</td>\n",
       "    </tr>\n",
       "    <tr>\n",
       "      <th>6</th>\n",
       "      <td>6</td>\n",
       "    </tr>\n",
       "    <tr>\n",
       "      <th>7</th>\n",
       "      <td>7</td>\n",
       "    </tr>\n",
       "    <tr>\n",
       "      <th>8</th>\n",
       "      <td>8</td>\n",
       "    </tr>\n",
       "    <tr>\n",
       "      <th>9</th>\n",
       "      <td>9</td>\n",
       "    </tr>\n",
       "  </tbody>\n",
       "</table>\n",
       "</div>"
      ],
      "text/plain": [
       "   0\n",
       "0  0\n",
       "1  1\n",
       "2  2\n",
       "3  3\n",
       "4  4\n",
       "5  5\n",
       "6  6\n",
       "7  7\n",
       "8  8\n",
       "9  9"
      ]
     },
     "execution_count": 19,
     "metadata": {},
     "output_type": "execute_result"
    }
   ],
   "source": [
    "pd.DataFrame(digits.target).head(10)"
   ]
  },
  {
   "cell_type": "code",
   "execution_count": 17,
   "metadata": {},
   "outputs": [
    {
     "data": {
      "text/plain": [
       "array([0, 0, 0, ..., 0, 0, 0])"
      ]
     },
     "execution_count": 17,
     "metadata": {},
     "output_type": "execute_result"
    }
   ],
   "source": [
    "(digits.target==7).astype(int)\n",
    "#(digits.target==7) : boolean\n",
    "#(digits.target==7).astype(int) : int(7인 것만 1, 아닌 것은 0)"
   ]
  },
  {
   "cell_type": "code",
   "execution_count": 20,
   "metadata": {},
   "outputs": [
    {
     "data": {
      "text/html": [
       "<div>\n",
       "<style scoped>\n",
       "    .dataframe tbody tr th:only-of-type {\n",
       "        vertical-align: middle;\n",
       "    }\n",
       "\n",
       "    .dataframe tbody tr th {\n",
       "        vertical-align: top;\n",
       "    }\n",
       "\n",
       "    .dataframe thead th {\n",
       "        text-align: right;\n",
       "    }\n",
       "</style>\n",
       "<table border=\"1\" class=\"dataframe\">\n",
       "  <thead>\n",
       "    <tr style=\"text-align: right;\">\n",
       "      <th></th>\n",
       "      <th>0</th>\n",
       "    </tr>\n",
       "  </thead>\n",
       "  <tbody>\n",
       "    <tr>\n",
       "      <th>0</th>\n",
       "      <td>0</td>\n",
       "    </tr>\n",
       "    <tr>\n",
       "      <th>1</th>\n",
       "      <td>0</td>\n",
       "    </tr>\n",
       "    <tr>\n",
       "      <th>2</th>\n",
       "      <td>0</td>\n",
       "    </tr>\n",
       "    <tr>\n",
       "      <th>3</th>\n",
       "      <td>0</td>\n",
       "    </tr>\n",
       "    <tr>\n",
       "      <th>4</th>\n",
       "      <td>0</td>\n",
       "    </tr>\n",
       "    <tr>\n",
       "      <th>5</th>\n",
       "      <td>0</td>\n",
       "    </tr>\n",
       "    <tr>\n",
       "      <th>6</th>\n",
       "      <td>0</td>\n",
       "    </tr>\n",
       "    <tr>\n",
       "      <th>7</th>\n",
       "      <td>1</td>\n",
       "    </tr>\n",
       "    <tr>\n",
       "      <th>8</th>\n",
       "      <td>0</td>\n",
       "    </tr>\n",
       "    <tr>\n",
       "      <th>9</th>\n",
       "      <td>0</td>\n",
       "    </tr>\n",
       "  </tbody>\n",
       "</table>\n",
       "</div>"
      ],
      "text/plain": [
       "   0\n",
       "0  0\n",
       "1  0\n",
       "2  0\n",
       "3  0\n",
       "4  0\n",
       "5  0\n",
       "6  0\n",
       "7  1\n",
       "8  0\n",
       "9  0"
      ]
     },
     "execution_count": 20,
     "metadata": {},
     "output_type": "execute_result"
    }
   ],
   "source": [
    "y=(digits.target==7).astype(int) #7은 1, 나머지는 0 변환\n",
    "pd.DataFrame(y).head(10)"
   ]
  },
  {
   "cell_type": "code",
   "execution_count": 25,
   "metadata": {},
   "outputs": [],
   "source": [
    "#digit 번호가 7번이면 True고 이를 astype(int)로 1로 변환. 그 외 0(False)\n",
    "y=(digits.target==7).astype(int)\n",
    "X_train, X_test, y_train, y_test = train_test_split(digits.data, y, random_state=11)"
   ]
  },
  {
   "cell_type": "code",
   "execution_count": 26,
   "metadata": {},
   "outputs": [
    {
     "name": "stdout",
     "output_type": "stream",
     "text": [
      "레이블 테스트셋 크기:  (450,)\n",
      "테스트셋 레이블 0과 1의 분포도\n",
      "0    405\n",
      "1     45\n",
      "dtype: int64\n"
     ]
    }
   ],
   "source": [
    "#레이블 값 분포가 얼마나 불균형한지 확인해보자\n",
    "print('레이블 테스트셋 크기: ', y_test.shape)\n",
    "print('테스트셋 레이블 0과 1의 분포도')\n",
    "print(pd.Series(y_test).value_counts()) #0이 너무 많고 치우쳐져 있음"
   ]
  },
  {
   "cell_type": "code",
   "execution_count": 27,
   "metadata": {},
   "outputs": [],
   "source": [
    "class MyFakeClassifier(BaseEstimator):\n",
    "    def fit(self, X, y):\n",
    "        pass #fit을 시켜봤자 그냥 넘어감\n",
    "    def predict(self, X):\n",
    "        return np.zeros( (len(X),1), dtype=bool ) #예측은 모두 0임."
   ]
  },
  {
   "cell_type": "code",
   "execution_count": 29,
   "metadata": {},
   "outputs": [
    {
     "name": "stdout",
     "output_type": "stream",
     "text": [
      "모든 예측을 0으로 해도 0.9\n"
     ]
    }
   ],
   "source": [
    "#Dummy classifier이용\n",
    "fakeclf=MyFakeClassifier() #객체\n",
    "fakeclf.fit(X_train,y_train) #학습\n",
    "pred=fakeclf.predict(X_test) #예측\n",
    "print('모든 예측을 0으로 해도', accuracy_score(y_test,pred)) #그저 0으로만 반환하는 모델인데도 정확도가 0.9임.."
   ]
  },
  {
   "cell_type": "code",
   "execution_count": 30,
   "metadata": {},
   "outputs": [],
   "source": [
    "##이처럼, 불균형한 레이블 데이터셋에선 정확도를 평가지표로 사용하면 안됨! \n",
    "##그리고 정확도 외에 다른 평가지표들도 함께 고려하자."
   ]
  },
  {
   "cell_type": "markdown",
   "metadata": {},
   "source": [
    "# 오차 행렬(Confusion Matrix)"
   ]
  },
  {
   "cell_type": "markdown",
   "metadata": {},
   "source": [
    "- 학습된 분류모델이 예측을 수행하면서 얼마나 헷갈리고(confused) 있는지도 함께 보여주는 지표.\n",
    "- 불균형한 데이터셋에선 이 오차행렬을 활용해 분류 모델이 어떻게 분류를 하고 있는지 상황을 파악해봐야 함."
   ]
  },
  {
   "cell_type": "code",
   "execution_count": 31,
   "metadata": {},
   "outputs": [
    {
     "data": {
      "text/plain": [
       "array([[405,   0],\n",
       "       [ 45,   0]], dtype=int64)"
      ]
     },
     "execution_count": 31,
     "metadata": {},
     "output_type": "execute_result"
    }
   ],
   "source": [
    "from sklearn.metrics import confusion_matrix\n",
    "\n",
    "confusion_matrix(y_test, pred)\n",
    "\n",
    "#TN FP\n",
    "#FN  TP\n",
    "#왼쪽열: 예측을 negative/ 오른쪽열: 예측을 positive\n",
    "#1행: 예측값과 실제값이 일치/ 2행: 예측값과 실제값이 틀림"
   ]
  },
  {
   "cell_type": "code",
   "execution_count": 22,
   "metadata": {},
   "outputs": [],
   "source": [
    "#앞에서 accuracy(정확도)는 실제 값(y_test)과 예측값(pred)이 얼마나 같은지?의 비율이었음.\n",
    "#오차행렬을 이용해서도 이를 계산할 수 있음.=> T(TN+TP)/전체\n",
    "\n",
    "#하지만 불균형한 데이터셋(주로 negative 비율이 높음)에선, 분류모델이 negative로만 분류를 많이 하더라도 정확도가 높아지는 오류..\n",
    "##그래서 불균형한 데이터셋에선 밑의 정밀도와 재현율을 좀 더 고려한다!"
   ]
  },
  {
   "cell_type": "markdown",
   "metadata": {},
   "source": [
    "- 앞으로의 우리 ML 모델은 로지스틱 회귀 모델!"
   ]
  },
  {
   "cell_type": "markdown",
   "metadata": {},
   "source": [
    "# 정밀도(Precision) & 재현율(Recall)"
   ]
  },
  {
   "cell_type": "markdown",
   "metadata": {},
   "source": [
    "- 정밀도 = TP/P(=FP+TP) #P로 예측된 것에서 진짜 P의 비율 #P 예측 성능을 더욱 정밀하게 측정하는 평가지표, 양성 예측도.\n",
    "- 재현율 = TP/FN+TP #P인데 잘못 예측된 것+P로 잘 예측된 것(즉, P들 모음)에서 진짜 P의 비율 #민감도, TPR"
   ]
  },
  {
   "cell_type": "code",
   "execution_count": 32,
   "metadata": {},
   "outputs": [],
   "source": [
    "from sklearn.metrics import accuracy_score, precision_score, recall_score"
   ]
  },
  {
   "cell_type": "code",
   "execution_count": 33,
   "metadata": {},
   "outputs": [
    {
     "data": {
      "text/html": [
       "<div>\n",
       "<style scoped>\n",
       "    .dataframe tbody tr th:only-of-type {\n",
       "        vertical-align: middle;\n",
       "    }\n",
       "\n",
       "    .dataframe tbody tr th {\n",
       "        vertical-align: top;\n",
       "    }\n",
       "\n",
       "    .dataframe thead th {\n",
       "        text-align: right;\n",
       "    }\n",
       "</style>\n",
       "<table border=\"1\" class=\"dataframe\">\n",
       "  <thead>\n",
       "    <tr style=\"text-align: right;\">\n",
       "      <th></th>\n",
       "      <th>Survived</th>\n",
       "      <th>Pclass</th>\n",
       "      <th>Sex</th>\n",
       "      <th>Age</th>\n",
       "      <th>SibSp</th>\n",
       "      <th>Parch</th>\n",
       "      <th>Fare</th>\n",
       "      <th>Cabin</th>\n",
       "      <th>Embarked</th>\n",
       "    </tr>\n",
       "  </thead>\n",
       "  <tbody>\n",
       "    <tr>\n",
       "      <th>0</th>\n",
       "      <td>0</td>\n",
       "      <td>3</td>\n",
       "      <td>1</td>\n",
       "      <td>22.0</td>\n",
       "      <td>1</td>\n",
       "      <td>0</td>\n",
       "      <td>7.2500</td>\n",
       "      <td>7</td>\n",
       "      <td>3</td>\n",
       "    </tr>\n",
       "    <tr>\n",
       "      <th>1</th>\n",
       "      <td>1</td>\n",
       "      <td>1</td>\n",
       "      <td>0</td>\n",
       "      <td>38.0</td>\n",
       "      <td>1</td>\n",
       "      <td>0</td>\n",
       "      <td>71.2833</td>\n",
       "      <td>2</td>\n",
       "      <td>0</td>\n",
       "    </tr>\n",
       "    <tr>\n",
       "      <th>2</th>\n",
       "      <td>1</td>\n",
       "      <td>3</td>\n",
       "      <td>0</td>\n",
       "      <td>26.0</td>\n",
       "      <td>0</td>\n",
       "      <td>0</td>\n",
       "      <td>7.9250</td>\n",
       "      <td>7</td>\n",
       "      <td>3</td>\n",
       "    </tr>\n",
       "    <tr>\n",
       "      <th>3</th>\n",
       "      <td>1</td>\n",
       "      <td>1</td>\n",
       "      <td>0</td>\n",
       "      <td>35.0</td>\n",
       "      <td>1</td>\n",
       "      <td>0</td>\n",
       "      <td>53.1000</td>\n",
       "      <td>2</td>\n",
       "      <td>3</td>\n",
       "    </tr>\n",
       "    <tr>\n",
       "      <th>4</th>\n",
       "      <td>0</td>\n",
       "      <td>3</td>\n",
       "      <td>1</td>\n",
       "      <td>35.0</td>\n",
       "      <td>0</td>\n",
       "      <td>0</td>\n",
       "      <td>8.0500</td>\n",
       "      <td>7</td>\n",
       "      <td>3</td>\n",
       "    </tr>\n",
       "  </tbody>\n",
       "</table>\n",
       "</div>"
      ],
      "text/plain": [
       "   Survived  Pclass  Sex   Age  SibSp  Parch     Fare  Cabin  Embarked\n",
       "0         0       3    1  22.0      1      0   7.2500      7         3\n",
       "1         1       1    0  38.0      1      0  71.2833      2         0\n",
       "2         1       3    0  26.0      0      0   7.9250      7         3\n",
       "3         1       1    0  35.0      1      0  53.1000      2         3\n",
       "4         0       3    1  35.0      0      0   8.0500      7         3"
      ]
     },
     "execution_count": 33,
     "metadata": {},
     "output_type": "execute_result"
    }
   ],
   "source": [
    "#앞서 했던 타이타닉 데이터 재로딩(전처리 완료됨)\n",
    "new_df.head()"
   ]
  },
  {
   "cell_type": "code",
   "execution_count": 34,
   "metadata": {},
   "outputs": [],
   "source": [
    "y_df=new_df['Survived']\n",
    "X_df=new_df.drop(['Survived'],axis=1)\n",
    "\n",
    "X_train, X_test, y_train, y_test = train_test_split(X_df,y_df, test_size=0.2, random_state=11) #순서주의! x 다음 y 순서로 쪼개야함!"
   ]
  },
  {
   "cell_type": "code",
   "execution_count": 35,
   "metadata": {},
   "outputs": [
    {
     "name": "stderr",
     "output_type": "stream",
     "text": [
      "C:\\ProgramData\\Anaconda3\\lib\\site-packages\\sklearn\\linear_model\\logistic.py:433: FutureWarning: Default solver will be changed to 'lbfgs' in 0.22. Specify a solver to silence this warning.\n",
      "  FutureWarning)\n"
     ]
    }
   ],
   "source": [
    "#분류 모델은 : 로지스틱 회귀로 해보자.\n",
    "from sklearn.linear_model import LogisticRegression\n",
    "\n",
    "lr_clf=LogisticRegression() #객체\n",
    "lr_clf.fit(X_train,y_train) #학습\n",
    "pred=lr_clf.predict(X_test) #예측"
   ]
  },
  {
   "cell_type": "code",
   "execution_count": 36,
   "metadata": {},
   "outputs": [
    {
     "name": "stdout",
     "output_type": "stream",
     "text": [
      "[[108  10]\n",
      " [ 14  47]]\n",
      "0.8659217877094972\n",
      "0.8245614035087719\n",
      "0.7704918032786885\n"
     ]
    }
   ],
   "source": [
    "#오차행렬\n",
    "print(confusion_matrix(y_test, pred))\n",
    "#정확도\n",
    "print(accuracy_score(y_test, pred))\n",
    "#정밀도(precision)\n",
    "print(precision_score(y_test, pred))\n",
    "#재현율(recall)\n",
    "print(recall_score(y_test, pred))"
   ]
  },
  {
   "cell_type": "code",
   "execution_count": 37,
   "metadata": {},
   "outputs": [
    {
     "data": {
      "text/plain": [
       "0.8659217877094972"
      ]
     },
     "execution_count": 37,
     "metadata": {},
     "output_type": "execute_result"
    }
   ],
   "source": [
    "(108+47)/(108+10+14+47) #정확도"
   ]
  },
  {
   "cell_type": "code",
   "execution_count": 38,
   "metadata": {},
   "outputs": [
    {
     "data": {
      "text/plain": [
       "0.8245614035087719"
      ]
     },
     "execution_count": 38,
     "metadata": {},
     "output_type": "execute_result"
    }
   ],
   "source": [
    "47/57 #정밀도"
   ]
  },
  {
   "cell_type": "code",
   "execution_count": 39,
   "metadata": {},
   "outputs": [
    {
     "data": {
      "text/plain": [
       "0.7704918032786885"
      ]
     },
     "execution_count": 39,
     "metadata": {},
     "output_type": "execute_result"
    }
   ],
   "source": [
    "47/(47+14) #재현율"
   ]
  },
  {
   "cell_type": "code",
   "execution_count": 31,
   "metadata": {},
   "outputs": [],
   "source": [
    "#결과를 보면, 정확도는 어느 정도 높지만, 그에 비해 정밀도와 재현율은 낮다. 특히나 재현율이 낮다.\n",
    "##그렇다면 정밀도와 재현율을 더 강화할 수 있는 방법은?"
   ]
  },
  {
   "cell_type": "markdown",
   "metadata": {},
   "source": [
    "# 정밀도/재현율 트레이드오프(Trade-off) *threshold 조정"
   ]
  },
  {
   "cell_type": "markdown",
   "metadata": {},
   "source": [
    "- 분류의 결정 임곗값(threshold)를 조정하면 정밀도 또는 재현율 수치를 높일 수 있음.\n",
    "- 그런데 정밀도와 재현율은 상호 보완적이라, 한쪽이 높아지면 다른 쪽은 떨어짐.(이것이 trade-off)"
   ]
  },
  {
   "cell_type": "markdown",
   "metadata": {},
   "source": [
    "## 분류 결정 임곗값(threshold)는 Positive 예측값을 결정하는 확률의 기준임!"
   ]
  },
  {
   "cell_type": "code",
   "execution_count": 42,
   "metadata": {},
   "outputs": [
    {
     "data": {
      "text/plain": [
       "array([[0.44935228, 0.55064772],\n",
       "       [0.86335513, 0.13664487],\n",
       "       [0.86429645, 0.13570355],\n",
       "       [0.84968519, 0.15031481],\n",
       "       [0.82343411, 0.17656589],\n",
       "       [0.84231224, 0.15768776],\n",
       "       [0.87095491, 0.12904509],\n",
       "       [0.27228604, 0.72771396],\n",
       "       [0.78185129, 0.21814871],\n",
       "       [0.33185992, 0.66814008],\n",
       "       [0.86178764, 0.13821236],\n",
       "       [0.870581  , 0.129419  ],\n",
       "       [0.86425952, 0.13574048],\n",
       "       [0.87065946, 0.12934054],\n",
       "       [0.56033547, 0.43966453],\n",
       "       [0.85003024, 0.14996976],\n",
       "       [0.88954174, 0.11045826],\n",
       "       [0.74250732, 0.25749268],\n",
       "       [0.71120225, 0.28879775],\n",
       "       [0.23776272, 0.76223728],\n",
       "       [0.75684106, 0.24315894],\n",
       "       [0.62428169, 0.37571831],\n",
       "       [0.84655248, 0.15344752],\n",
       "       [0.82711259, 0.17288741],\n",
       "       [0.8682563 , 0.1317437 ],\n",
       "       [0.77003828, 0.22996172],\n",
       "       [0.82946349, 0.17053651],\n",
       "       [0.9033613 , 0.0966387 ],\n",
       "       [0.73372048, 0.26627952],\n",
       "       [0.68847388, 0.31152612],\n",
       "       [0.07646869, 0.92353131],\n",
       "       [0.2253212 , 0.7746788 ],\n",
       "       [0.87161942, 0.12838058],\n",
       "       [0.24075415, 0.75924585],\n",
       "       [0.62711735, 0.37288265],\n",
       "       [0.77003828, 0.22996172],\n",
       "       [0.90554276, 0.09445724],\n",
       "       [0.40602576, 0.59397424],\n",
       "       [0.93043587, 0.06956413],\n",
       "       [0.87650522, 0.12349478],\n",
       "       [0.69797423, 0.30202577],\n",
       "       [0.89664594, 0.10335406],\n",
       "       [0.21993378, 0.78006622],\n",
       "       [0.31565709, 0.68434291],\n",
       "       [0.37942229, 0.62057771],\n",
       "       [0.37932892, 0.62067108],\n",
       "       [0.07161279, 0.92838721],\n",
       "       [0.55777566, 0.44222434],\n",
       "       [0.07914487, 0.92085513],\n",
       "       [0.86803084, 0.13196916],\n",
       "       [0.50790061, 0.49209939],\n",
       "       [0.87065946, 0.12934054],\n",
       "       [0.85576407, 0.14423593],\n",
       "       [0.3487013 , 0.6512987 ],\n",
       "       [0.71558417, 0.28441583],\n",
       "       [0.78853201, 0.21146799],\n",
       "       [0.7461921 , 0.2538079 ],\n",
       "       [0.86429002, 0.13570998],\n",
       "       [0.84079005, 0.15920995],\n",
       "       [0.59838062, 0.40161938],\n",
       "       [0.73532081, 0.26467919],\n",
       "       [0.88705598, 0.11294402],\n",
       "       [0.54552802, 0.45447198],\n",
       "       [0.5532634 , 0.4467366 ],\n",
       "       [0.62583528, 0.37416472],\n",
       "       [0.88363279, 0.11636721],\n",
       "       [0.35181256, 0.64818744],\n",
       "       [0.39903352, 0.60096648],\n",
       "       [0.08300812, 0.91699188],\n",
       "       [0.85072525, 0.14927475],\n",
       "       [0.86778821, 0.13221179],\n",
       "       [0.83070926, 0.16929074],\n",
       "       [0.87649044, 0.12350956],\n",
       "       [0.05959914, 0.94040086],\n",
       "       [0.78735759, 0.21264241],\n",
       "       [0.87065946, 0.12934054],\n",
       "       [0.716541  , 0.283459  ],\n",
       "       [0.79159804, 0.20840196],\n",
       "       [0.20303096, 0.79696904],\n",
       "       [0.86429002, 0.13570998],\n",
       "       [0.2400505 , 0.7599495 ],\n",
       "       [0.3712358 , 0.6287642 ],\n",
       "       [0.08369624, 0.91630376],\n",
       "       [0.84018613, 0.15981387],\n",
       "       [0.07766718, 0.92233282],\n",
       "       [0.08973248, 0.91026752],\n",
       "       [0.84723079, 0.15276921],\n",
       "       [0.86241532, 0.13758468],\n",
       "       [0.16539726, 0.83460274],\n",
       "       [0.87065946, 0.12934054],\n",
       "       [0.87065946, 0.12934054],\n",
       "       [0.77003828, 0.22996172],\n",
       "       [0.75416741, 0.24583259],\n",
       "       [0.87065946, 0.12934054],\n",
       "       [0.37932892, 0.62067108],\n",
       "       [0.89883891, 0.10116109],\n",
       "       [0.07361401, 0.92638599],\n",
       "       [0.87897227, 0.12102773],\n",
       "       [0.60197829, 0.39802171],\n",
       "       [0.06738996, 0.93261004],\n",
       "       [0.47948277, 0.52051723],\n",
       "       [0.90469272, 0.09530728],\n",
       "       [0.05673721, 0.94326279],\n",
       "       [0.88180789, 0.11819211],\n",
       "       [0.45587967, 0.54412033],\n",
       "       [0.86133439, 0.13866561],\n",
       "       [0.84974931, 0.15025069],\n",
       "       [0.850727  , 0.149273  ],\n",
       "       [0.5550275 , 0.4449725 ],\n",
       "       [0.88426899, 0.11573101],\n",
       "       [0.84747419, 0.15252581],\n",
       "       [0.87269564, 0.12730436],\n",
       "       [0.67538691, 0.32461309],\n",
       "       [0.4827525 , 0.5172475 ],\n",
       "       [0.8682563 , 0.1317437 ],\n",
       "       [0.91597192, 0.08402808],\n",
       "       [0.84194204, 0.15805796],\n",
       "       [0.78872838, 0.21127162],\n",
       "       [0.11141752, 0.88858248],\n",
       "       [0.90534856, 0.09465144],\n",
       "       [0.87071645, 0.12928355],\n",
       "       [0.86905441, 0.13094559],\n",
       "       [0.91525793, 0.08474207],\n",
       "       [0.58196816, 0.41803184],\n",
       "       [0.98025013, 0.01974987],\n",
       "       [0.87071645, 0.12928355],\n",
       "       [0.8721902 , 0.1278098 ],\n",
       "       [0.71194639, 0.28805361],\n",
       "       [0.34348895, 0.65651105],\n",
       "       [0.70226698, 0.29773302],\n",
       "       [0.06738996, 0.93261004],\n",
       "       [0.59805546, 0.40194454],\n",
       "       [0.32885343, 0.67114657],\n",
       "       [0.48644743, 0.51355257],\n",
       "       [0.42864816, 0.57135184],\n",
       "       [0.56346552, 0.43653448],\n",
       "       [0.25853142, 0.74146858],\n",
       "       [0.77643225, 0.22356775],\n",
       "       [0.87632449, 0.12367551],\n",
       "       [0.15009272, 0.84990728],\n",
       "       [0.13434695, 0.86565305],\n",
       "       [0.850727  , 0.149273  ],\n",
       "       [0.86772104, 0.13227896],\n",
       "       [0.89628756, 0.10371244],\n",
       "       [0.88613341, 0.11386659],\n",
       "       [0.34797626, 0.65202374],\n",
       "       [0.89917049, 0.10082951],\n",
       "       [0.72997339, 0.27002661],\n",
       "       [0.12221446, 0.87778554],\n",
       "       [0.81719691, 0.18280309],\n",
       "       [0.61865109, 0.38134891],\n",
       "       [0.37370298, 0.62629702],\n",
       "       [0.38348343, 0.61651657],\n",
       "       [0.864633  , 0.135367  ],\n",
       "       [0.25161297, 0.74838703],\n",
       "       [0.10388329, 0.89611671],\n",
       "       [0.5764806 , 0.4235194 ],\n",
       "       [0.8547685 , 0.1452315 ],\n",
       "       [0.31415124, 0.68584876],\n",
       "       [0.33907973, 0.66092027],\n",
       "       [0.84347721, 0.15652279],\n",
       "       [0.23261125, 0.76738875],\n",
       "       [0.88859275, 0.11140725],\n",
       "       [0.35220568, 0.64779432],\n",
       "       [0.5855486 , 0.4144514 ],\n",
       "       [0.36143288, 0.63856712],\n",
       "       [0.13634058, 0.86365942],\n",
       "       [0.67797002, 0.32202998],\n",
       "       [0.88600085, 0.11399915],\n",
       "       [0.13946114, 0.86053886],\n",
       "       [0.87095491, 0.12904509],\n",
       "       [0.2061602 , 0.7938398 ],\n",
       "       [0.76719904, 0.23280096],\n",
       "       [0.77437245, 0.22562755],\n",
       "       [0.50324026, 0.49675974],\n",
       "       [0.9107984 , 0.0892016 ],\n",
       "       [0.8497074 , 0.1502926 ],\n",
       "       [0.54874088, 0.45125912],\n",
       "       [0.48192068, 0.51807932]])"
      ]
     },
     "execution_count": 42,
     "metadata": {},
     "output_type": "execute_result"
    }
   ],
   "source": [
    "#모델.predict_proba(X_test) 는 예측 확률을 보여준다.\n",
    "pred_proba=lr_clf.predict_proba(X_test)\n",
    "pred_proba #예측 확률 array"
   ]
  },
  {
   "cell_type": "code",
   "execution_count": 43,
   "metadata": {},
   "outputs": [
    {
     "name": "stdout",
     "output_type": "stream",
     "text": [
      "(179, 2)\n",
      "[1 0 0 0 0 0 0 1 0 1 0 0 0 0 0 0 0 0 0 1 0 0 0 0 0 0 0 0 0 0 1 1 0 1 0 0 0\n",
      " 1 0 0 0 0 1 1 1 1 1 0 1 0 0 0 0 1 0 0 0 0 0 0 0 0 0 0 0 0 1 1 1 0 0 0 0 1\n",
      " 0 0 0 0 1 0 1 1 1 0 1 1 0 0 1 0 0 0 0 0 1 0 1 0 0 1 1 0 1 0 1 0 0 0 0 0 0\n",
      " 0 0 1 0 0 0 0 1 0 0 0 0 0 0 0 0 0 1 0 1 0 1 1 1 0 1 0 0 1 1 0 0 0 0 1 0 0\n",
      " 1 0 0 1 1 0 1 1 0 0 1 1 0 1 0 1 0 1 1 0 0 1 0 1 0 0 0 0 0 0 1]\n"
     ]
    }
   ],
   "source": [
    "pred=lr_clf.predict(X_test)\n",
    "print(pred_proba.shape)\n",
    "print(pred)"
   ]
  },
  {
   "cell_type": "code",
   "execution_count": 44,
   "metadata": {},
   "outputs": [
    {
     "data": {
      "text/plain": [
       "array([[0.44935228, 0.55064772, 1.        ],\n",
       "       [0.86335513, 0.13664487, 0.        ],\n",
       "       [0.86429645, 0.13570355, 0.        ],\n",
       "       [0.84968519, 0.15031481, 0.        ],\n",
       "       [0.82343411, 0.17656589, 0.        ]])"
      ]
     },
     "execution_count": 44,
     "metadata": {},
     "output_type": "execute_result"
    }
   ],
   "source": [
    "#예측 확률 array와 예측 결괏값 array를 병합해 예측 확률과 결괏값을 한눈에 확인\n",
    "result=np.concatenate([pred_proba, pred.reshape(-1,1)], axis=1)\n",
    "result[:5] #0.5를 기준으로, 두개의 칼럼 중 오른쪽칼럼이 positive 칼럼인데, 얘가 0.5보다 크면 1, 작으면 0으로 분류됨.\n",
    "##바로 이 0.5가 '분류 결정 임곗값'임. 우리는 이 값을 조정할 것임. (그럼 예측값이 달라지겠지?)"
   ]
  },
  {
   "cell_type": "code",
   "execution_count": 45,
   "metadata": {},
   "outputs": [
    {
     "name": "stdout",
     "output_type": "stream",
     "text": [
      "[[0. 0. 1.]\n",
      " [1. 1. 0.]\n",
      " [0. 0. 1.]]\n"
     ]
    }
   ],
   "source": [
    "#그 임곗값 조정은 Binarizer 클래스를 이용해서 할수있다.\n",
    "from sklearn.preprocessing import Binarizer\n",
    "\n",
    "#예시\n",
    "X=[ [1,-1,2], [2,4,0], [0,1.1,1.2] ]\n",
    "binarizer= Binarizer(threshold=1.1) #임곗값을 1.1로 설정. 이것보다 크면 1, 아니면 0임.\n",
    "print(binarizer.fit_transform(X)) #binarizer에 .fit_transform 적용"
   ]
  },
  {
   "cell_type": "code",
   "execution_count": 68,
   "metadata": {},
   "outputs": [
    {
     "name": "stdout",
     "output_type": "stream",
     "text": [
      "[[108  10]\n",
      " [ 14  47]]\n",
      "0.8659217877094972\n",
      "precision :  0.825\n",
      "recall :  0.77\n"
     ]
    }
   ],
   "source": [
    "#threshold(분류 결정 임곗값) 0.5로 설정\n",
    "custom_threshold=0.5\n",
    "\n",
    "#아까 pred_proba의 두번째 컬럼(positive class)만 떼서 가공\n",
    "pred_proba_1=pred_proba[:,1].reshape(-1,1)\n",
    "\n",
    "binarizer=Binarizer(threshold=custom_threshold).fit(pred_proba_1) #학습\n",
    "pred = binarizer.transform(pred_proba_1) #예측 #[0 1 1 0 ...]\n",
    "\n",
    "print(confusion_matrix(y_test,pred))\n",
    "print(accuracy_score(y_test,pred))\n",
    "print('precision : ', round(precision_score(y_test,pred), 3) )\n",
    "print('recall : ', round(recall_score(y_test,pred),3) )\n",
    "#결과는 처음의 평가지표 결과와 같군, 역시 기본 임곗값은 0.5였어. 그럼 한번 0.4로 낮춰볼까?"
   ]
  },
  {
   "cell_type": "markdown",
   "metadata": {},
   "source": [
    "- threshold를 낮춘다 = 커트라인이 낮아진다 = 개나소나 P로 예측된다\n",
    "- = TP가 높아지는 것보다 FP가 더 높아진다\n",
    "- = precision은 낮아지고(P예측값은 많아지는데 TP증가는 쏘쏘) recall은 높아진다(P실제값은 똑같은데 TP는 증가하므로)"
   ]
  },
  {
   "cell_type": "code",
   "execution_count": 69,
   "metadata": {},
   "outputs": [
    {
     "name": "stdout",
     "output_type": "stream",
     "text": [
      "[[97 21]\n",
      " [11 50]]\n",
      "0.8212290502793296\n",
      "precision :  0.704\n",
      "recall :  0.82\n"
     ]
    }
   ],
   "source": [
    "#threshold(분류 결정 임곗값) 0.4로 설정\n",
    "custom_threshold=0.4\n",
    "\n",
    "#아까 pred_proba의 두번째 컬럼(positive class)만 떼서 가공\n",
    "pred_proba_1=pred_proba[:,1].reshape(-1,1)\n",
    "\n",
    "binarizer=Binarizer(threshold=custom_threshold).fit(pred_proba_1) #학습\n",
    "pred = binarizer.transform(pred_proba_1) #예측\n",
    "\n",
    "print(confusion_matrix(y_test,pred)) #TN 낮아지고 TP 높아짐(P로 예측되는 게 많아짐. 21, 50)\n",
    "print(accuracy_score(y_test,pred))\n",
    "print('precision : ', round(precision_score(y_test,pred), 3) )\n",
    "print('recall : ', round(recall_score(y_test,pred),3) )\n",
    "\n",
    "#precision는 낮아졌지만 recall은 높아졌다!(trade-off)"
   ]
  },
  {
   "cell_type": "markdown",
   "metadata": {},
   "source": [
    "- threshold를 높인다 = 커트라인이 높아진다 = P로 예측되기 힘들다(웬만하면 N으로 예측)\n",
    "- = TP가 적어지는 것보다 FP가 더 줄어든다.\n",
    "- = precision은 높아지고(P예측값은 적은데 TP는 별로 안줄어듦) recall은 낮아진다(P실제값은 똑같은데 TP는 감소하므로)\n",
    "- precision(정밀도)가 높아지니까, 임곗값 커트라인이 높을수록 더욱 정확하게 P로 예측한다고 생각(확실한 것만 P 출력)"
   ]
  },
  {
   "cell_type": "code",
   "execution_count": 70,
   "metadata": {},
   "outputs": [
    {
     "name": "stdout",
     "output_type": "stream",
     "text": [
      "[[113   5]\n",
      " [ 17  44]]\n",
      "0.8770949720670391\n",
      "precision :  0.898\n",
      "recall :  0.721\n"
     ]
    }
   ],
   "source": [
    "#threshold(분류 결정 임곗값) 0.6로 설정\n",
    "custom_threshold=0.6\n",
    "\n",
    "#아까 pred_proba의 두번째 컬럼(positive class)만 떼서 가공\n",
    "pred_proba_1=pred_proba[:,1].reshape(-1,1)\n",
    "\n",
    "binarizer=Binarizer(threshold=custom_threshold).fit(pred_proba_1) #학습\n",
    "pred = binarizer.transform(pred_proba_1) #예측\n",
    "\n",
    "print(confusion_matrix(y_test,pred)) #TN 낮아지고 TP 높아짐(P로 예측되는 게 많아짐. 21, 50)\n",
    "print(accuracy_score(y_test,pred))\n",
    "print('precision : ', round(precision_score(y_test,pred), 3) )\n",
    "print('recall : ', round(recall_score(y_test,pred),3) )\n",
    "\n",
    "#precision는 낮아졌지만 recall은 높아졌다!(trade-off)"
   ]
  },
  {
   "cell_type": "code",
   "execution_count": 97,
   "metadata": {},
   "outputs": [],
   "source": [
    "#threshold를 계속 바꾸면서 평가지표를 출력해 보자.\n",
    "thresholds=[0.4, 0.45, 0.5, 0.6, 0.65]\n",
    "\n",
    "def get_clf_eval(y_test, pred):\n",
    "    confusion = confusion_matrix(y_test,pred)\n",
    "    acc=accuracy_score(y_test,pred)\n",
    "    pre=precision_score(y_test,pred)\n",
    "    recall=recall_score(y_test,pred)\n",
    "    print(confusion)\n",
    "    print('정확도: {0:.3f}, 정밀도: {1:.3f}, 재현율: {2:.3f}'.format(acc, pre, recall))\n",
    "    \n",
    "def get_eval_by_threshold(pred_proba, y_test):\n",
    "    thresholds=[0.4, 0.45, 0.5, 0.6, 0.65]\n",
    "    for i in thresholds:\n",
    "        binarizer=Binarizer(threshold=i).fit(pred_proba) #학습\n",
    "        pred = binarizer.transform(pred_proba) #예측\n",
    "        print('\\n threshold는 : ', i)\n",
    "        get_clf_eval(y_test, pred)"
   ]
  },
  {
   "cell_type": "code",
   "execution_count": 98,
   "metadata": {},
   "outputs": [
    {
     "name": "stdout",
     "output_type": "stream",
     "text": [
      "\n",
      " threshold는 :  0.4\n",
      "[[97 21]\n",
      " [11 50]]\n",
      "정확도: 0.821, 정밀도: 0.704, 재현율: 0.820\n",
      "\n",
      " threshold는 :  0.45\n",
      "[[105  13]\n",
      " [ 13  48]]\n",
      "정확도: 0.855, 정밀도: 0.787, 재현율: 0.787\n",
      "\n",
      " threshold는 :  0.5\n",
      "[[108  10]\n",
      " [ 14  47]]\n",
      "정확도: 0.866, 정밀도: 0.825, 재현율: 0.770\n",
      "\n",
      " threshold는 :  0.6\n",
      "[[113   5]\n",
      " [ 17  44]]\n",
      "정확도: 0.877, 정밀도: 0.898, 재현율: 0.721\n",
      "\n",
      " threshold는 :  0.65\n",
      "[[116   2]\n",
      " [ 24  37]]\n",
      "정확도: 0.855, 정밀도: 0.949, 재현율: 0.607\n"
     ]
    }
   ],
   "source": [
    "get_eval_by_threshold(pred_proba[:,1].reshape(-1,1), y_test) ##0.45가 가장 적당한 듯.\n",
    "#임곗값이 커질수록 P로 판단되는 것이 적어짐. 또한 precision은 높아지나 recall은 낮아짐\n",
    "#왜냐, 임곗값이 작을땐 웬만해선 P로 예측.\n",
    "#반대로, 임곗값이 클땐 웬만해선 N으로 예측."
   ]
  },
  {
   "cell_type": "markdown",
   "metadata": {},
   "source": [
    "##### precisions, recalls, thresholds = precision_recall_curve(y_test, predict_proba의 1번 칼럼;positive 칼럼) 사용하면 한번에!\n",
    "###### :threshold를 안쓰고 그냥 precision_score()/recall_score() 쓰면 최적의 threshold를 찾지 못하고 기본인 0.5로 그냥 평가됨. threshold 를 바꾸면 정밀도와 재현율이 높아질 수 있음"
   ]
  },
  {
   "cell_type": "code",
   "execution_count": 99,
   "metadata": {},
   "outputs": [
    {
     "name": "stdout",
     "output_type": "stream",
     "text": [
      "(147,)\n",
      "임곗값 인덱스:  [  0  15  30  45  60  75  90 105 120 135]\n",
      "샘플용 10개 임곗값:  [0.12 0.13 0.15 0.17 0.26 0.38 0.49 0.63 0.76 0.9 ]\n"
     ]
    }
   ],
   "source": [
    "from sklearn.metrics import precision_recall_curve\n",
    "\n",
    "#레이블 값 1일 때의 예측 확률 추출\n",
    "pred_proba_class1=lr_clf.predict_proba(X_test)[:,1]\n",
    "\n",
    "precisions, recalls, thresholds = precision_recall_curve(y_test, pred_proba_class1)\n",
    "print(thresholds.shape) #임곗값 배열 shape: 제공하는 임곗값이147개로 너무 많음\n",
    "\n",
    "#반환된 임곗값 배열 로우가 147이므로 샘플로 10건 추출하되, 임곗값을 15 step으로 추출\n",
    "thr_index = np.arange(0, thresholds.shape[0], 15) #임계값 0부터 147까지 15 스텝 추출, 개수는 10개임.\n",
    "print('임곗값 인덱스: ', thr_index)\n",
    "print('샘플용 10개 임곗값: ', np.round(thresholds[thr_index],2))"
   ]
  },
  {
   "cell_type": "code",
   "execution_count": 100,
   "metadata": {
    "scrolled": true
   },
   "outputs": [
    {
     "data": {
      "text/plain": [
       "(array([0.37888199, 0.375     , 0.37735849, 0.37974684, 0.38216561,\n",
       "        0.37820513, 0.38064516, 0.38311688, 0.38562092, 0.38815789,\n",
       "        0.39072848, 0.39597315, 0.40136054, 0.41843972, 0.42142857,\n",
       "        0.42446043, 0.43065693, 0.43382353, 0.43703704, 0.44029851,\n",
       "        0.44360902, 0.4469697 , 0.44615385, 0.4496124 , 0.4453125 ,\n",
       "        0.44094488, 0.44444444, 0.44      , 0.44354839, 0.44715447,\n",
       "        0.45454545, 0.45833333, 0.46218487, 0.46610169, 0.47008547,\n",
       "        0.47413793, 0.47826087, 0.48245614, 0.48672566, 0.49107143,\n",
       "        0.4954955 , 0.5       , 0.50458716, 0.50925926, 0.51401869,\n",
       "        0.51886792, 0.52380952, 0.52884615, 0.53398058, 0.53921569,\n",
       "        0.54455446, 0.55      , 0.55555556, 0.56122449, 0.56701031,\n",
       "        0.57291667, 0.59139785, 0.59782609, 0.6043956 , 0.61111111,\n",
       "        0.61797753, 0.625     , 0.63218391, 0.63953488, 0.64705882,\n",
       "        0.64285714, 0.65060241, 0.65853659, 0.66666667, 0.675     ,\n",
       "        0.6835443 , 0.69230769, 0.68831169, 0.68421053, 0.68      ,\n",
       "        0.67567568, 0.68493151, 0.69444444, 0.70422535, 0.71428571,\n",
       "        0.71014493, 0.72058824, 0.73134328, 0.74242424, 0.75384615,\n",
       "        0.765625  , 0.76190476, 0.77419355, 0.78688525, 0.8       ,\n",
       "        0.79661017, 0.81034483, 0.8245614 , 0.83928571, 0.83636364,\n",
       "        0.83333333, 0.8490566 , 0.86538462, 0.8627451 , 0.88      ,\n",
       "        0.89795918, 0.89583333, 0.91489362, 0.93478261, 0.93181818,\n",
       "        0.93023256, 0.92857143, 0.95121951, 0.95      , 0.94871795,\n",
       "        0.94736842, 0.94594595, 0.94444444, 0.94285714, 0.94117647,\n",
       "        0.93939394, 0.9375    , 0.96774194, 0.96666667, 0.96551724,\n",
       "        0.96428571, 0.96296296, 0.96153846, 0.96      , 0.95833333,\n",
       "        0.95652174, 0.95454545, 0.95238095, 0.95      , 0.94736842,\n",
       "        0.94444444, 0.94117647, 0.9375    , 1.        , 1.        ,\n",
       "        1.        , 1.        , 1.        , 1.        , 1.        ,\n",
       "        1.        , 1.        , 1.        , 1.        , 1.        ,\n",
       "        1.        , 1.        , 1.        ]),\n",
       " array([1.        , 0.98360656, 0.98360656, 0.98360656, 0.98360656,\n",
       "        0.96721311, 0.96721311, 0.96721311, 0.96721311, 0.96721311,\n",
       "        0.96721311, 0.96721311, 0.96721311, 0.96721311, 0.96721311,\n",
       "        0.96721311, 0.96721311, 0.96721311, 0.96721311, 0.96721311,\n",
       "        0.96721311, 0.96721311, 0.95081967, 0.95081967, 0.93442623,\n",
       "        0.91803279, 0.91803279, 0.90163934, 0.90163934, 0.90163934,\n",
       "        0.90163934, 0.90163934, 0.90163934, 0.90163934, 0.90163934,\n",
       "        0.90163934, 0.90163934, 0.90163934, 0.90163934, 0.90163934,\n",
       "        0.90163934, 0.90163934, 0.90163934, 0.90163934, 0.90163934,\n",
       "        0.90163934, 0.90163934, 0.90163934, 0.90163934, 0.90163934,\n",
       "        0.90163934, 0.90163934, 0.90163934, 0.90163934, 0.90163934,\n",
       "        0.90163934, 0.90163934, 0.90163934, 0.90163934, 0.90163934,\n",
       "        0.90163934, 0.90163934, 0.90163934, 0.90163934, 0.90163934,\n",
       "        0.8852459 , 0.8852459 , 0.8852459 , 0.8852459 , 0.8852459 ,\n",
       "        0.8852459 , 0.8852459 , 0.86885246, 0.85245902, 0.83606557,\n",
       "        0.81967213, 0.81967213, 0.81967213, 0.81967213, 0.81967213,\n",
       "        0.80327869, 0.80327869, 0.80327869, 0.80327869, 0.80327869,\n",
       "        0.80327869, 0.78688525, 0.78688525, 0.78688525, 0.78688525,\n",
       "        0.7704918 , 0.7704918 , 0.7704918 , 0.7704918 , 0.75409836,\n",
       "        0.73770492, 0.73770492, 0.73770492, 0.72131148, 0.72131148,\n",
       "        0.72131148, 0.70491803, 0.70491803, 0.70491803, 0.67213115,\n",
       "        0.6557377 , 0.63934426, 0.63934426, 0.62295082, 0.60655738,\n",
       "        0.59016393, 0.57377049, 0.55737705, 0.54098361, 0.52459016,\n",
       "        0.50819672, 0.49180328, 0.49180328, 0.47540984, 0.45901639,\n",
       "        0.44262295, 0.42622951, 0.40983607, 0.39344262, 0.37704918,\n",
       "        0.36065574, 0.3442623 , 0.32786885, 0.31147541, 0.29508197,\n",
       "        0.27868852, 0.26229508, 0.24590164, 0.24590164, 0.2295082 ,\n",
       "        0.21311475, 0.19672131, 0.18032787, 0.16393443, 0.14754098,\n",
       "        0.13114754, 0.1147541 , 0.09836066, 0.08196721, 0.06557377,\n",
       "        0.03278689, 0.01639344, 0.        ]),\n",
       " array([0.11573101, 0.11636721, 0.11819211, 0.12102773, 0.12349478,\n",
       "        0.12350956, 0.12367551, 0.12730436, 0.1278098 , 0.12838058,\n",
       "        0.12904509, 0.12928355, 0.12934054, 0.129419  , 0.13094559,\n",
       "        0.1317437 , 0.13196916, 0.13221179, 0.13227896, 0.135367  ,\n",
       "        0.13570355, 0.13570998, 0.13574048, 0.13664487, 0.13758468,\n",
       "        0.13821236, 0.13866561, 0.14423593, 0.1452315 , 0.149273  ,\n",
       "        0.14927475, 0.14996976, 0.15025069, 0.1502926 , 0.15031481,\n",
       "        0.15252581, 0.15276921, 0.15344752, 0.15652279, 0.15768776,\n",
       "        0.15805796, 0.15920995, 0.15981387, 0.16929074, 0.17053651,\n",
       "        0.17288741, 0.17656589, 0.18280309, 0.20840196, 0.21127162,\n",
       "        0.21146799, 0.21264241, 0.21814871, 0.22356775, 0.22562755,\n",
       "        0.22996172, 0.23280096, 0.24315894, 0.24583259, 0.2538079 ,\n",
       "        0.25749268, 0.26467919, 0.26627952, 0.27002661, 0.283459  ,\n",
       "        0.28441583, 0.28805361, 0.28879775, 0.29773302, 0.30202577,\n",
       "        0.31152612, 0.32202998, 0.32461309, 0.37288265, 0.37416472,\n",
       "        0.37571831, 0.38134891, 0.39802171, 0.40161938, 0.40194454,\n",
       "        0.4144514 , 0.41803184, 0.4235194 , 0.43653448, 0.43966453,\n",
       "        0.44222434, 0.4449725 , 0.4467366 , 0.45125912, 0.45447198,\n",
       "        0.49209939, 0.49675974, 0.51355257, 0.5172475 , 0.51807932,\n",
       "        0.52051723, 0.54412033, 0.55064772, 0.57135184, 0.59397424,\n",
       "        0.60096648, 0.61651657, 0.62057771, 0.62067108, 0.62629702,\n",
       "        0.6287642 , 0.63856712, 0.64779432, 0.64818744, 0.6512987 ,\n",
       "        0.65202374, 0.65651105, 0.66092027, 0.66814008, 0.67114657,\n",
       "        0.68434291, 0.68584876, 0.72771396, 0.74146858, 0.74838703,\n",
       "        0.75924585, 0.7599495 , 0.76223728, 0.76738875, 0.7746788 ,\n",
       "        0.78006622, 0.7938398 , 0.79696904, 0.83460274, 0.84990728,\n",
       "        0.86053886, 0.86365942, 0.86565305, 0.87778554, 0.88858248,\n",
       "        0.89611671, 0.91026752, 0.91630376, 0.91699188, 0.92085513,\n",
       "        0.92233282, 0.92353131, 0.92638599, 0.92838721, 0.93261004,\n",
       "        0.94040086, 0.94326279]))"
      ]
     },
     "execution_count": 100,
     "metadata": {},
     "output_type": "execute_result"
    }
   ],
   "source": [
    "precision_recall_curve(y_test, pred_proba_class1) #임곗값, precision과 recall 3개의 array반환"
   ]
  },
  {
   "cell_type": "code",
   "execution_count": 102,
   "metadata": {},
   "outputs": [
    {
     "name": "stdout",
     "output_type": "stream",
     "text": [
      "Threshold:  [0.116 0.132 0.149 0.173 0.257 0.376 0.492 0.629 0.759 0.896]\n",
      "Precision:  [0.379 0.424 0.455 0.519 0.618 0.676 0.797 0.93  0.964 1.   ]\n",
      "Recall:  [1.    0.967 0.902 0.902 0.902 0.82  0.77  0.656 0.443 0.213]\n"
     ]
    }
   ],
   "source": [
    "#10개의 임곗값 각각에 대한 정밀도와 재현율 값\n",
    "print('Threshold: ', np.round(thresholds[thr_index],3))\n",
    "print('Precision: ', np.round(precisions[thr_index],3))\n",
    "print('Recall: ', np.round(recalls[thr_index],3))\n",
    "\n",
    "##나온 결괏값을 보자. 임곗값이 증가할수록 precision 늘어나지만 recall 줄어듦"
   ]
  },
  {
   "cell_type": "code",
   "execution_count": 103,
   "metadata": {},
   "outputs": [],
   "source": [
    "#위의 결과를 시각화해보자.\n",
    "\n",
    "import matplotlib.pyplot as plt\n",
    "import matplotlib.ticker as ticker\n",
    "%matplotlib inline\n",
    "\n",
    "def pre_recall_curve_plot(y_test, pred_proba):\n",
    "    precisions, recalls, thresholds = precision_recall_curve(y_test, pred_proba)\n",
    "    \n",
    "    plt.figure(figsize=(12,8))\n",
    "    threshold_boundary=thresholds.shape[0]\n",
    "    plt.plot(thresholds, precisions[0:threshold_boundary], linestyle='--', label='Precision') #x: 임곗값 , y:precision\n",
    "    plt.plot(thresholds, recalls[0:threshold_boundary], label='Recall') #x:임곗값, y:recall\n",
    "    \n",
    "    #x축 단위 0.1로 변경\n",
    "    start, end = plt.xlim()\n",
    "    plt.xticks(np.round(np.arange(start, end, 0.1),1))\n",
    "    \n",
    "    #label, legend, grid\n",
    "    plt.xlabel('Threshold value')\n",
    "    plt.ylabel('Precision & Recall value')\n",
    "    plt.grid(True)\n",
    "    plt.legend()\n",
    "    plt.show()"
   ]
  },
  {
   "cell_type": "code",
   "execution_count": 104,
   "metadata": {},
   "outputs": [
    {
     "data": {
      "image/png": "[encoded data removed]",
      "text/plain": [
       "<Figure size 864x576 with 1 Axes>"
      ]
     },
     "metadata": {
      "needs_background": "light"
     },
     "output_type": "display_data"
    }
   ],
   "source": [
    "pre_recall_curve_plot(y_test, lr_clf.predict_proba(X_test)[:,1]) \n",
    "#만나는 지점(threshold=약 0.45)가 가장 최적의 임곗값.(정밀도와 재현율 둘다 적절히 높아야 하므로)"
   ]
  },
  {
   "cell_type": "markdown",
   "metadata": {},
   "source": [
    "- precision과 recall은 트레이드오프가 있어, 하나가 높으면 하나가 낮음.\n",
    "- 그러니 지표 평가를 할 때 두 지표를 모두 고려해야 함. 어느 한쪽만 높으면 그것은 극단적인 수치 조작의 가능성이 있음. 두 지표값이 모두 적절히 높아야함!"
   ]
  },
  {
   "cell_type": "markdown",
   "metadata": {},
   "source": [
    "# F1 스코어(F1 score)"
   ]
  },
  {
   "cell_type": "markdown",
   "metadata": {},
   "source": [
    "- 정밀도와 재현율을 결합한 지표. \n",
    "- 정밀도와 재현율이 어느 한쪽으로 치우치지 않는 수치를 나타낼 때 상대적으로 높은 값을 가짐.\n",
    "- F1=2*(precision * recall)/(precision+recall)"
   ]
  },
  {
   "cell_type": "code",
   "execution_count": 105,
   "metadata": {},
   "outputs": [
    {
     "data": {
      "text/plain": [
       "0.18"
      ]
     },
     "execution_count": 105,
     "metadata": {},
     "output_type": "execute_result"
    }
   ],
   "source": [
    "#만일 A 모델의 정밀도 0.9, 재현율 0.1로 극단적 차이가 난다면 f1 스코어는\n",
    "2*(0.09)/1"
   ]
  },
  {
   "cell_type": "code",
   "execution_count": 106,
   "metadata": {},
   "outputs": [
    {
     "data": {
      "text/plain": [
       "0.5"
      ]
     },
     "execution_count": 106,
     "metadata": {},
     "output_type": "execute_result"
    }
   ],
   "source": [
    "#만일 B 모델의 정밀도가 0.5, 재현율 0.5로 그닥 차이가 없다면 f1 스코어는\n",
    "2*(0.25)/1"
   ]
  },
  {
   "cell_type": "code",
   "execution_count": 107,
   "metadata": {},
   "outputs": [
    {
     "name": "stdout",
     "output_type": "stream",
     "text": [
      "0.8979591836734694\n",
      "0.7213114754098361\n"
     ]
    }
   ],
   "source": [
    "print(precision_score(y_test,pred))\n",
    "print(recall_score(y_test,pred))"
   ]
  },
  {
   "cell_type": "code",
   "execution_count": 108,
   "metadata": {},
   "outputs": [
    {
     "data": {
      "text/plain": [
       "0.8"
      ]
     },
     "execution_count": 108,
     "metadata": {},
     "output_type": "execute_result"
    }
   ],
   "source": [
    "#이렇게 위처럼 정밀도와 재현율 둘다 높은 모델의 f1 스코어는\n",
    "from sklearn.metrics import f1_score\n",
    "f1_score(y_test, pred)"
   ]
  },
  {
   "cell_type": "code",
   "execution_count": 110,
   "metadata": {},
   "outputs": [
    {
     "name": "stdout",
     "output_type": "stream",
     "text": [
      "\n",
      "임곗값:  0.4\n",
      "[[97 21]\n",
      " [11 50]]\n",
      "정확도: 0.8212, 정밀도: 0.7042, 재현율: 0.8197, F1스코어: 0.7576\n",
      "\n",
      "임곗값:  0.45\n",
      "[[105  13]\n",
      " [ 13  48]]\n",
      "정확도: 0.8547, 정밀도: 0.7869, 재현율: 0.7869, F1스코어: 0.7869\n",
      "\n",
      "임곗값:  0.5\n",
      "[[108  10]\n",
      " [ 14  47]]\n",
      "정확도: 0.8659, 정밀도: 0.8246, 재현율: 0.7705, F1스코어: 0.7966\n",
      "\n",
      "임곗값:  0.6\n",
      "[[113   5]\n",
      " [ 17  44]]\n",
      "정확도: 0.8771, 정밀도: 0.8980, 재현율: 0.7213, F1스코어: 0.8000\n",
      "\n",
      "임곗값:  0.65\n",
      "[[116   2]\n",
      " [ 24  37]]\n",
      "정확도: 0.8547, 정밀도: 0.9487, 재현율: 0.6066, F1스코어: 0.7400\n"
     ]
    }
   ],
   "source": [
    "#threshold를 계속 바꾸면서 평가지표를 출력해 보자.\n",
    "thresholds=[0.4, 0.45, 0.5, 0.6, 0.65]\n",
    "\n",
    "def get_clf_eval(y_test, pred):\n",
    "    confusion = confusion_matrix(y_test,pred)\n",
    "    acc=accuracy_score(y_test,pred)\n",
    "    pre=precision_score(y_test,pred)\n",
    "    recall=recall_score(y_test,pred)\n",
    "    f1=f1_score(y_test,pred)\n",
    "    print(confusion)\n",
    "    print('정확도: {0:.4f}, 정밀도: {1:.4f}, 재현율: {2:.4f}, F1스코어: {3:.4f}'.format(acc, pre, recall, f1))\n",
    "\n",
    "def get_eval_by_threshold(y_test, pred_proba_c1, thresholds):\n",
    "    for t in thresholds:\n",
    "        binarizer = Binarizer(threshold=t).fit(pred_proba_c1) #학습\n",
    "        custom_predict = binarizer.transform(pred_proba_c1) #예측\n",
    "        print('\\n임곗값: ', t)\n",
    "        get_clf_eval(y_test, custom_predict)      \n",
    "        \n",
    "get_eval_by_threshold(y_test, pred_proba[:,1].reshape(-1,1), thresholds) \n",
    "#임곗값이 커질수록 P로 판단되는 것이 적어짐. 또한 precision은 높아지나 recall은 낮아짐\n",
    "#왜냐, 임곗값이 작을땐 웬만해선 P로 예측.\n",
    "#반대로, 임곗값이 클땐 웬만해선 N으로 예측.\n",
    "\n",
    "#그리고 정밀도와 재현율 둘 다 적절히 높을 때의 f1 스코어가 가장 높게나옴.(여기선 0.6이지만 recall이 작아서 다른 threshold를 선택하는 게 나아보임.)"
   ]
  },
  {
   "cell_type": "markdown",
   "metadata": {},
   "source": [
    "# ROC곡선(ROC Curve) & AUC값"
   ]
  },
  {
   "cell_type": "markdown",
   "metadata": {},
   "source": [
    "- 이진 분류의 예측 성능 측정에서 중요하게 사용되는 지표.\n",
    "- ROC곡선은 FPR(rate)가 변할 때, TPR(rate)가 어떻게 변하는지를 나타내는 곡선.(X축: FPR(1-TNR), Y축: TPR(recall))"
   ]
  },
  {
   "cell_type": "markdown",
   "metadata": {},
   "source": [
    "##### fprs, tprs, thresholds = roc_curve(y_test, pred_proba의 1번 칼럼)\n",
    "- FPR, TPR, 임곗값을 알려줌"
   ]
  },
  {
   "cell_type": "code",
   "execution_count": 111,
   "metadata": {},
   "outputs": [
    {
     "data": {
      "text/plain": [
       "(48,)"
      ]
     },
     "execution_count": 111,
     "metadata": {},
     "output_type": "execute_result"
    }
   ],
   "source": [
    "from sklearn.metrics import roc_curve\n",
    "\n",
    "#레이블 값이 1일 때의 예측 확률 추출\n",
    "pred_proba_class1=lr_clf.predict_proba(X_test)[:,1]\n",
    "\n",
    "fprs, tprs, thresholds = roc_curve(y_test, pred_proba_class1) #thresholds는 자동으로 만들어짐.\n",
    "\n",
    "thresholds.shape"
   ]
  },
  {
   "cell_type": "code",
   "execution_count": 57,
   "metadata": {},
   "outputs": [
    {
     "name": "stdout",
     "output_type": "stream",
     "text": [
      "임곗값 배열의 인덱스:  [ 0  5 10 15 20 25 30 35 40 45]\n",
      "샘플용 10개의 임곗값:  [1.94 0.87 0.63 0.55 0.44 0.32 0.15 0.14 0.13 0.12]\n",
      "샘플 임곗값별 FPR:  [0.   0.01 0.03 0.06 0.13 0.2  0.56 0.6  0.69 0.85]\n",
      "샘플 임곗값별 TPR:  [0.   0.25 0.67 0.74 0.79 0.89 0.9  0.95 0.97 0.98]\n"
     ]
    }
   ],
   "source": [
    "#반환된 임곗값 배열 로우가 48건임(shape 확인), 임곗값을 5 step으로 10건 추출\n",
    "thr_index=np.arange(0, thresholds.shape[0], 5)\n",
    "print('임곗값 배열의 인덱스: ', thr_index)\n",
    "print('샘플용 10개의 임곗값: ',np.round(thresholds[thr_index],2))\n",
    "\n",
    "#5 step 단위로 추출된 임곗값에 따른 FPR, TPR 값\n",
    "print('샘플 임곗값별 FPR: ', np.round(fprs[thr_index],2))\n",
    "print('샘플 임곗값별 TPR: ', np.round(tprs[thr_index],2))\n",
    "##임곗값이 1-> 0으로 작아지면서 fpr, tpr 값이 점차 커진다.\n",
    "##또한 fpr이 조금씩 커질 때 tpr 급상승."
   ]
  },
  {
   "cell_type": "code",
   "execution_count": 112,
   "metadata": {},
   "outputs": [],
   "source": [
    "#ROC 곡선 시각화: fpr, tpr 값\n",
    "def roc_curve_plot(y_test, pred_proba_c1):\n",
    "    fprs, tprs, thresholds = roc_curve(y_test, pred_proba_c1)\n",
    "    plt.figure(figsize=(10,8))\n",
    "    plt.plot(fprs, tprs, label='ROC') #ROC curve\n",
    "    plt.plot([0,1],[0,1], 'k--', label='Random') #가운데 대각선 직선\n",
    "    \n",
    "    #x축 스케일 0.1 단위로 변경\n",
    "    start, end = plt.xlim()\n",
    "    plt.xticks(np.round(np.arange(start, end, 0.1),1))\n",
    "    \n",
    "    #범위, label ,legend\n",
    "    plt.xlim(0,1)\n",
    "    plt.ylim(0,1)\n",
    "    plt.xlabel('FPR(1-Sensitivity)')\n",
    "    plt.ylabel('TPR(Recall)')\n",
    "    plt.legend()"
   ]
  },
  {
   "cell_type": "code",
   "execution_count": 113,
   "metadata": {},
   "outputs": [
    {
     "data": {
      "image/png": "[encoded data removed]",
      "text/plain": [
       "<Figure size 720x576 with 1 Axes>"
      ]
     },
     "metadata": {
      "needs_background": "light"
     },
     "output_type": "display_data"
    }
   ],
   "source": [
    "roc_curve_plot(y_test, pred_proba[:,1]) ## fpr이 조금씩 커질 때 tpr 급상승."
   ]
  },
  {
   "cell_type": "markdown",
   "metadata": {},
   "source": [
    "- 사실 ROC 곡선 자체는 FPR과 TPR 간 관계를 볼 때 사용하고, 직접적인 평가 지표는 ROC곡선 면적에 기반한 AUC 값임.\n",
    "- AUC값은 ROC곡선 밑의 면적을 구한 것으로, 일반적으로 1에 가까울수록 좋은 수치임.\n",
    "- AUC값이 커지려면 FPR이 작은 상태에서 얼마나 큰 TPR을 얻을 수 있느냐가 관건\n",
    "- 랜덤 직선의 AUC가 0.5이므로, 일반적인 분류모델의 AUC는 0.5보다는 큼."
   ]
  },
  {
   "cell_type": "markdown",
   "metadata": {},
   "source": [
    "##### roc_auc_score(y_test, pred)"
   ]
  },
  {
   "cell_type": "code",
   "execution_count": 63,
   "metadata": {},
   "outputs": [
    {
     "data": {
      "text/plain": [
       "0.842873020283412"
      ]
     },
     "execution_count": 63,
     "metadata": {},
     "output_type": "execute_result"
    }
   ],
   "source": [
    "from sklearn.metrics import roc_auc_score\n",
    "\n",
    "pred=lr_clf.predict(X_test)\n",
    "roc_score=roc_auc_score(y_test,pred)\n",
    "roc_score #위 모델의 AUC는 0.84임. 꽤 1에 가까우므로 좋은 모델으로 볼수있겠음."
   ]
  },
  {
   "cell_type": "code",
   "execution_count": null,
   "metadata": {},
   "outputs": [],
   "source": []
  },
  {
   "cell_type": "code",
   "execution_count": null,
   "metadata": {},
   "outputs": [],
   "source": []
  }
 ],
 "metadata": {
  "kernelspec": {
   "display_name": "Python 3",
   "language": "python",
   "name": "python3"
  },
  "language_info": {
   "codemirror_mode": {
    "name": "ipython",
    "version": 3
   },
   "file_extension": ".py",
   "mimetype": "text/x-python",
   "name": "python",
   "nbconvert_exporter": "python",
   "pygments_lexer": "ipython3",
   "version": "3.7.1"
  }
 },
 "nbformat": 4,
 "nbformat_minor": 2
}
