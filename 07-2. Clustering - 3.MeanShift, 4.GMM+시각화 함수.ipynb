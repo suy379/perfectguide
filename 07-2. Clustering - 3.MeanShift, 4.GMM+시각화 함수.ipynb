{
 "cells": [
  {
   "cell_type": "markdown",
   "metadata": {},
   "source": [
    "### 3. Mean Shift(평균 이동)\n",
    "- \"군집 기준: 중심점=군집의 밀도가 높은 곳\"\n",
    "- 가장 집중적으로 데이터가 모여있어 확률 밀도 함수가 피크인 지점을 중심점으로 설정 (여기서 확률밀도함수를 찾는 데 KDE(Kernel Density Estimation)를 이용)\n",
    "- k-means와는 달리, 가장 최적의 k는 알고리즘 자체에서 정해주지만 대신 '대역폭(bandwidth)'을 초기에 정해야 함. 또한 이 대역폭에 따라 군집화가 매우 많은 영향을 받는다는 단점.\n",
    "- 그러나 데이터 세트 형태, 분포를 가정하지 않는 비모수적 방법이며, 이상치의 영향력도 크지 않음. 또 k를 정해주지 않아도 자기가 알아서 확률 밀도가 큰 곳에 군집을 만들기 때문에 쉽다!"
   ]
  },
  {
   "cell_type": "code",
   "execution_count": 1,
   "metadata": {},
   "outputs": [],
   "source": [
    "import numpy as np\n",
    "import pandas as pd\n",
    "import matplotlib.pyplot as plt\n",
    "import seaborn as sns\n",
    "from sklearn.datasets import make_blobs\n",
    "from sklearn.cluster import MeanShift\n",
    "%matplotlib inline\n",
    "sns.set(color_codes=True) #참고)만일 sns.set을 설정하면 plt든 sns든 seaborn의 그래프형태로 깔끔하게 나옴.(plt형태가 좋으면 안해도됨.)"
   ]
  },
  {
   "cell_type": "code",
   "execution_count": 2,
   "metadata": {},
   "outputs": [],
   "source": [
    "#make_blobs를 이용하여 가상의 데이터 만들기\n",
    "X, y = make_blobs(n_samples=200, n_features=2, centers=3, cluster_std=0.8, random_state=0) #X피처 2개, 중심점 3개"
   ]
  },
  {
   "cell_type": "markdown",
   "metadata": {},
   "source": [
    "#### MeanShift(bandwidth=대역폭)\n",
    "- 대역폭을 작게 할수록 군집 개수가 많아짐.\n",
    "- 군집 개수로 찾아준 게 너무 많다면 대역폭을 늘리기"
   ]
  },
  {
   "cell_type": "code",
   "execution_count": 3,
   "metadata": {},
   "outputs": [
    {
     "data": {
      "text/plain": [
       "array([0, 1, 2, 3, 4, 5, 6, 7], dtype=int64)"
      ]
     },
     "execution_count": 3,
     "metadata": {},
     "output_type": "execute_result"
    }
   ],
   "source": [
    "#객체\n",
    "meanshift = MeanShift(bandwidth=0.9) #우리는 대역폭만 설정하면, 밀도가 가장 높은 곳을 찾아서 최적의 클러스터 개수인 k는 알아서 찾아줌.\n",
    "#학습\n",
    "cluster_labels = meanshift.fit_predict(X)\n",
    "#결과에서 cluster의 유니크값은?\n",
    "np.unique(cluster_labels) #k=8로 찾아주었음. 헐.. 앞에서 make_blobs로 만들었을 때 최적의 중심점 개수는 3개였는데..? 지나치게 세분화된 군집화임."
   ]
  },
  {
   "cell_type": "code",
   "execution_count": 4,
   "metadata": {},
   "outputs": [
    {
     "data": {
      "text/plain": [
       "array([0, 1, 2], dtype=int64)"
      ]
     },
     "execution_count": 4,
     "metadata": {},
     "output_type": "execute_result"
    }
   ],
   "source": [
    "#대역폭을 0.9->1.0으로 늘려서 다시 수행\n",
    "#객체\n",
    "meanshift = MeanShift(bandwidth=1) #우리는 대역폭만 설정하면, 밀도가 가장 높은 곳을 찾아서 최적의 클러스터 개수인 k는 알아서 찾아줌.\n",
    "#학습\n",
    "cluster_labels = meanshift.fit_predict(X)\n",
    "#결과에서 cluster의 유니크값은?\n",
    "np.unique(cluster_labels)"
   ]
  },
  {
   "cell_type": "markdown",
   "metadata": {},
   "source": [
    "##### estimate_bandwidth(X, quantile)\n",
    "- 최적의 대역폭 값을 찾아줌"
   ]
  },
  {
   "cell_type": "code",
   "execution_count": 5,
   "metadata": {},
   "outputs": [
    {
     "data": {
      "text/plain": [
       "1.689"
      ]
     },
     "execution_count": 5,
     "metadata": {},
     "output_type": "execute_result"
    }
   ],
   "source": [
    "from sklearn.cluster import estimate_bandwidth\n",
    "\n",
    "bandwidth = estimate_bandwidth(X, quantile=0.25)\n",
    "#최적의 bandwidth값 출력\n",
    "np.round(bandwidth,3) "
   ]
  },
  {
   "cell_type": "code",
   "execution_count": 6,
   "metadata": {},
   "outputs": [
    {
     "data": {
      "text/html": [
       "<div>\n",
       "<style scoped>\n",
       "    .dataframe tbody tr th:only-of-type {\n",
       "        vertical-align: middle;\n",
       "    }\n",
       "\n",
       "    .dataframe tbody tr th {\n",
       "        vertical-align: top;\n",
       "    }\n",
       "\n",
       "    .dataframe thead th {\n",
       "        text-align: right;\n",
       "    }\n",
       "</style>\n",
       "<table border=\"1\" class=\"dataframe\">\n",
       "  <thead>\n",
       "    <tr style=\"text-align: right;\">\n",
       "      <th></th>\n",
       "      <th>ftr1</th>\n",
       "      <th>ftr2</th>\n",
       "      <th>target</th>\n",
       "    </tr>\n",
       "  </thead>\n",
       "  <tbody>\n",
       "    <tr>\n",
       "      <th>0</th>\n",
       "      <td>-1.692427</td>\n",
       "      <td>3.622025</td>\n",
       "      <td>2</td>\n",
       "    </tr>\n",
       "    <tr>\n",
       "      <th>1</th>\n",
       "      <td>0.697940</td>\n",
       "      <td>4.428867</td>\n",
       "      <td>0</td>\n",
       "    </tr>\n",
       "    <tr>\n",
       "      <th>2</th>\n",
       "      <td>1.100228</td>\n",
       "      <td>4.606317</td>\n",
       "      <td>0</td>\n",
       "    </tr>\n",
       "  </tbody>\n",
       "</table>\n",
       "</div>"
      ],
      "text/plain": [
       "       ftr1      ftr2  target\n",
       "0 -1.692427  3.622025       2\n",
       "1  0.697940  4.428867       0\n",
       "2  1.100228  4.606317       0"
      ]
     },
     "execution_count": 6,
     "metadata": {},
     "output_type": "execute_result"
    }
   ],
   "source": [
    "#위에 나온 값을 이용해 시각화\n",
    "\n",
    "df = pd.DataFrame(X, columns= ['ftr1','ftr2'])\n",
    "df['target']=y\n",
    "df.head(3)"
   ]
  },
  {
   "cell_type": "code",
   "execution_count": 7,
   "metadata": {},
   "outputs": [
    {
     "data": {
      "text/plain": [
       "array([0, 1, 2], dtype=int64)"
      ]
     },
     "execution_count": 7,
     "metadata": {},
     "output_type": "execute_result"
    }
   ],
   "source": [
    "#최적의 대역폭 값\n",
    "best_bandwidth = estimate_bandwidth(X, quantile=0.25)\n",
    "#평균이동 수행\n",
    "#객체\n",
    "meanshift = MeanShift(bandwidth=best_bandwidth)\n",
    "#학습\n",
    "cluster_labels = meanshift.fit_predict(X)\n",
    "np.unique(cluster_labels)"
   ]
  },
  {
   "cell_type": "markdown",
   "metadata": {},
   "source": [
    "- 속성"
   ]
  },
  {
   "cell_type": "code",
   "execution_count": 9,
   "metadata": {},
   "outputs": [
    {
     "data": {
      "text/plain": [
       "array([1, 0, 0, 1, 0, 1, 2, 2, 0, 1, 0, 1, 0, 0, 0, 1, 2, 2, 0, 1, 1, 2,\n",
       "       0, 0, 1, 0, 2, 1, 1, 1, 0, 0, 1, 0, 2, 2, 0, 2, 2, 1, 2, 1, 1, 1,\n",
       "       0, 0, 0, 1, 0, 0, 0, 2, 1, 1, 1, 1, 2, 2, 0, 0, 1, 1, 0, 2, 2, 1,\n",
       "       2, 2, 1, 2, 2, 0, 0, 1, 0, 1, 2, 2, 2, 1, 1, 0, 0, 2, 2, 0, 0, 1,\n",
       "       0, 2, 1, 1, 2, 0, 2, 0, 0, 1, 1, 2, 2, 0, 1, 0, 1, 0, 2, 0, 0, 2,\n",
       "       0, 1, 2, 1, 0, 0, 0, 2, 1, 1, 2, 2, 1, 0, 2, 0, 1, 2, 1, 0, 1, 2,\n",
       "       2, 2, 0, 2, 2, 0, 2, 1, 1, 1, 0, 2, 2, 0, 1, 1, 2, 0, 2, 1, 1, 1,\n",
       "       0, 2, 2, 2, 0, 0, 2, 1, 1, 1, 0, 0, 2, 1, 2, 2, 0, 2, 0, 2, 1, 1,\n",
       "       0, 1, 0, 2, 0, 1, 2, 2, 2, 0, 1, 2, 0, 0, 1, 1, 2, 2, 2, 2, 1, 2,\n",
       "       0, 2], dtype=int64)"
      ]
     },
     "execution_count": 9,
     "metadata": {},
     "output_type": "execute_result"
    }
   ],
   "source": [
    "#fit_predict 하지 않고, 그냥 fit을 학습만 한 후 labels_속성을 이용해 레이블 값을 뽑아낼 수 있음\n",
    "meanshift.labels_"
   ]
  },
  {
   "cell_type": "code",
   "execution_count": 10,
   "metadata": {},
   "outputs": [
    {
     "data": {
      "text/plain": [
       "array([[ 0.90425412,  4.43969979],\n",
       "       [-1.63547329,  2.84588284],\n",
       "       [ 1.84011231,  0.83840976]])"
      ]
     },
     "execution_count": 10,
     "metadata": {},
     "output_type": "execute_result"
    }
   ],
   "source": [
    "meanshift.cluster_centers_ #row: cluster, col:X ftr #중심점 좌표"
   ]
  },
  {
   "cell_type": "code",
   "execution_count": 8,
   "metadata": {},
   "outputs": [
    {
     "data": {
      "text/html": [
       "<div>\n",
       "<style scoped>\n",
       "    .dataframe tbody tr th:only-of-type {\n",
       "        vertical-align: middle;\n",
       "    }\n",
       "\n",
       "    .dataframe tbody tr th {\n",
       "        vertical-align: top;\n",
       "    }\n",
       "\n",
       "    .dataframe thead th {\n",
       "        text-align: right;\n",
       "    }\n",
       "</style>\n",
       "<table border=\"1\" class=\"dataframe\">\n",
       "  <thead>\n",
       "    <tr style=\"text-align: right;\">\n",
       "      <th></th>\n",
       "      <th>ftr1</th>\n",
       "      <th>ftr2</th>\n",
       "      <th>target</th>\n",
       "      <th>meanshift</th>\n",
       "    </tr>\n",
       "  </thead>\n",
       "  <tbody>\n",
       "    <tr>\n",
       "      <th>0</th>\n",
       "      <td>-1.692427</td>\n",
       "      <td>3.622025</td>\n",
       "      <td>2</td>\n",
       "      <td>1</td>\n",
       "    </tr>\n",
       "    <tr>\n",
       "      <th>1</th>\n",
       "      <td>0.697940</td>\n",
       "      <td>4.428867</td>\n",
       "      <td>0</td>\n",
       "      <td>0</td>\n",
       "    </tr>\n",
       "    <tr>\n",
       "      <th>2</th>\n",
       "      <td>1.100228</td>\n",
       "      <td>4.606317</td>\n",
       "      <td>0</td>\n",
       "      <td>0</td>\n",
       "    </tr>\n",
       "    <tr>\n",
       "      <th>3</th>\n",
       "      <td>-1.448724</td>\n",
       "      <td>3.384245</td>\n",
       "      <td>2</td>\n",
       "      <td>1</td>\n",
       "    </tr>\n",
       "    <tr>\n",
       "      <th>4</th>\n",
       "      <td>1.214861</td>\n",
       "      <td>5.364896</td>\n",
       "      <td>0</td>\n",
       "      <td>0</td>\n",
       "    </tr>\n",
       "  </tbody>\n",
       "</table>\n",
       "</div>"
      ],
      "text/plain": [
       "       ftr1      ftr2  target  meanshift\n",
       "0 -1.692427  3.622025       2          1\n",
       "1  0.697940  4.428867       0          0\n",
       "2  1.100228  4.606317       0          0\n",
       "3 -1.448724  3.384245       2          1\n",
       "4  1.214861  5.364896       0          0"
      ]
     },
     "execution_count": 8,
     "metadata": {},
     "output_type": "execute_result"
    }
   ],
   "source": [
    "df['meanshift']=cluster_labels\n",
    "df.head()"
   ]
  },
  {
   "cell_type": "code",
   "execution_count": 9,
   "metadata": {},
   "outputs": [
    {
     "data": {
      "image/png": "[encoded data removed]",
      "text/plain": [
       "<Figure size 432x288 with 1 Axes>"
      ]
     },
     "metadata": {
      "needs_background": "light"
     },
     "output_type": "display_data"
    }
   ],
   "source": [
    "#시각화(meanshift.cluster_centers_ 이용)(k-means 코드와 동일)\n",
    "centers = meanshift.cluster_centers_ #중심점의 좌표 지정->시각화 그래프를 만든 후 중심점에 점을 찍기 위함.\n",
    "unique_labels = np.unique(cluster_labels) #0,1,2\n",
    "markers=['o','s','^']\n",
    "\n",
    "for i in unique_labels:\n",
    "    #시각화 그래프\n",
    "    label_cluster = df[df['meanshift']==i] #i에 따른 cluster 집합 만듦(불린인덱싱이므로 그 행번호의 df반환)\n",
    "    plt.scatter(x=label_cluster['ftr1'], y=label_cluster['ftr2'], marker= markers[i])\n",
    "    \n",
    "    #중심점 점 찍기\n",
    "    center_x_y = centers[i] #클러스터 0,1,2를 지정\n",
    "    plt.scatter(x=center_x_y[0], y=center_x_y[1], s=200, c='white', alpha=0.9, edgecolor='k', marker=markers[i]) #도형모양의 흰색 점\n",
    "    plt.scatter(x=center_x_y[0], y=center_x_y[1], s=100, c='k', alpha=0.9, edgecolor='k', marker='$%d$' % i) #점 안에 써질 label\n",
    "    # 이렇게 해도 결과 동일\n",
    "   # plt.scatter(x=centers[i,0], y=centers[i,1], s=200, c='white', alpha=0.9, edgecolor='k', marker=markers[i])\n",
    "   # plt.scatter(x=centers[i,0], y=centers[i,1], s=100, c='k', alpha=0.9, edgecolor='k', marker='$%d$' % i)\n",
    "    \n",
    "plt.show()\n"
   ]
  },
  {
   "cell_type": "code",
   "execution_count": 10,
   "metadata": {},
   "outputs": [
    {
     "data": {
      "text/html": [
       "<div>\n",
       "<style scoped>\n",
       "    .dataframe tbody tr th:only-of-type {\n",
       "        vertical-align: middle;\n",
       "    }\n",
       "\n",
       "    .dataframe tbody tr th {\n",
       "        vertical-align: top;\n",
       "    }\n",
       "\n",
       "    .dataframe thead th {\n",
       "        text-align: right;\n",
       "    }\n",
       "</style>\n",
       "<table border=\"1\" class=\"dataframe\">\n",
       "  <thead>\n",
       "    <tr style=\"text-align: right;\">\n",
       "      <th></th>\n",
       "      <th>ftr1</th>\n",
       "      <th>ftr2</th>\n",
       "      <th>target</th>\n",
       "      <th>meanshift</th>\n",
       "    </tr>\n",
       "  </thead>\n",
       "  <tbody>\n",
       "    <tr>\n",
       "      <th>0</th>\n",
       "      <td>-1.692427</td>\n",
       "      <td>3.622025</td>\n",
       "      <td>2</td>\n",
       "      <td>1</td>\n",
       "    </tr>\n",
       "    <tr>\n",
       "      <th>1</th>\n",
       "      <td>0.697940</td>\n",
       "      <td>4.428867</td>\n",
       "      <td>0</td>\n",
       "      <td>0</td>\n",
       "    </tr>\n",
       "    <tr>\n",
       "      <th>2</th>\n",
       "      <td>1.100228</td>\n",
       "      <td>4.606317</td>\n",
       "      <td>0</td>\n",
       "      <td>0</td>\n",
       "    </tr>\n",
       "    <tr>\n",
       "      <th>3</th>\n",
       "      <td>-1.448724</td>\n",
       "      <td>3.384245</td>\n",
       "      <td>2</td>\n",
       "      <td>1</td>\n",
       "    </tr>\n",
       "    <tr>\n",
       "      <th>4</th>\n",
       "      <td>1.214861</td>\n",
       "      <td>5.364896</td>\n",
       "      <td>0</td>\n",
       "      <td>0</td>\n",
       "    </tr>\n",
       "  </tbody>\n",
       "</table>\n",
       "</div>"
      ],
      "text/plain": [
       "       ftr1      ftr2  target  meanshift\n",
       "0 -1.692427  3.622025       2          1\n",
       "1  0.697940  4.428867       0          0\n",
       "2  1.100228  4.606317       0          0\n",
       "3 -1.448724  3.384245       2          1\n",
       "4  1.214861  5.364896       0          0"
      ]
     },
     "execution_count": 10,
     "metadata": {},
     "output_type": "execute_result"
    }
   ],
   "source": [
    "df.head()"
   ]
  },
  {
   "cell_type": "code",
   "execution_count": 11,
   "metadata": {},
   "outputs": [
    {
     "data": {
      "text/html": [
       "<div>\n",
       "<style scoped>\n",
       "    .dataframe tbody tr th:only-of-type {\n",
       "        vertical-align: middle;\n",
       "    }\n",
       "\n",
       "    .dataframe tbody tr th {\n",
       "        vertical-align: top;\n",
       "    }\n",
       "\n",
       "    .dataframe thead th {\n",
       "        text-align: right;\n",
       "    }\n",
       "</style>\n",
       "<table border=\"1\" class=\"dataframe\">\n",
       "  <thead>\n",
       "    <tr style=\"text-align: right;\">\n",
       "      <th></th>\n",
       "      <th></th>\n",
       "      <th>ftr1</th>\n",
       "      <th>ftr2</th>\n",
       "    </tr>\n",
       "    <tr>\n",
       "      <th>target</th>\n",
       "      <th>meanshift</th>\n",
       "      <th></th>\n",
       "      <th></th>\n",
       "    </tr>\n",
       "  </thead>\n",
       "  <tbody>\n",
       "    <tr>\n",
       "      <th>0</th>\n",
       "      <th>0</th>\n",
       "      <td>67</td>\n",
       "      <td>67</td>\n",
       "    </tr>\n",
       "    <tr>\n",
       "      <th>1</th>\n",
       "      <th>2</th>\n",
       "      <td>67</td>\n",
       "      <td>67</td>\n",
       "    </tr>\n",
       "    <tr>\n",
       "      <th rowspan=\"2\" valign=\"top\">2</th>\n",
       "      <th>1</th>\n",
       "      <td>65</td>\n",
       "      <td>65</td>\n",
       "    </tr>\n",
       "    <tr>\n",
       "      <th>2</th>\n",
       "      <td>1</td>\n",
       "      <td>1</td>\n",
       "    </tr>\n",
       "  </tbody>\n",
       "</table>\n",
       "</div>"
      ],
      "text/plain": [
       "                  ftr1  ftr2\n",
       "target meanshift            \n",
       "0      0            67    67\n",
       "1      2            67    67\n",
       "2      1            65    65\n",
       "       2             1     1"
      ]
     },
     "execution_count": 11,
     "metadata": {},
     "output_type": "execute_result"
    }
   ],
   "source": [
    "#target값과 meanshift한 cluster값 비교-groupby\n",
    "df.groupby(by=['target','meanshift']).count()"
   ]
  },
  {
   "cell_type": "code",
   "execution_count": 12,
   "metadata": {},
   "outputs": [
    {
     "data": {
      "text/plain": [
       "target  meanshift\n",
       "0       0            67\n",
       "1       2            67\n",
       "2       1            65\n",
       "        2             1\n",
       "Name: meanshift, dtype: int64"
      ]
     },
     "execution_count": 12,
     "metadata": {},
     "output_type": "execute_result"
    }
   ],
   "source": [
    "#혹은 value_counts 이용해도 된다!\n",
    "df.groupby('target')['meanshift'].value_counts() #결과를 보면 원본데이터인 target과 많이 일치하는 걸로 보아 잘 군집화됐음을 알수있음."
   ]
  },
  {
   "cell_type": "markdown",
   "metadata": {},
   "source": [
    "#### 참고: 평균이동이 사용하는 KDE는 bandwidth에 따라 그 확률밀도함수의 모양이 바뀜\n",
    "- seaborn의 distplot()을 이용하여 KDE 시각화\n",
    "https://seaborn.pydata.org/tutorial/distributions.html\n",
    "- 저자) https://github.com/chulminkw/PerfectGuide/blob/master/7%EC%9E%A5/7-3%20Mean_Shift.ipynb\n",
    "- KDE와 확률밀도함수가 잘 이해가 안된다면 참고: https://darkpgmr.tistory.com/147"
   ]
  },
  {
   "cell_type": "code",
   "execution_count": 13,
   "metadata": {},
   "outputs": [
    {
     "name": "stdout",
     "output_type": "stream",
     "text": [
      "[ 1.76405235  0.40015721  0.97873798  2.2408932   1.86755799 -0.97727788\n",
      "  0.95008842 -0.15135721 -0.10321885  0.4105985   0.14404357  1.45427351\n",
      "  0.76103773  0.12167502  0.44386323  0.33367433  1.49407907 -0.20515826\n",
      "  0.3130677  -0.85409574 -2.55298982  0.6536186   0.8644362  -0.74216502\n",
      "  2.26975462 -1.45436567  0.04575852 -0.18718385  1.53277921  1.46935877]\n"
     ]
    },
    {
     "name": "stderr",
     "output_type": "stream",
     "text": [
      "C:\\ProgramData\\Anaconda3\\lib\\site-packages\\scipy\\stats\\stats.py:1713: FutureWarning: Using a non-tuple sequence for multidimensional indexing is deprecated; use `arr[tuple(seq)]` instead of `arr[seq]`. In the future this will be interpreted as an array index, `arr[np.array(seq)]`, which will result either in an error or a different result.\n",
      "  return np.add.reduce(sorted[indexer] * weights, axis=axis) / sumval\n"
     ]
    },
    {
     "data": {
      "image/png": "[encoded data removed]",
      "text/plain": [
       "<Figure size 432x288 with 1 Axes>"
      ]
     },
     "metadata": {},
     "output_type": "display_data"
    }
   ],
   "source": [
    "import seaborn as sns\n",
    "import matplotlib.pyplot as plt\n",
    "%matplotlib inline\n",
    "\n",
    "sns.set(color_codes=True)\n",
    "\n",
    "np.random.seed(0)\n",
    "x = np.random.normal(0, 1, size=30)\n",
    "print(x)\n",
    "sns.distplot(x);"
   ]
  },
  {
   "cell_type": "code",
   "execution_count": 14,
   "metadata": {},
   "outputs": [
    {
     "data": {
      "image/png": "[encoded data removed]",
      "text/plain": [
       "<Figure size 432x288 with 1 Axes>"
      ]
     },
     "metadata": {},
     "output_type": "display_data"
    }
   ],
   "source": [
    "sns.distplot(x, hist=False, rug=True);"
   ]
  },
  {
   "cell_type": "markdown",
   "metadata": {},
   "source": [
    "- seaborn은 kdeplot()으로 kde곡선을 바로 구할 수 있음"
   ]
  },
  {
   "cell_type": "code",
   "execution_count": 15,
   "metadata": {},
   "outputs": [
    {
     "data": {
      "image/png": "[encoded data removed]",
      "text/plain": [
       "<Figure size 432x288 with 1 Axes>"
      ]
     },
     "metadata": {},
     "output_type": "display_data"
    }
   ],
   "source": [
    "sns.kdeplot(x, shade=True);"
   ]
  },
  {
   "cell_type": "markdown",
   "metadata": {},
   "source": [
    "##### bandwidth에 따른 KDE 변화\n",
    "- 밑의 그래프를 참고하면 bw가 0.2일 때는 그래프가 들쭉날쭉(빨강)한데, bw가 2일 때는 그냥 완만하다(녹색). \n",
    "- 즉, 이렇게 KDE의 모양이 바뀌므로(또 평균이동은 KDE의 피크 부분을 밀도가 가장 높은 곳으로 생각하니까) bw가 작을수록 k의 수가 많아지는 것임."
   ]
  },
  {
   "cell_type": "code",
   "execution_count": 16,
   "metadata": {},
   "outputs": [
    {
     "data": {
      "image/png": "[encoded data removed]",
      "text/plain": [
       "<Figure size 720x360 with 1 Axes>"
      ]
     },
     "metadata": {},
     "output_type": "display_data"
    }
   ],
   "source": [
    "plt.figure(figsize=(10,5))\n",
    "sns.kdeplot(x)\n",
    "sns.kdeplot(x, bw=.2, label=\"bw: 0.2\")\n",
    "sns.kdeplot(x, bw=2, label=\"bw: 2\")\n",
    "plt.legend();"
   ]
  },
  {
   "cell_type": "markdown",
   "metadata": {},
   "source": [
    "### 4. GMM(Gaussian Mixture Model)\n",
    "- \"군집 기준: 데이터가 여러개의 가우시안 분포모델 중 하나에 속해 있음을 가정\"\n",
    "- 여러 개의 가우시안 분포(=정규분포)가 섞여 있는 모델이라는 의미.\n",
    "- 여기서의 모수 추정은 2가지를 하는데, <1.개별 정규 분포들의 평균과 분산 / 2.개별 데이터가 어떤 정규 분포에 속하는지의 확률>을 계산한다.\n",
    "- 처음에 'n_components'(가우시안 분포모델 개수) 설정하는 게 중요"
   ]
  },
  {
   "cell_type": "code",
   "execution_count": 2,
   "metadata": {},
   "outputs": [],
   "source": [
    "from sklearn.datasets import load_iris\n",
    "from sklearn.cluster import KMeans\n",
    "from sklearn.mixture import GaussianMixture\n",
    "\n",
    "import numpy as np\n",
    "import pandas as pd\n",
    "import matplotlib.pyplot as plt\n",
    "%matplotlib inline"
   ]
  },
  {
   "cell_type": "code",
   "execution_count": 3,
   "metadata": {},
   "outputs": [
    {
     "data": {
      "text/html": [
       "<div>\n",
       "<style scoped>\n",
       "    .dataframe tbody tr th:only-of-type {\n",
       "        vertical-align: middle;\n",
       "    }\n",
       "\n",
       "    .dataframe tbody tr th {\n",
       "        vertical-align: top;\n",
       "    }\n",
       "\n",
       "    .dataframe thead th {\n",
       "        text-align: right;\n",
       "    }\n",
       "</style>\n",
       "<table border=\"1\" class=\"dataframe\">\n",
       "  <thead>\n",
       "    <tr style=\"text-align: right;\">\n",
       "      <th></th>\n",
       "      <th>sepal length (cm)</th>\n",
       "      <th>sepal width (cm)</th>\n",
       "      <th>petal length (cm)</th>\n",
       "      <th>petal width (cm)</th>\n",
       "      <th>target</th>\n",
       "    </tr>\n",
       "  </thead>\n",
       "  <tbody>\n",
       "    <tr>\n",
       "      <th>0</th>\n",
       "      <td>5.1</td>\n",
       "      <td>3.5</td>\n",
       "      <td>1.4</td>\n",
       "      <td>0.2</td>\n",
       "      <td>0</td>\n",
       "    </tr>\n",
       "    <tr>\n",
       "      <th>1</th>\n",
       "      <td>4.9</td>\n",
       "      <td>3.0</td>\n",
       "      <td>1.4</td>\n",
       "      <td>0.2</td>\n",
       "      <td>0</td>\n",
       "    </tr>\n",
       "    <tr>\n",
       "      <th>2</th>\n",
       "      <td>4.7</td>\n",
       "      <td>3.2</td>\n",
       "      <td>1.3</td>\n",
       "      <td>0.2</td>\n",
       "      <td>0</td>\n",
       "    </tr>\n",
       "    <tr>\n",
       "      <th>3</th>\n",
       "      <td>4.6</td>\n",
       "      <td>3.1</td>\n",
       "      <td>1.5</td>\n",
       "      <td>0.2</td>\n",
       "      <td>0</td>\n",
       "    </tr>\n",
       "    <tr>\n",
       "      <th>4</th>\n",
       "      <td>5.0</td>\n",
       "      <td>3.6</td>\n",
       "      <td>1.4</td>\n",
       "      <td>0.2</td>\n",
       "      <td>0</td>\n",
       "    </tr>\n",
       "  </tbody>\n",
       "</table>\n",
       "</div>"
      ],
      "text/plain": [
       "   sepal length (cm)  sepal width (cm)  petal length (cm)  petal width (cm)  \\\n",
       "0                5.1               3.5                1.4               0.2   \n",
       "1                4.9               3.0                1.4               0.2   \n",
       "2                4.7               3.2                1.3               0.2   \n",
       "3                4.6               3.1                1.5               0.2   \n",
       "4                5.0               3.6                1.4               0.2   \n",
       "\n",
       "   target  \n",
       "0       0  \n",
       "1       0  \n",
       "2       0  \n",
       "3       0  \n",
       "4       0  "
      ]
     },
     "execution_count": 3,
     "metadata": {},
     "output_type": "execute_result"
    }
   ],
   "source": [
    "#iris 데이터 가져오기\n",
    "iris = load_iris()\n",
    "iris_df = pd.DataFrame(iris.data, columns=iris.feature_names)\n",
    "iris_df['target']=iris.target\n",
    "iris_df.head()"
   ]
  },
  {
   "cell_type": "markdown",
   "metadata": {},
   "source": [
    "#### GaussianMixture(n_components, random_state) : n_components는 가우시안 분포를 몇개로 할건지?"
   ]
  },
  {
   "cell_type": "code",
   "execution_count": 6,
   "metadata": {},
   "outputs": [
    {
     "data": {
      "text/html": [
       "<div>\n",
       "<style scoped>\n",
       "    .dataframe tbody tr th:only-of-type {\n",
       "        vertical-align: middle;\n",
       "    }\n",
       "\n",
       "    .dataframe tbody tr th {\n",
       "        vertical-align: top;\n",
       "    }\n",
       "\n",
       "    .dataframe thead th {\n",
       "        text-align: right;\n",
       "    }\n",
       "</style>\n",
       "<table border=\"1\" class=\"dataframe\">\n",
       "  <thead>\n",
       "    <tr style=\"text-align: right;\">\n",
       "      <th></th>\n",
       "      <th>sepal length (cm)</th>\n",
       "      <th>sepal width (cm)</th>\n",
       "      <th>petal length (cm)</th>\n",
       "      <th>petal width (cm)</th>\n",
       "      <th>target</th>\n",
       "      <th>gmm_cluster</th>\n",
       "    </tr>\n",
       "  </thead>\n",
       "  <tbody>\n",
       "    <tr>\n",
       "      <th>0</th>\n",
       "      <td>5.1</td>\n",
       "      <td>3.5</td>\n",
       "      <td>1.4</td>\n",
       "      <td>0.2</td>\n",
       "      <td>0</td>\n",
       "      <td>0</td>\n",
       "    </tr>\n",
       "    <tr>\n",
       "      <th>1</th>\n",
       "      <td>4.9</td>\n",
       "      <td>3.0</td>\n",
       "      <td>1.4</td>\n",
       "      <td>0.2</td>\n",
       "      <td>0</td>\n",
       "      <td>0</td>\n",
       "    </tr>\n",
       "    <tr>\n",
       "      <th>2</th>\n",
       "      <td>4.7</td>\n",
       "      <td>3.2</td>\n",
       "      <td>1.3</td>\n",
       "      <td>0.2</td>\n",
       "      <td>0</td>\n",
       "      <td>0</td>\n",
       "    </tr>\n",
       "    <tr>\n",
       "      <th>3</th>\n",
       "      <td>4.6</td>\n",
       "      <td>3.1</td>\n",
       "      <td>1.5</td>\n",
       "      <td>0.2</td>\n",
       "      <td>0</td>\n",
       "      <td>0</td>\n",
       "    </tr>\n",
       "    <tr>\n",
       "      <th>4</th>\n",
       "      <td>5.0</td>\n",
       "      <td>3.6</td>\n",
       "      <td>1.4</td>\n",
       "      <td>0.2</td>\n",
       "      <td>0</td>\n",
       "      <td>0</td>\n",
       "    </tr>\n",
       "  </tbody>\n",
       "</table>\n",
       "</div>"
      ],
      "text/plain": [
       "   sepal length (cm)  sepal width (cm)  petal length (cm)  petal width (cm)  \\\n",
       "0                5.1               3.5                1.4               0.2   \n",
       "1                4.9               3.0                1.4               0.2   \n",
       "2                4.7               3.2                1.3               0.2   \n",
       "3                4.6               3.1                1.5               0.2   \n",
       "4                5.0               3.6                1.4               0.2   \n",
       "\n",
       "   target  gmm_cluster  \n",
       "0       0            0  \n",
       "1       0            0  \n",
       "2       0            0  \n",
       "3       0            0  \n",
       "4       0            0  "
      ]
     },
     "execution_count": 6,
     "metadata": {},
     "output_type": "execute_result"
    }
   ],
   "source": [
    "#GMM 수행\n",
    "#객체, 학습\n",
    "gmm = GaussianMixture(n_components=3, random_state=0).fit(iris.data)\n",
    "#결과\n",
    "gmm_cluster = gmm.predict(iris.data) #gmm에서는 레이블 출력 시 gmm.labels_ 이 속성을 이용할 수 없음.\n",
    "\n",
    "iris_df['gmm_cluster'] = gmm_cluster\n",
    "iris_df.head()"
   ]
  },
  {
   "cell_type": "code",
   "execution_count": 7,
   "metadata": {},
   "outputs": [
    {
     "data": {
      "text/html": [
       "<div>\n",
       "<style scoped>\n",
       "    .dataframe tbody tr th:only-of-type {\n",
       "        vertical-align: middle;\n",
       "    }\n",
       "\n",
       "    .dataframe tbody tr th {\n",
       "        vertical-align: top;\n",
       "    }\n",
       "\n",
       "    .dataframe thead th {\n",
       "        text-align: right;\n",
       "    }\n",
       "</style>\n",
       "<table border=\"1\" class=\"dataframe\">\n",
       "  <thead>\n",
       "    <tr style=\"text-align: right;\">\n",
       "      <th></th>\n",
       "      <th></th>\n",
       "      <th>sepal length (cm)</th>\n",
       "      <th>sepal width (cm)</th>\n",
       "      <th>petal length (cm)</th>\n",
       "      <th>petal width (cm)</th>\n",
       "    </tr>\n",
       "    <tr>\n",
       "      <th>target</th>\n",
       "      <th>gmm_cluster</th>\n",
       "      <th></th>\n",
       "      <th></th>\n",
       "      <th></th>\n",
       "      <th></th>\n",
       "    </tr>\n",
       "  </thead>\n",
       "  <tbody>\n",
       "    <tr>\n",
       "      <th>0</th>\n",
       "      <th>0</th>\n",
       "      <td>50</td>\n",
       "      <td>50</td>\n",
       "      <td>50</td>\n",
       "      <td>50</td>\n",
       "    </tr>\n",
       "    <tr>\n",
       "      <th rowspan=\"2\" valign=\"top\">1</th>\n",
       "      <th>1</th>\n",
       "      <td>5</td>\n",
       "      <td>5</td>\n",
       "      <td>5</td>\n",
       "      <td>5</td>\n",
       "    </tr>\n",
       "    <tr>\n",
       "      <th>2</th>\n",
       "      <td>45</td>\n",
       "      <td>45</td>\n",
       "      <td>45</td>\n",
       "      <td>45</td>\n",
       "    </tr>\n",
       "    <tr>\n",
       "      <th>2</th>\n",
       "      <th>1</th>\n",
       "      <td>50</td>\n",
       "      <td>50</td>\n",
       "      <td>50</td>\n",
       "      <td>50</td>\n",
       "    </tr>\n",
       "  </tbody>\n",
       "</table>\n",
       "</div>"
      ],
      "text/plain": [
       "                    sepal length (cm)  sepal width (cm)  petal length (cm)  \\\n",
       "target gmm_cluster                                                           \n",
       "0      0                           50                50                 50   \n",
       "1      1                            5                 5                  5   \n",
       "       2                           45                45                 45   \n",
       "2      1                           50                50                 50   \n",
       "\n",
       "                    petal width (cm)  \n",
       "target gmm_cluster                    \n",
       "0      0                          50  \n",
       "1      1                           5  \n",
       "       2                          45  \n",
       "2      1                          50  "
      ]
     },
     "execution_count": 7,
     "metadata": {},
     "output_type": "execute_result"
    }
   ],
   "source": [
    "#target vs gmm_cluster\n",
    "iris_df.groupby(by=['target','gmm_cluster']).count()"
   ]
  },
  {
   "cell_type": "code",
   "execution_count": 8,
   "metadata": {},
   "outputs": [
    {
     "data": {
      "text/plain": [
       "target  gmm_cluster\n",
       "0       0              50\n",
       "1       2              45\n",
       "        1               5\n",
       "2       1              50\n",
       "Name: gmm_cluster, dtype: int64"
      ]
     },
     "execution_count": 8,
     "metadata": {},
     "output_type": "execute_result"
    }
   ],
   "source": [
    "iris_df.groupby(by='target')['gmm_cluster'].value_counts() #수행 결과, 5개가 제대로 군집화되진 않았지만 꽤 좋은 성능"
   ]
  },
  {
   "cell_type": "code",
   "execution_count": 10,
   "metadata": {},
   "outputs": [
    {
     "data": {
      "text/plain": [
       "target  kmeans\n",
       "0       1         50\n",
       "1       0         48\n",
       "        2          2\n",
       "2       2         36\n",
       "        0         14\n",
       "Name: kmeans, dtype: int64"
      ]
     },
     "execution_count": 10,
     "metadata": {},
     "output_type": "execute_result"
    }
   ],
   "source": [
    "#kmeans 수행 시?\n",
    "#객체,학습\n",
    "kmeans = KMeans(n_clusters=3, init='k-means++', max_iter=300, random_state=0).fit(iris.data)\n",
    "#결과\n",
    "kmeans_cluster = kmeans.predict(iris.data)\n",
    "\n",
    "iris_df['kmeans']=kmeans_cluster\n",
    "iris_df.groupby(by=['target'])['kmeans'].value_counts() #결과는 GMM으로 수행했을 때가 더 좋음."
   ]
  },
  {
   "cell_type": "markdown",
   "metadata": {},
   "source": [
    "- GMM이 kmeans보다 더 뛰어난 알고리즘이다 뭐 이런 말이 아니라, \"해당 데이터 세트(iris)가 GMM에 더 효과적이다\"가 맞는 말!\n",
    "- 다음은 앞으로 시각화를 많이 수행할 예정이므로 시각화하는 함수를 제작"
   ]
  },
  {
   "cell_type": "code",
   "execution_count": 11,
   "metadata": {},
   "outputs": [],
   "source": [
    "### 클러스터 결과를 담은 DataFrame과 사이킷런의 Cluster 객체등을 인자로 받아 클러스터링 결과를 시각화하는 함수  \n",
    "def visualize_cluster_plot(clusterobj, dataframe, label_name, iscenter=True):\n",
    "    if iscenter : #iscenter는 중심점 좌표를 객체에서 속성으로 제공하는지?(만일 False라면 중심점을 표시하지 않음)\n",
    "        centers = clusterobj.cluster_centers_\n",
    "        \n",
    "    ###################################################################이전의 시각화 코드와 매우 동일\n",
    "    unique_labels = np.unique(dataframe[label_name].values) #레이블의 유니크한 값\n",
    "    markers=['o', 's', '^', 'x', '*']\n",
    "    isNoise=False\n",
    "\n",
    "    for label in unique_labels: \n",
    "        label_cluster = dataframe[dataframe[label_name]==label]\n",
    "        if label == -1: #만일 레이블의 유니크값에 -1이 있다면 노이즈가 있는 것. --->dbscan에서 사용!\n",
    "            cluster_legend = 'Noise'\n",
    "            isNoise=True\n",
    "        else :\n",
    "            cluster_legend = 'Cluster '+str(label) #보통은 이경우. 클러스터링을 한 후에 legend에 '클러스터 #번'이라고 입력해주는 것임.\n",
    "        \n",
    "        plt.scatter(x=label_cluster['ftr1'], y=label_cluster['ftr2'], s=70, edgecolor='k', marker=markers[label], label=cluster_legend)\n",
    "        \n",
    "        if iscenter: #중심점 좌표를 제공한다면 중심점 좌표를 찍음.\n",
    "            center_x_y = centers[label]\n",
    "            plt.scatter(x=center_x_y[0], y=center_x_y[1], s=250, color='white', alpha=0.9, edgecolor='k', marker=markers[label])\n",
    "            plt.scatter(x=center_x_y[0], y=center_x_y[1], s=70, color='k', edgecolor='k', marker='$%d$' % label)\n",
    "    ######################################################################\n",
    "            \n",
    "    if isNoise: #만일 노이즈 값이 있다면 legend의 위치를 위의 중심에 놓고\n",
    "        legend_loc='upper center'\n",
    "    else: legend_loc='upper right' #노이즈값이 없는 보통의 경우라면 위의 오른쪽에 둔다.\n",
    "    \n",
    "    plt.legend(loc=legend_loc) #legend 설정\n",
    "    plt.show()"
   ]
  },
  {
   "cell_type": "code",
   "execution_count": 20,
   "metadata": {},
   "outputs": [
    {
     "data": {
      "text/html": [
       "<div>\n",
       "<style scoped>\n",
       "    .dataframe tbody tr th:only-of-type {\n",
       "        vertical-align: middle;\n",
       "    }\n",
       "\n",
       "    .dataframe tbody tr th {\n",
       "        vertical-align: top;\n",
       "    }\n",
       "\n",
       "    .dataframe thead th {\n",
       "        text-align: right;\n",
       "    }\n",
       "</style>\n",
       "<table border=\"1\" class=\"dataframe\">\n",
       "  <thead>\n",
       "    <tr style=\"text-align: right;\">\n",
       "      <th></th>\n",
       "      <th>ftr1</th>\n",
       "      <th>ftr2</th>\n",
       "      <th>target</th>\n",
       "    </tr>\n",
       "  </thead>\n",
       "  <tbody>\n",
       "    <tr>\n",
       "      <th>0</th>\n",
       "      <td>-1.671828</td>\n",
       "      <td>3.814284</td>\n",
       "      <td>0</td>\n",
       "    </tr>\n",
       "    <tr>\n",
       "      <th>1</th>\n",
       "      <td>0.945385</td>\n",
       "      <td>-0.901944</td>\n",
       "      <td>1</td>\n",
       "    </tr>\n",
       "    <tr>\n",
       "      <th>2</th>\n",
       "      <td>-0.959199</td>\n",
       "      <td>2.857152</td>\n",
       "      <td>0</td>\n",
       "    </tr>\n",
       "    <tr>\n",
       "      <th>3</th>\n",
       "      <td>-2.187799</td>\n",
       "      <td>3.569903</td>\n",
       "      <td>2</td>\n",
       "    </tr>\n",
       "    <tr>\n",
       "      <th>4</th>\n",
       "      <td>-1.967100</td>\n",
       "      <td>3.067528</td>\n",
       "      <td>2</td>\n",
       "    </tr>\n",
       "  </tbody>\n",
       "</table>\n",
       "</div>"
      ],
      "text/plain": [
       "       ftr1      ftr2  target\n",
       "0 -1.671828  3.814284       0\n",
       "1  0.945385 -0.901944       1\n",
       "2 -0.959199  2.857152       0\n",
       "3 -2.187799  3.569903       2\n",
       "4 -1.967100  3.067528       2"
      ]
     },
     "execution_count": 20,
     "metadata": {},
     "output_type": "execute_result"
    }
   ],
   "source": [
    "#make_blobs로 가상의 데이터를 생성한 후 시각화\n",
    "from sklearn.datasets import make_blobs\n",
    "X, y = make_blobs(n_samples=300, n_features=2, centers=3, cluster_std=0.5, random_state=0) #std이 0.5로 군집이 뭉쳐서 만들어짐.\n",
    "\n",
    "#길게 늘어선 타원형의 데이터 세트를 생성하기 위해 위의 X, y 값을 좀 변환\n",
    "transformation = [[0.60834549, -0.63667341], [-0.40887718, 0.85253229]] #1차원의 리스트, 스칼라로 생각\n",
    "X_aniso = np.dot(X, transformation) #X데이터셋에 위의 숫자를 곱함(300x2)*(2,) =(300x2), 이제 X_aniso를 피처로 이용할 것임\n",
    "\n",
    "#우리가 생성하고 시각화 함수에 넣을 df는 'cluster_df'\n",
    "cluster_df = pd.DataFrame(X_aniso, columns=['ftr1','ftr2'])\n",
    "cluster_df['target']=y\n",
    "cluster_df.head()"
   ]
  },
  {
   "cell_type": "code",
   "execution_count": 21,
   "metadata": {},
   "outputs": [
    {
     "name": "stdout",
     "output_type": "stream",
     "text": [
      "2\n",
      "(300, 2)\n"
     ]
    }
   ],
   "source": [
    "X, y = make_blobs(n_samples=300, n_features=2, centers=3, cluster_std=0.5, random_state=0) \n",
    "transformation = [[0.60834549, -0.63667341], [-0.40887718, 0.85253229]]\n",
    "print(len(transformation)) #리스트이므로 스칼라로 생각\n",
    "X_aniso = np.dot(X, transformation)\n",
    "print(X_aniso.shape)"
   ]
  },
  {
   "cell_type": "code",
   "execution_count": 22,
   "metadata": {},
   "outputs": [
    {
     "data": {
      "image/png": "[encoded data removed]",
      "text/plain": [
       "<Figure size 432x288 with 1 Axes>"
      ]
     },
     "metadata": {
      "needs_background": "light"
     },
     "output_type": "display_data"
    }
   ],
   "source": [
    "#생성된 df를 위의 시각화 함수에 대입 - 정답 데이터\n",
    "visualize_cluster_plot(None, cluster_df, 'target', iscenter=False)"
   ]
  },
  {
   "cell_type": "markdown",
   "metadata": {},
   "source": [
    "- 위에서 만들어진 길쭉한 타원형의 데이터 세트에서 kmeans와 GMM을 수행 후, 군집화 결과를 반환\n",
    "- (참고) kmeans는 원형의 군집화는 잘하지만 타원형은 못함"
   ]
  },
  {
   "cell_type": "code",
   "execution_count": 27,
   "metadata": {},
   "outputs": [
    {
     "data": {
      "text/html": [
       "<div>\n",
       "<style scoped>\n",
       "    .dataframe tbody tr th:only-of-type {\n",
       "        vertical-align: middle;\n",
       "    }\n",
       "\n",
       "    .dataframe tbody tr th {\n",
       "        vertical-align: top;\n",
       "    }\n",
       "\n",
       "    .dataframe thead th {\n",
       "        text-align: right;\n",
       "    }\n",
       "</style>\n",
       "<table border=\"1\" class=\"dataframe\">\n",
       "  <thead>\n",
       "    <tr style=\"text-align: right;\">\n",
       "      <th></th>\n",
       "      <th>ftr1</th>\n",
       "      <th>ftr2</th>\n",
       "      <th>target</th>\n",
       "      <th>kmeans</th>\n",
       "    </tr>\n",
       "  </thead>\n",
       "  <tbody>\n",
       "    <tr>\n",
       "      <th>0</th>\n",
       "      <td>-1.671828</td>\n",
       "      <td>3.814284</td>\n",
       "      <td>0</td>\n",
       "      <td>0</td>\n",
       "    </tr>\n",
       "    <tr>\n",
       "      <th>1</th>\n",
       "      <td>0.945385</td>\n",
       "      <td>-0.901944</td>\n",
       "      <td>1</td>\n",
       "      <td>1</td>\n",
       "    </tr>\n",
       "    <tr>\n",
       "      <th>2</th>\n",
       "      <td>-0.959199</td>\n",
       "      <td>2.857152</td>\n",
       "      <td>0</td>\n",
       "      <td>2</td>\n",
       "    </tr>\n",
       "    <tr>\n",
       "      <th>3</th>\n",
       "      <td>-2.187799</td>\n",
       "      <td>3.569903</td>\n",
       "      <td>2</td>\n",
       "      <td>0</td>\n",
       "    </tr>\n",
       "    <tr>\n",
       "      <th>4</th>\n",
       "      <td>-1.967100</td>\n",
       "      <td>3.067528</td>\n",
       "      <td>2</td>\n",
       "      <td>0</td>\n",
       "    </tr>\n",
       "  </tbody>\n",
       "</table>\n",
       "</div>"
      ],
      "text/plain": [
       "       ftr1      ftr2  target  kmeans\n",
       "0 -1.671828  3.814284       0       0\n",
       "1  0.945385 -0.901944       1       1\n",
       "2 -0.959199  2.857152       0       2\n",
       "3 -2.187799  3.569903       2       0\n",
       "4 -1.967100  3.067528       2       0"
      ]
     },
     "execution_count": 27,
     "metadata": {},
     "output_type": "execute_result"
    }
   ],
   "source": [
    "#kmeans\n",
    "kmeans = KMeans(n_clusters=3, random_state=0)\n",
    "kmeans_label = kmeans.fit_predict(X_aniso) #결과 #주의!!아까 X 말고 X_aniso로 바꿨음!!\n",
    "cluster_df['kmeans']=kmeans_label\n",
    "\n",
    "cluster_df.head()"
   ]
  },
  {
   "cell_type": "code",
   "execution_count": 28,
   "metadata": {},
   "outputs": [
    {
     "data": {
      "image/png": "[encoded data removed]",
      "text/plain": [
       "<Figure size 432x288 with 1 Axes>"
      ]
     },
     "metadata": {
      "needs_background": "light"
     },
     "output_type": "display_data"
    }
   ],
   "source": [
    "visualize_cluster_plot(kmeans, cluster_df, 'kmeans', iscenter=True) #결과가 bad(정답 데이터와 비교)\n",
    "                                                                                                        #왜냐면 kmeans는 원형 데이터엔 군집화를 잘하지만 이런 타원형은 잘 하지 못하기 때문"
   ]
  },
  {
   "cell_type": "code",
   "execution_count": 29,
   "metadata": {},
   "outputs": [
    {
     "data": {
      "text/html": [
       "<div>\n",
       "<style scoped>\n",
       "    .dataframe tbody tr th:only-of-type {\n",
       "        vertical-align: middle;\n",
       "    }\n",
       "\n",
       "    .dataframe tbody tr th {\n",
       "        vertical-align: top;\n",
       "    }\n",
       "\n",
       "    .dataframe thead th {\n",
       "        text-align: right;\n",
       "    }\n",
       "</style>\n",
       "<table border=\"1\" class=\"dataframe\">\n",
       "  <thead>\n",
       "    <tr style=\"text-align: right;\">\n",
       "      <th></th>\n",
       "      <th>ftr1</th>\n",
       "      <th>ftr2</th>\n",
       "      <th>target</th>\n",
       "      <th>kmeans</th>\n",
       "      <th>gmm</th>\n",
       "    </tr>\n",
       "  </thead>\n",
       "  <tbody>\n",
       "    <tr>\n",
       "      <th>0</th>\n",
       "      <td>-1.671828</td>\n",
       "      <td>3.814284</td>\n",
       "      <td>0</td>\n",
       "      <td>0</td>\n",
       "      <td>2</td>\n",
       "    </tr>\n",
       "    <tr>\n",
       "      <th>1</th>\n",
       "      <td>0.945385</td>\n",
       "      <td>-0.901944</td>\n",
       "      <td>1</td>\n",
       "      <td>1</td>\n",
       "      <td>1</td>\n",
       "    </tr>\n",
       "    <tr>\n",
       "      <th>2</th>\n",
       "      <td>-0.959199</td>\n",
       "      <td>2.857152</td>\n",
       "      <td>0</td>\n",
       "      <td>2</td>\n",
       "      <td>2</td>\n",
       "    </tr>\n",
       "    <tr>\n",
       "      <th>3</th>\n",
       "      <td>-2.187799</td>\n",
       "      <td>3.569903</td>\n",
       "      <td>2</td>\n",
       "      <td>0</td>\n",
       "      <td>0</td>\n",
       "    </tr>\n",
       "    <tr>\n",
       "      <th>4</th>\n",
       "      <td>-1.967100</td>\n",
       "      <td>3.067528</td>\n",
       "      <td>2</td>\n",
       "      <td>0</td>\n",
       "      <td>0</td>\n",
       "    </tr>\n",
       "  </tbody>\n",
       "</table>\n",
       "</div>"
      ],
      "text/plain": [
       "       ftr1      ftr2  target  kmeans  gmm\n",
       "0 -1.671828  3.814284       0       0    2\n",
       "1  0.945385 -0.901944       1       1    1\n",
       "2 -0.959199  2.857152       0       2    2\n",
       "3 -2.187799  3.569903       2       0    0\n",
       "4 -1.967100  3.067528       2       0    0"
      ]
     },
     "execution_count": 29,
     "metadata": {},
     "output_type": "execute_result"
    }
   ],
   "source": [
    "#GMM\n",
    "gmm = GaussianMixture(n_components=3, random_state=0)\n",
    "gmm_label = gmm.fit_predict(X_aniso) #결과 #주의!!아까 X 말고 X_aniso로 바꿨음!!\n",
    "cluster_df['gmm']=gmm_label\n",
    "\n",
    "cluster_df.head()"
   ]
  },
  {
   "cell_type": "code",
   "execution_count": 30,
   "metadata": {},
   "outputs": [
    {
     "data": {
      "image/png": "[encoded data removed]",
      "text/plain": [
       "<Figure size 432x288 with 1 Axes>"
      ]
     },
     "metadata": {
      "needs_background": "light"
     },
     "output_type": "display_data"
    }
   ],
   "source": [
    "visualize_cluster_plot(gmm, cluster_df, 'gmm', iscenter=False) #결과가 매우 좋음(정답 데이터와 비교)"
   ]
  },
  {
   "cell_type": "code",
   "execution_count": 31,
   "metadata": {},
   "outputs": [
    {
     "data": {
      "text/plain": [
       "target  kmeans\n",
       "0       2          73\n",
       "        0          27\n",
       "1       1         100\n",
       "2       0          86\n",
       "        2          14\n",
       "Name: kmeans, dtype: int64"
      ]
     },
     "execution_count": 31,
     "metadata": {},
     "output_type": "execute_result"
    }
   ],
   "source": [
    "#시각화 말고 groupby를 이용해 결과를 출력\n",
    "cluster_df.groupby(by='target')['kmeans'].value_counts()"
   ]
  },
  {
   "cell_type": "code",
   "execution_count": 32,
   "metadata": {},
   "outputs": [
    {
     "data": {
      "text/plain": [
       "target  gmm\n",
       "0       2      100\n",
       "1       1      100\n",
       "2       0      100\n",
       "Name: gmm, dtype: int64"
      ]
     },
     "execution_count": 32,
     "metadata": {},
     "output_type": "execute_result"
    }
   ],
   "source": [
    "cluster_df.groupby(by='target')['gmm'].value_counts()"
   ]
  },
  {
   "cell_type": "markdown",
   "metadata": {},
   "source": [
    "- 원형의 데이터만 잘 군집화하는 kmeans와는 달리, GMM은 좀 더 유연한 군집화를 보여준다.\n",
    "- 하지만 GMM은 데이터의 가우시안 분포(정규분포)를 가정하고 있으며 수행 시간이 오래 걸린다는 단점이.."
   ]
  },
  {
   "cell_type": "code",
   "execution_count": null,
   "metadata": {},
   "outputs": [],
   "source": []
  },
  {
   "cell_type": "code",
   "execution_count": null,
   "metadata": {},
   "outputs": [],
   "source": []
  }
 ],
 "metadata": {
  "kernelspec": {
   "display_name": "Python 3",
   "language": "python",
   "name": "python3"
  },
  "language_info": {
   "codemirror_mode": {
    "name": "ipython",
    "version": 3
   },
   "file_extension": ".py",
   "mimetype": "text/x-python",
   "name": "python",
   "nbconvert_exporter": "python",
   "pygments_lexer": "ipython3",
   "version": "3.7.1"
  }
 },
 "nbformat": 4,
 "nbformat_minor": 2
}
