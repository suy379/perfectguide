{
 "cells": [
  {
   "cell_type": "markdown",
   "metadata": {},
   "source": [
    "# Numpy\n",
    "- 패키지 for 행렬, 선형대수, 통계\n",
    "- 데이터 핸들링도 할 수는 있으나 이것은 pandas로"
   ]
  },
  {
   "cell_type": "code",
   "execution_count": 1,
   "metadata": {},
   "outputs": [],
   "source": [
    "import numpy as np"
   ]
  },
  {
   "cell_type": "markdown",
   "metadata": {},
   "source": [
    "### numpy의 기반 데이터 타입은 'ndarray'(array)\n",
    "- ndarray를 이용해 넘파이에서 다차원 배열을 쉽게 생성하고 다양한 연산 수행 가능.\n",
    "#### np.array ->array 생성 / type / shape(몇행 몇열?) / ndim(차원)"
   ]
  },
  {
   "cell_type": "code",
   "execution_count": 4,
   "metadata": {},
   "outputs": [
    {
     "name": "stdout",
     "output_type": "stream",
     "text": [
      "<class 'numpy.ndarray'>\n",
      "(3,)\n"
     ]
    }
   ],
   "source": [
    "#1차원\n",
    "array1 = np.array([1,2,3])\n",
    "\n",
    "print(type(array1)) #type은 ndarray\n",
    "print(array1.shape) #shape은 몇차원인지를 알려줌. 딱 1개만 주어졌으므로 1차원."
   ]
  },
  {
   "cell_type": "markdown",
   "metadata": {},
   "source": [
    "- 반드시 가장 끝은 대괄호로 묶어주기!! \n",
    "- 그리고 가장 끝의 대괄호 개수가 몇개인지에 따라 차원이 달라짐. ]] 2개면 2차원, ]]] 3개면 3차원."
   ]
  },
  {
   "cell_type": "code",
   "execution_count": 6,
   "metadata": {},
   "outputs": [
    {
     "name": "stdout",
     "output_type": "stream",
     "text": [
      "<class 'numpy.ndarray'>\n",
      "(2, 3)\n"
     ]
    }
   ],
   "source": [
    "#2차원 -> 반드시 가장 끝은 대괄호로 묶어주기!! \n",
    "array2 = np.array([[1,2,3],[4,5,6]]) \n",
    "\n",
    "print(type(array2)) #type은 ndarray\n",
    "print(array2.shape) #shape은 2개니까 2차원."
   ]
  },
  {
   "cell_type": "code",
   "execution_count": 8,
   "metadata": {},
   "outputs": [
    {
     "name": "stdout",
     "output_type": "stream",
     "text": [
      "<class 'numpy.ndarray'>\n",
      "(1, 3, 3)\n"
     ]
    }
   ],
   "source": [
    "#3차원\n",
    "\n",
    "array3 = np.array([[[1,2,3], [2,3,4], [6,7,8]]])\n",
    "\n",
    "print(type(array3)) #type은 ndarray\n",
    "print(array3.shape) #shape은 3개니까 3차원"
   ]
  },
  {
   "cell_type": "code",
   "execution_count": 9,
   "metadata": {},
   "outputs": [
    {
     "name": "stdout",
     "output_type": "stream",
     "text": [
      "<class 'numpy.ndarray'>\n",
      "(1, 3)\n"
     ]
    }
   ],
   "source": [
    "#얘는 몇차원일까?\n",
    "array4 =  np.array([[1,2,3]]) #->대괄호가 2개니까 2차원.\n",
    "\n",
    "print(type(array4)) #type은 ndarray\n",
    "print(array4.shape) #shape은 2개니까 2차원"
   ]
  },
  {
   "cell_type": "code",
   "execution_count": 2,
   "metadata": {},
   "outputs": [
    {
     "name": "stdout",
     "output_type": "stream",
     "text": [
      "<class 'numpy.ndarray'>\n",
      "(3, 3)\n"
     ]
    }
   ],
   "source": [
    "#얘는 몇차원일까?\n",
    "array5 =  np.array([[1,2,3],[4,5,6],[7,8,9]]) #->대괄호가 2개니까 2차원.\n",
    "\n",
    "print(type(array5)) #type은 ndarray\n",
    "print(array5.shape) #shape은 2개니까 2차원"
   ]
  },
  {
   "cell_type": "markdown",
   "metadata": {},
   "source": [
    "- 데이터를 정제하거나 다룰 때, 데이터 차원이 달라서 오류가 발생하는 경우가 빈번함.\n",
    "### 데이터의 차원을 자유자재로 다루는 것 중요!"
   ]
  },
  {
   "cell_type": "code",
   "execution_count": 10,
   "metadata": {},
   "outputs": [
    {
     "name": "stdout",
     "output_type": "stream",
     "text": [
      "array1: 1차원, array2: 2차원, array3:  3차원\n"
     ]
    }
   ],
   "source": [
    "#ndim 쓰면 몇차원인지 바로 알 수 있음.\n",
    "print('array1: {:0}차원, array2: {:1}차원, array3: {:2}차원'.format(array1.ndim, array2.ndim, array3.ndim))"
   ]
  },
  {
   "cell_type": "code",
   "execution_count": 11,
   "metadata": {},
   "outputs": [
    {
     "data": {
      "text/plain": [
       "1"
      ]
     },
     "execution_count": 11,
     "metadata": {},
     "output_type": "execute_result"
    }
   ],
   "source": [
    "array1.ndim"
   ]
  },
  {
   "cell_type": "markdown",
   "metadata": {},
   "source": [
    "### 데이터의 차원과 크기를 바꾸는 ndarray.reshape()\n",
    "- 숫자 계산을 해서 바꿀 수 있는 차원과 크기로 변경해줘야 함.\n",
    "- 숫자 계산이 어려울 경우에는 reshape(-1,a) or reshape(a,-1) (행 or 열 중 둘중 하나는 지정)\n",
    "- 보통 많이 쓰는 것은 reshape(-1,1). 왜냐면 원본 array가 어떤 형태라도, 이렇게 reshape해주면 2차원이면서 행은 여러갠데 열은 1개로 변환해 줌."
   ]
  },
  {
   "cell_type": "code",
   "execution_count": 50,
   "metadata": {},
   "outputs": [
    {
     "name": "stdout",
     "output_type": "stream",
     "text": [
      "(10,)\n",
      "[[0 1 2 3 4]\n",
      " [5 6 7 8 9]] (2, 5)\n"
     ]
    }
   ],
   "source": [
    "arr1 = np.arange(10)\n",
    "print(arr1.shape) #1차원\n",
    "\n",
    "#1차원(10,) 을 (2,5)인 2차원으로 변경하자.\n",
    "\n",
    "arr2 = arr1.reshape(2,5)\n",
    "print(arr2, arr2.shape)"
   ]
  },
  {
   "cell_type": "code",
   "execution_count": 51,
   "metadata": {},
   "outputs": [
    {
     "ename": "ValueError",
     "evalue": "cannot reshape array of size 10 into shape (3,4)",
     "output_type": "error",
     "traceback": [
      "\u001b[1;31m---------------------------------------------------------------------------\u001b[0m",
      "\u001b[1;31mValueError\u001b[0m                                Traceback (most recent call last)",
      "\u001b[1;32m<ipython-input-51-ed6e303fc59c>\u001b[0m in \u001b[0;36m<module>\u001b[1;34m\u001b[0m\n\u001b[1;32m----> 1\u001b[1;33m \u001b[0marr1\u001b[0m\u001b[1;33m.\u001b[0m\u001b[0mreshape\u001b[0m\u001b[1;33m(\u001b[0m\u001b[1;36m3\u001b[0m\u001b[1;33m,\u001b[0m\u001b[1;36m4\u001b[0m\u001b[1;33m)\u001b[0m\u001b[1;33m\u001b[0m\u001b[1;33m\u001b[0m\u001b[0m\n\u001b[0m",
      "\u001b[1;31mValueError\u001b[0m: cannot reshape array of size 10 into shape (3,4)"
     ]
    }
   ],
   "source": [
    "arr1.reshape(3,4) #(10,) 를 3행 4열로 바꿀 수는 없다.(오류)"
   ]
  },
  {
   "cell_type": "code",
   "execution_count": 52,
   "metadata": {},
   "outputs": [
    {
     "data": {
      "text/plain": [
       "array([[0, 1],\n",
       "       [2, 3],\n",
       "       [4, 5],\n",
       "       [6, 7],\n",
       "       [8, 9]])"
      ]
     },
     "execution_count": 52,
     "metadata": {},
     "output_type": "execute_result"
    }
   ],
   "source": [
    "#만일 숫자 계산이 어렵다면 -1을 행 or 열 부분에 넣어주기\n",
    "\n",
    "arr1.reshape(-1, 2) #몇행인지는 모르는데 2열이었으면 좋겠어."
   ]
  },
  {
   "cell_type": "code",
   "execution_count": 53,
   "metadata": {},
   "outputs": [
    {
     "data": {
      "text/plain": [
       "array([[0, 1],\n",
       "       [2, 3],\n",
       "       [4, 5],\n",
       "       [6, 7],\n",
       "       [8, 9]])"
      ]
     },
     "execution_count": 53,
     "metadata": {},
     "output_type": "execute_result"
    }
   ],
   "source": [
    "arr1.reshape(5, -1) #몇열인지는 모르는데 5행이었으면 좋겠어."
   ]
  },
  {
   "cell_type": "code",
   "execution_count": 55,
   "metadata": {},
   "outputs": [
    {
     "name": "stdout",
     "output_type": "stream",
     "text": [
      "(2, 5)\n",
      "[[0 1 2 3 4]\n",
      " [5 6 7 8 9]]\n"
     ]
    }
   ],
   "source": [
    "new_arr = arr1.reshape(-1,5)\n",
    "print(new_arr.shape)\n",
    "print(new_arr)"
   ]
  },
  {
   "cell_type": "code",
   "execution_count": 3,
   "metadata": {},
   "outputs": [
    {
     "name": "stdout",
     "output_type": "stream",
     "text": [
      "1\n",
      "(8, 1)\n"
     ]
    }
   ],
   "source": [
    "#가장 많이 쓰는 reshape(-1,1) (어떤 데이터 형태든지간에, 2차원에 열1개로 변환)\n",
    "arr1 = np.arange(8)\n",
    "print(arr1.ndim) #1차원\n",
    "\n",
    "arr2 = arr1.reshape(-1,1)\n",
    "print(arr2.shape) #2차원"
   ]
  },
  {
   "cell_type": "code",
   "execution_count": 4,
   "metadata": {},
   "outputs": [
    {
     "name": "stdout",
     "output_type": "stream",
     "text": [
      "(2, 2, 2)\n",
      "(8, 1)\n"
     ]
    }
   ],
   "source": [
    "arr3 = arr1.reshape(2,2,2)\n",
    "print(arr3.shape) #3차원\n",
    "\n",
    "arr4 = arr3.reshape(-1,1)\n",
    "print(arr4.shape) #언제나 (-1,1) 하면 2차원."
   ]
  },
  {
   "cell_type": "markdown",
   "metadata": {},
   "source": [
    "#### ndarray의 데이터 타입은?-> ndarray.dtype\n",
    " - 주의! 하나의 array 개체에 다른 데이터 타입이 같이 있을 수 없다. int면 int끼리, float면 float끼리, 문자면 문자끼리.\n",
    "#### ndarray의 데이터 타입 변경 -> ndarray.astype('바꿀것')"
   ]
  },
  {
   "cell_type": "code",
   "execution_count": 12,
   "metadata": {},
   "outputs": [
    {
     "name": "stdout",
     "output_type": "stream",
     "text": [
      "<class 'list'>\n"
     ]
    }
   ],
   "source": [
    "list1 = [1,2,3]\n",
    "print(type(list1)) #type을 알려줌(list인지? array인지? dataframe인지?)"
   ]
  },
  {
   "cell_type": "code",
   "execution_count": 13,
   "metadata": {},
   "outputs": [
    {
     "name": "stdout",
     "output_type": "stream",
     "text": [
      "<class 'numpy.ndarray'>\n"
     ]
    }
   ],
   "source": [
    "array1 = np.array(list1) #list -> array 변환\n",
    "print(type(array1))"
   ]
  },
  {
   "cell_type": "code",
   "execution_count": 16,
   "metadata": {},
   "outputs": [
    {
     "name": "stdout",
     "output_type": "stream",
     "text": [
      "int32\n"
     ]
    }
   ],
   "source": [
    "print(array1.dtype) #어떤 데이터 타입인지?(숫자?문자?불리안?)"
   ]
  },
  {
   "cell_type": "code",
   "execution_count": 20,
   "metadata": {},
   "outputs": [
    {
     "name": "stdout",
     "output_type": "stream",
     "text": [
      "<U11\n",
      "['1' '2' 'test']\n"
     ]
    }
   ],
   "source": [
    "#다른 데이터 타입과 같이있다면 -> 더 큰 데이터타입으로 일괄 적용됨.(int<float<str)\n",
    "list2 = [1,2,'test'] #int와 str같이있음\n",
    "array2 = np.array(list2)\n",
    "\n",
    "print(array2.dtype) #str (이제 array2의 1,2는 숫자가 아니라 문자임!)\n",
    "print(array2)"
   ]
  },
  {
   "cell_type": "code",
   "execution_count": 19,
   "metadata": {},
   "outputs": [
    {
     "name": "stdout",
     "output_type": "stream",
     "text": [
      "float64\n",
      "[ 1.  2. 10.]\n"
     ]
    }
   ],
   "source": [
    "list3 = [1,2,10.0] #int와 float 같이있음\n",
    "array3 = np.array(list3)\n",
    "\n",
    "print(array3.dtype) #float(이제 array3의 1,2는 int가 아니라 float임!)\n",
    "print(array3)"
   ]
  },
  {
   "cell_type": "code",
   "execution_count": 21,
   "metadata": {},
   "outputs": [
    {
     "data": {
      "text/plain": [
       "dtype('int32')"
      ]
     },
     "execution_count": 21,
     "metadata": {},
     "output_type": "execute_result"
    }
   ],
   "source": [
    "array_int = np.array([1,2,3]) #int\n",
    "array_int.dtype "
   ]
  },
  {
   "cell_type": "code",
   "execution_count": 22,
   "metadata": {},
   "outputs": [
    {
     "data": {
      "text/plain": [
       "dtype('float64')"
      ]
     },
     "execution_count": 22,
     "metadata": {},
     "output_type": "execute_result"
    }
   ],
   "source": [
    "array_float = array_int.astype('float64') #float\n",
    "array_float.dtype"
   ]
  },
  {
   "cell_type": "code",
   "execution_count": 23,
   "metadata": {},
   "outputs": [
    {
     "data": {
      "text/plain": [
       "dtype('<U32')"
      ]
     },
     "execution_count": 23,
     "metadata": {},
     "output_type": "execute_result"
    }
   ],
   "source": [
    "array_str = array_float.astype('str')\n",
    "array_str.dtype"
   ]
  },
  {
   "cell_type": "markdown",
   "metadata": {},
   "source": [
    "#### ndarray를 편리하게 생성하기(arange, zeros, ones)\n",
    "- 특정 크기와 차원을 가진 ndarray를 쉽게 생성할 때 유용(테스트용, 초기화)"
   ]
  },
  {
   "cell_type": "code",
   "execution_count": 24,
   "metadata": {},
   "outputs": [
    {
     "data": {
      "text/plain": [
       "array([0, 1, 2, 3, 4, 5, 6, 7, 8, 9])"
      ]
     },
     "execution_count": 24,
     "metadata": {},
     "output_type": "execute_result"
    }
   ],
   "source": [
    "np.arange(10) "
   ]
  },
  {
   "cell_type": "code",
   "execution_count": 5,
   "metadata": {},
   "outputs": [
    {
     "data": {
      "text/plain": [
       "array([5, 7, 9])"
      ]
     },
     "execution_count": 5,
     "metadata": {},
     "output_type": "execute_result"
    }
   ],
   "source": [
    "np.arange(5,11,2)"
   ]
  },
  {
   "cell_type": "code",
   "execution_count": 28,
   "metadata": {},
   "outputs": [
    {
     "data": {
      "text/plain": [
       "array([0. , 0.5, 1. , 1.5, 2. , 2.5, 3. , 3.5, 4. , 4.5, 5. , 5.5, 6. ,\n",
       "       6.5, 7. , 7.5, 8. , 8.5, 9. , 9.5])"
      ]
     },
     "execution_count": 28,
     "metadata": {},
     "output_type": "execute_result"
    }
   ],
   "source": [
    "np.arange(0,10,0.5) #np.arange( start, stop, step ) 여기서 stop만 써도 됨. 기본 디폴트는 1부터~stop까지 1간격"
   ]
  },
  {
   "cell_type": "code",
   "execution_count": 32,
   "metadata": {},
   "outputs": [
    {
     "data": {
      "text/plain": [
       "array([ 0,  1,  2,  3,  4,  5,  6,  7,  8,  9, 10, 11, 12, 13, 14, 15, 16,\n",
       "       17, 18, 19, 20, 21, 22, 23, 24, 25, 26, 27, 28, 29, 30, 31, 32, 33,\n",
       "       34, 35, 36, 37, 38, 39, 40, 41, 42, 43, 44, 45, 46, 47, 48, 49, 50,\n",
       "       51, 52, 53, 54, 55, 56, 57, 58, 59, 60, 61, 62, 63, 64, 65, 66, 67,\n",
       "       68, 69, 70, 71, 72, 73, 74, 75, 76, 77, 78, 79, 80, 81, 82, 83, 84,\n",
       "       85, 86, 87, 88, 89, 90, 91, 92, 93, 94, 95, 96, 97, 98, 99])"
      ]
     },
     "execution_count": 32,
     "metadata": {},
     "output_type": "execute_result"
    }
   ],
   "source": [
    "np.arange(100)"
   ]
  },
  {
   "cell_type": "code",
   "execution_count": 33,
   "metadata": {},
   "outputs": [
    {
     "name": "stdout",
     "output_type": "stream",
     "text": [
      "int32 (1000,)\n"
     ]
    }
   ],
   "source": [
    "se_array = np.arange(1000)\n",
    "\n",
    "print(se_array.dtype, se_array.shape) #int, 1차원"
   ]
  },
  {
   "cell_type": "code",
   "execution_count": 40,
   "metadata": {},
   "outputs": [
    {
     "data": {
      "text/plain": [
       "array([[0., 0., 0., 0., 0., 0., 0., 0., 0., 0.],\n",
       "       [0., 0., 0., 0., 0., 0., 0., 0., 0., 0.],\n",
       "       [0., 0., 0., 0., 0., 0., 0., 0., 0., 0.],\n",
       "       [0., 0., 0., 0., 0., 0., 0., 0., 0., 0.],\n",
       "       [0., 0., 0., 0., 0., 0., 0., 0., 0., 0.],\n",
       "       [0., 0., 0., 0., 0., 0., 0., 0., 0., 0.],\n",
       "       [0., 0., 0., 0., 0., 0., 0., 0., 0., 0.],\n",
       "       [0., 0., 0., 0., 0., 0., 0., 0., 0., 0.],\n",
       "       [0., 0., 0., 0., 0., 0., 0., 0., 0., 0.],\n",
       "       [0., 0., 0., 0., 0., 0., 0., 0., 0., 0.]])"
      ]
     },
     "execution_count": 40,
     "metadata": {},
     "output_type": "execute_result"
    }
   ],
   "source": [
    "np.zeros((10,10)) #디폴트로 float로 채움"
   ]
  },
  {
   "cell_type": "code",
   "execution_count": 41,
   "metadata": {},
   "outputs": [
    {
     "data": {
      "text/plain": [
       "array([[0, 0, 0, 0, 0, 0, 0, 0, 0, 0],\n",
       "       [0, 0, 0, 0, 0, 0, 0, 0, 0, 0],\n",
       "       [0, 0, 0, 0, 0, 0, 0, 0, 0, 0],\n",
       "       [0, 0, 0, 0, 0, 0, 0, 0, 0, 0],\n",
       "       [0, 0, 0, 0, 0, 0, 0, 0, 0, 0],\n",
       "       [0, 0, 0, 0, 0, 0, 0, 0, 0, 0],\n",
       "       [0, 0, 0, 0, 0, 0, 0, 0, 0, 0],\n",
       "       [0, 0, 0, 0, 0, 0, 0, 0, 0, 0],\n",
       "       [0, 0, 0, 0, 0, 0, 0, 0, 0, 0],\n",
       "       [0, 0, 0, 0, 0, 0, 0, 0, 0, 0]])"
      ]
     },
     "execution_count": 41,
     "metadata": {},
     "output_type": "execute_result"
    }
   ],
   "source": [
    "np.zeros((10,10), dtype='int32') #int로 채우고 싶다면 dtype지정"
   ]
  },
  {
   "cell_type": "code",
   "execution_count": 42,
   "metadata": {},
   "outputs": [
    {
     "data": {
      "text/plain": [
       "array([['', '', '', '', '', '', '', '', '', ''],\n",
       "       ['', '', '', '', '', '', '', '', '', ''],\n",
       "       ['', '', '', '', '', '', '', '', '', ''],\n",
       "       ['', '', '', '', '', '', '', '', '', ''],\n",
       "       ['', '', '', '', '', '', '', '', '', ''],\n",
       "       ['', '', '', '', '', '', '', '', '', ''],\n",
       "       ['', '', '', '', '', '', '', '', '', ''],\n",
       "       ['', '', '', '', '', '', '', '', '', ''],\n",
       "       ['', '', '', '', '', '', '', '', '', ''],\n",
       "       ['', '', '', '', '', '', '', '', '', '']], dtype='<U1')"
      ]
     },
     "execution_count": 42,
     "metadata": {},
     "output_type": "execute_result"
    }
   ],
   "source": [
    "np.zeros((10,10),dtype='str')"
   ]
  },
  {
   "cell_type": "code",
   "execution_count": 43,
   "metadata": {},
   "outputs": [
    {
     "data": {
      "text/plain": [
       "array([[1., 1., 1., 1., 1.],\n",
       "       [1., 1., 1., 1., 1.],\n",
       "       [1., 1., 1., 1., 1.],\n",
       "       [1., 1., 1., 1., 1.],\n",
       "       [1., 1., 1., 1., 1.]])"
      ]
     },
     "execution_count": 43,
     "metadata": {},
     "output_type": "execute_result"
    }
   ],
   "source": [
    "np.ones((5,5))"
   ]
  },
  {
   "cell_type": "code",
   "execution_count": 44,
   "metadata": {},
   "outputs": [
    {
     "name": "stdout",
     "output_type": "stream",
     "text": [
      "[[1 1 1 1 1]\n",
      " [1 1 1 1 1]\n",
      " [1 1 1 1 1]\n",
      " [1 1 1 1 1]\n",
      " [1 1 1 1 1]]\n",
      "[['1' '1' '1' '1' '1']\n",
      " ['1' '1' '1' '1' '1']\n",
      " ['1' '1' '1' '1' '1']\n",
      " ['1' '1' '1' '1' '1']\n",
      " ['1' '1' '1' '1' '1']]\n"
     ]
    }
   ],
   "source": [
    "print(np.ones((5,5), dtype='int32'))\n",
    "print(np.ones((5,5), dtype='str'))"
   ]
  },
  {
   "cell_type": "markdown",
   "metadata": {},
   "source": [
    "#### list 와 array 상호 변환하기\n",
    "- list->array는 np.array(list)\n",
    "- array->list는 array.tolist()"
   ]
  },
  {
   "cell_type": "code",
   "execution_count": 62,
   "metadata": {},
   "outputs": [
    {
     "name": "stdout",
     "output_type": "stream",
     "text": [
      "<class 'list'>\n",
      "<class 'numpy.ndarray'>\n"
     ]
    }
   ],
   "source": [
    "list1= [4,5,6,3,8]\n",
    "print(type(list1)) #list\n",
    "\n",
    "array1 = np.array(list1)\n",
    "print(type(array1)) #array"
   ]
  },
  {
   "cell_type": "code",
   "execution_count": 64,
   "metadata": {},
   "outputs": [
    {
     "name": "stdout",
     "output_type": "stream",
     "text": [
      "<class 'list'>\n"
     ]
    }
   ],
   "source": [
    "list2 = array1.tolist()\n",
    "print(type(list2)) #list"
   ]
  },
  {
   "cell_type": "markdown",
   "metadata": {},
   "source": [
    "### 인덱싱(일부 데이터세트나 특정 데이터만을 선택하는 것)\n",
    "- 1)특정 데이터만 추출: 원하는 위치의 인덱스\n",
    "- 2)슬라이싱: 연속된 인덱스상의 array추출\n",
    "- 3)팬시 인덱싱fancy indexing: 일정한 인덱싱 집합을 리스트 또는 ndarray형태로 저장\n",
    "- 4)불린 인덱싱boolean indexing: 특정 조건에 해당하는지 여부로 true에 해당하는 인덱스 위치의 데이터의 ndarray 반환"
   ]
  },
  {
   "cell_type": "markdown",
   "metadata": {},
   "source": [
    "#### 꼭 기억! 항상 axis =0 은 행(row), axis =1은 열(column) 방향을 의미한다. 당연히 axis=2는 z축 방향\n",
    "- axis가 무엇인지 생략 시 당연히 axis=0을 의미."
   ]
  },
  {
   "cell_type": "code",
   "execution_count": 6,
   "metadata": {},
   "outputs": [
    {
     "name": "stdout",
     "output_type": "stream",
     "text": [
      "[1 2 3 4 5 6 7 8 9]\n",
      "3\n"
     ]
    }
   ],
   "source": [
    "# 1)단일 값 추출(1개만 추출) -> [ ] 기호 사용\n",
    "##1차원 \n",
    "\n",
    "array1 = np.arange(1,10)\n",
    "print(array1)\n",
    "print(array1[2]) #array에 [] 괄호 안에 인덱스를 넣음."
   ]
  },
  {
   "cell_type": "code",
   "execution_count": 82,
   "metadata": {},
   "outputs": [
    {
     "name": "stdout",
     "output_type": "stream",
     "text": [
      "9\n",
      "5\n",
      "<class 'numpy.int32'>\n"
     ]
    }
   ],
   "source": [
    "print(array1[-1])\n",
    "print(array1[-5])\n",
    "print(type(array1[-5])) #하나의 원소를 끄집어내므로 type이 int"
   ]
  },
  {
   "cell_type": "code",
   "execution_count": 70,
   "metadata": {},
   "outputs": [
    {
     "name": "stdout",
     "output_type": "stream",
     "text": [
      "[  1 100   3   4   5   6   7   8   9]\n"
     ]
    }
   ],
   "source": [
    "#수정도 가능\n",
    "array1[1]=100\n",
    "print(array1)"
   ]
  },
  {
   "cell_type": "code",
   "execution_count": 74,
   "metadata": {},
   "outputs": [
    {
     "name": "stdout",
     "output_type": "stream",
     "text": [
      "2\n",
      "[[  1 100   3]\n",
      " [  4   5   6]\n",
      " [  7   8   9]]\n",
      "9\n"
     ]
    }
   ],
   "source": [
    "##2차원\n",
    "\n",
    "array2 = array1.reshape(3,3)\n",
    "print(array2.ndim) #2차원\n",
    "\n",
    "print(array2)\n",
    "\n",
    "print(array2[2,2])"
   ]
  },
  {
   "cell_type": "code",
   "execution_count": 7,
   "metadata": {},
   "outputs": [
    {
     "name": "stdout",
     "output_type": "stream",
     "text": [
      "[[[1]\n",
      "  [2]\n",
      "  [3]]\n",
      "\n",
      " [[4]\n",
      "  [5]\n",
      "  [6]]\n",
      "\n",
      " [[7]\n",
      "  [8]\n",
      "  [9]]]\n",
      "4\n"
     ]
    }
   ],
   "source": [
    "array3 = array1.reshape((3,3,1))\n",
    "print(array3)\n",
    "\n",
    "print(array3[1,0,0])"
   ]
  },
  {
   "cell_type": "code",
   "execution_count": 10,
   "metadata": {},
   "outputs": [
    {
     "name": "stdout",
     "output_type": "stream",
     "text": [
      "2\n"
     ]
    }
   ],
   "source": [
    "print(array3[0,1,0])"
   ]
  },
  {
   "cell_type": "code",
   "execution_count": 11,
   "metadata": {},
   "outputs": [
    {
     "name": "stdout",
     "output_type": "stream",
     "text": [
      "[1 2 3 4 5 6 7 8 9]\n",
      "[1 2]\n"
     ]
    }
   ],
   "source": [
    "# 2)슬라이싱- '시작 인덱스' : '끝 인덱스' 표시(끝은 포함 x)\n",
    "\n",
    "#1차원 슬라이싱\n",
    "array1 = np.arange(1,10)\n",
    "\n",
    "print(array1)\n",
    "print(array1[0:2])"
   ]
  },
  {
   "cell_type": "code",
   "execution_count": 12,
   "metadata": {},
   "outputs": [
    {
     "data": {
      "text/plain": [
       "numpy.ndarray"
      ]
     },
     "execution_count": 12,
     "metadata": {},
     "output_type": "execute_result"
    }
   ],
   "source": [
    "array2 = array1[5:7]\n",
    "type(array2) #슬라이싱의 경우에는 슬라이싱 후에도 ndarray"
   ]
  },
  {
   "cell_type": "code",
   "execution_count": 13,
   "metadata": {
    "scrolled": true
   },
   "outputs": [
    {
     "name": "stdout",
     "output_type": "stream",
     "text": [
      "[4 5 6 7 8 9]\n",
      "[1 2 3]\n",
      "[1 2 3 4 5 6 7 8 9]\n"
     ]
    }
   ],
   "source": [
    "print(array1[3:])\n",
    "\n",
    "print(array1[:3]) #끝 인덱스는 포함이 안 됨.\n",
    "\n",
    "print(array1[:]) #전부."
   ]
  },
  {
   "cell_type": "code",
   "execution_count": 14,
   "metadata": {},
   "outputs": [
    {
     "name": "stdout",
     "output_type": "stream",
     "text": [
      "[[1 2 3]\n",
      " [4 5 6]\n",
      " [7 8 9]]\n"
     ]
    }
   ],
   "source": [
    "array2 = array1.reshape(3,3)\n",
    "print(array2)"
   ]
  },
  {
   "cell_type": "code",
   "execution_count": 15,
   "metadata": {},
   "outputs": [
    {
     "name": "stdout",
     "output_type": "stream",
     "text": [
      "[[1 2]\n",
      " [4 5]]\n"
     ]
    }
   ],
   "source": [
    "#2차원 슬라이싱- 행,열 둘다.\n",
    "\n",
    "print(array2[0:2,0:2])"
   ]
  },
  {
   "cell_type": "code",
   "execution_count": 16,
   "metadata": {},
   "outputs": [
    {
     "name": "stdout",
     "output_type": "stream",
     "text": [
      "[[1 2 3]\n",
      " [4 5 6]]\n"
     ]
    }
   ],
   "source": [
    "print(array2[0:2,:])"
   ]
  },
  {
   "cell_type": "code",
   "execution_count": 17,
   "metadata": {},
   "outputs": [
    {
     "name": "stdout",
     "output_type": "stream",
     "text": [
      "[1 4 7]\n"
     ]
    }
   ],
   "source": [
    "print(array2[:,0])"
   ]
  },
  {
   "cell_type": "code",
   "execution_count": 18,
   "metadata": {},
   "outputs": [
    {
     "name": "stdout",
     "output_type": "stream",
     "text": [
      "[1 2 3]\n",
      "(3,)\n"
     ]
    }
   ],
   "source": [
    "#2차원에서 한쪽만 슬라이싱하면 1차원.(열만 할수는 없음) /전부다 슬라이싱 지정하면 인덱싱과 똑같아짐. array2[0,0] 이런식으로\n",
    "print(array2[0])\n",
    "print(array2[0].shape) #1차원."
   ]
  },
  {
   "cell_type": "code",
   "execution_count": 20,
   "metadata": {},
   "outputs": [
    {
     "name": "stdout",
     "output_type": "stream",
     "text": [
      "[[[1]\n",
      "  [2]\n",
      "  [3]]\n",
      "\n",
      " [[4]\n",
      "  [5]\n",
      "  [6]]\n",
      "\n",
      " [[7]\n",
      "  [8]\n",
      "  [9]]]\n",
      "[[1]\n",
      " [2]\n",
      " [3]]\n",
      "(3, 1)\n"
     ]
    }
   ],
   "source": [
    "#마찬가지로 3차원에서 한쪽만 슬라이싱하면 2차원.\n",
    "array3 = array2.reshape(3,3,1)\n",
    "print(array3)\n",
    "print(array3[0])\n",
    "print(array3[0].shape) #2차원."
   ]
  },
  {
   "cell_type": "code",
   "execution_count": 100,
   "metadata": {},
   "outputs": [
    {
     "name": "stdout",
     "output_type": "stream",
     "text": [
      "[2]\n",
      "(1,)\n"
     ]
    }
   ],
   "source": [
    "print(array3[0,1])\n",
    "print(array3[0,1].shape) #1차원"
   ]
  },
  {
   "cell_type": "markdown",
   "metadata": {},
   "source": [
    "### 3)팬시 인덱싱\n",
    "- 리스트나 ndarray로 \"인덱스 집합\"을 지정하면 해당 위치의 인덱스에 해당하는 ndarray를 반환."
   ]
  },
  {
   "cell_type": "code",
   "execution_count": 106,
   "metadata": {},
   "outputs": [
    {
     "name": "stdout",
     "output_type": "stream",
     "text": [
      "[[1 2 3]\n",
      " [4 5 6]\n",
      " [7 8 9]]\n"
     ]
    }
   ],
   "source": [
    "array1 = np.arange(1,10)\n",
    "array2 = array1.reshape(3,3)\n",
    "\n",
    "print(array2) #2차원. 원래 인덱싱은 [행,열] 지정하고 슬라이싱은 ':' 이 표시를 넣어서 인덱싱하는 것이었지"
   ]
  },
  {
   "cell_type": "code",
   "execution_count": 107,
   "metadata": {},
   "outputs": [
    {
     "name": "stdout",
     "output_type": "stream",
     "text": [
      "[3 6]\n"
     ]
    }
   ],
   "source": [
    "print(array2[ [0,1] , 2  ]) #팬시 인덱싱은 이렇게 '인덱스 집합'을 지정함."
   ]
  },
  {
   "cell_type": "code",
   "execution_count": 109,
   "metadata": {},
   "outputs": [
    {
     "name": "stdout",
     "output_type": "stream",
     "text": [
      "[1 7]\n"
     ]
    }
   ],
   "source": [
    "print(array2[ [0,2] , 0 ]) #팬시 인덱싱은 이렇게 '인덱스 집합'을 지정함."
   ]
  },
  {
   "cell_type": "code",
   "execution_count": 110,
   "metadata": {},
   "outputs": [
    {
     "name": "stdout",
     "output_type": "stream",
     "text": [
      "[[1 2]\n",
      " [4 5]]\n"
     ]
    }
   ],
   "source": [
    "print(array2[ [0,1] , 0:2  ]) #팬시 인덱싱은 이렇게 '인덱스 집합'을 지정함."
   ]
  },
  {
   "cell_type": "code",
   "execution_count": 111,
   "metadata": {},
   "outputs": [
    {
     "name": "stdout",
     "output_type": "stream",
     "text": [
      "[[1 2 3]\n",
      " [4 5 6]]\n"
     ]
    }
   ],
   "source": [
    "print(array2[ [0,1]  ]) #팬시 인덱싱은 이렇게 '인덱스 집합'을 지정함."
   ]
  },
  {
   "cell_type": "markdown",
   "metadata": {},
   "source": [
    "- 그렇지만 열의 경우에는 집합 지정 불가능"
   ]
  },
  {
   "cell_type": "code",
   "execution_count": 112,
   "metadata": {},
   "outputs": [
    {
     "name": "stdout",
     "output_type": "stream",
     "text": [
      "[1 5]\n"
     ]
    }
   ],
   "source": [
    "print(array2[ [0,1] , [0,1]  ]) #1,2,4,5가 나와야 되는데 열의 경우에는 첫번째꺼는 0만, 두번째꺼는 1만 적용됨.."
   ]
  },
  {
   "cell_type": "markdown",
   "metadata": {},
   "source": [
    "## 불린 인덱싱(짱중요!!!)\n",
    "- 조건 필터링과 검색을 동시에! True인 것을 반환"
   ]
  },
  {
   "cell_type": "code",
   "execution_count": 114,
   "metadata": {},
   "outputs": [
    {
     "name": "stdout",
     "output_type": "stream",
     "text": [
      "[1 2 3 4 5 6 7 8 9]\n"
     ]
    }
   ],
   "source": [
    "print(array1)"
   ]
  },
  {
   "cell_type": "code",
   "execution_count": 116,
   "metadata": {},
   "outputs": [
    {
     "data": {
      "text/plain": [
       "array([False, False, False, False, False,  True,  True,  True,  True])"
      ]
     },
     "execution_count": 116,
     "metadata": {},
     "output_type": "execute_result"
    }
   ],
   "source": [
    "array1>5 #이 조건을 그대로 [ ] 이 대괄호 인덱싱에 적용."
   ]
  },
  {
   "cell_type": "code",
   "execution_count": 115,
   "metadata": {},
   "outputs": [
    {
     "data": {
      "text/plain": [
       "array([6, 7, 8, 9])"
      ]
     },
     "execution_count": 115,
     "metadata": {},
     "output_type": "execute_result"
    }
   ],
   "source": [
    "array1[array1>5] #이게 가장 많이 쓰이는 방법"
   ]
  },
  {
   "cell_type": "code",
   "execution_count": 118,
   "metadata": {},
   "outputs": [
    {
     "data": {
      "text/plain": [
       "array([6, 1, 9, 2])"
      ]
     },
     "execution_count": 118,
     "metadata": {},
     "output_type": "execute_result"
    }
   ],
   "source": [
    "ind = np.array([5,0,8,1]) #만일 연속되지 않은 것을 쓰고 싶다면 인덱스 지정해도 됨.\n",
    "array1[ind]"
   ]
  },
  {
   "cell_type": "markdown",
   "metadata": {},
   "source": [
    "#### 행렬 정렬\n",
    "- np.sort(), ndarray.sort()\n",
    "- np.argsort() 정리된 행렬의 인덱스 반환"
   ]
  },
  {
   "cell_type": "code",
   "execution_count": 121,
   "metadata": {},
   "outputs": [
    {
     "name": "stdout",
     "output_type": "stream",
     "text": [
      "[1 3 5 9]\n"
     ]
    }
   ],
   "source": [
    "#1차원\n",
    "org_array = np.array([3,1,9,5])\n",
    "\n",
    "#np.sort 정렬 ->얘를 더 많이 이용\n",
    "print(np.sort(org_array))"
   ]
  },
  {
   "cell_type": "code",
   "execution_count": 120,
   "metadata": {},
   "outputs": [
    {
     "name": "stdout",
     "output_type": "stream",
     "text": [
      "None\n",
      "[1 3 5 9]\n"
     ]
    }
   ],
   "source": [
    "#ndarray.sort 정렬\n",
    "print(org_array.sort()) #정렬을 적용하면 none이 뜨고\n",
    "print(org_array) #원본행렬을 출력하면 정렬이 돼서 나온다.(원본을 아예 정렬한다는 개념)"
   ]
  },
  {
   "cell_type": "code",
   "execution_count": 122,
   "metadata": {},
   "outputs": [
    {
     "data": {
      "text/plain": [
       "array([9, 5, 3, 1])"
      ]
     },
     "execution_count": 122,
     "metadata": {},
     "output_type": "execute_result"
    }
   ],
   "source": [
    "##내림차순 정렬-> [::-1] 이용\n",
    "np.sort(org_array)[::-1]"
   ]
  },
  {
   "cell_type": "code",
   "execution_count": 124,
   "metadata": {},
   "outputs": [
    {
     "name": "stdout",
     "output_type": "stream",
     "text": [
      "[[ 8 12]\n",
      " [ 7  1]]\n"
     ]
    }
   ],
   "source": [
    "#2차원 이상) axis 지정에 따라 정렬을 다르게 할 수 있음.(헷갈림 주의!!)\n",
    "\n",
    "array2 = np.array([ [8,12], [7,1] ])\n",
    "print(array2)"
   ]
  },
  {
   "cell_type": "code",
   "execution_count": 125,
   "metadata": {},
   "outputs": [
    {
     "name": "stdout",
     "output_type": "stream",
     "text": [
      "[[ 7  1]\n",
      " [ 8 12]]\n"
     ]
    }
   ],
   "source": [
    "print(np.sort(array2, axis = 0)) #행방향 정렬(더 작은 것을 위로)"
   ]
  },
  {
   "cell_type": "code",
   "execution_count": 127,
   "metadata": {},
   "outputs": [
    {
     "name": "stdout",
     "output_type": "stream",
     "text": [
      "[[ 8 12]\n",
      " [ 1  7]]\n"
     ]
    }
   ],
   "source": [
    "print(np.sort(array2, axis = 1)) #열방향 정렬(더 작은 것을 앞으로)"
   ]
  },
  {
   "cell_type": "code",
   "execution_count": 130,
   "metadata": {},
   "outputs": [
    {
     "name": "stdout",
     "output_type": "stream",
     "text": [
      "[3 1 9 5]\n",
      "[1 3 5 9]\n",
      "[1 0 3 2]\n",
      "<class 'numpy.ndarray'>\n"
     ]
    }
   ],
   "source": [
    "#np.argsort() ->정리된 행렬 인덱스 반환\n",
    "\n",
    "print(org_array)\n",
    "print(np.sort(org_array))\n",
    "\n",
    "sort_ind = np.argsort(org_array)\n",
    "print(sort_ind) #인덱스\n",
    "print(type(sort_ind)) #타입도 역시 ndarray"
   ]
  },
  {
   "cell_type": "code",
   "execution_count": 131,
   "metadata": {},
   "outputs": [
    {
     "name": "stdout",
     "output_type": "stream",
     "text": [
      "[2 3 0 1]\n"
     ]
    }
   ],
   "source": [
    "#내림차순도 동일하게.\n",
    "sort_ind_desc = np.argsort(org_array)[::-1]\n",
    "print(sort_ind_desc)"
   ]
  },
  {
   "cell_type": "code",
   "execution_count": 21,
   "metadata": {},
   "outputs": [
    {
     "name": "stdout",
     "output_type": "stream",
     "text": [
      "[3 1 4 2 0]\n"
     ]
    }
   ],
   "source": [
    "#활용(시험 성적)\n",
    "\n",
    "name = ['jojn','mike','sarah','kate','samuel']\n",
    "score = [78, 95, 84, 98, 88]\n",
    "name_array = np.array(name)\n",
    "#각각 이름과 성적이 대응됨. 나는 score를 내림차순 정렬하고, name도 그에 맞게 하고 싶다면 ->인덱스 이용!!\n",
    "\n",
    "score_ind = np.argsort(score)[::-1]\n",
    "print(score_ind) #뽑은 인덱스를 name에 적용"
   ]
  },
  {
   "cell_type": "code",
   "execution_count": 23,
   "metadata": {},
   "outputs": [
    {
     "data": {
      "text/plain": [
       "array(['kate', 'mike', 'samuel', 'sarah', 'jojn'], dtype='<U6')"
      ]
     },
     "execution_count": 23,
     "metadata": {},
     "output_type": "execute_result"
    }
   ],
   "source": [
    "name_array[score_ind] #팬시 인덱싱 활용. array안에만 score_ind 인덱싱 적용 가능해서 name을 array로 바꿨음"
   ]
  },
  {
   "cell_type": "markdown",
   "metadata": {},
   "source": [
    "#### 선형대수 연산\n",
    "- 행렬 내적 np.dot(행렬A, 행렬B)\n",
    "- 전치행렬 np.transpose(행렬)"
   ]
  },
  {
   "cell_type": "code",
   "execution_count": 146,
   "metadata": {},
   "outputs": [],
   "source": [
    "A = np.array( [[1,2,3], [4,5,6]]) #2차원, 2x3\n",
    "B = np.array( [[7,8],[9,10],[11,12]]) #2차원, 3x2 / 결과물은 2x2"
   ]
  },
  {
   "cell_type": "code",
   "execution_count": 148,
   "metadata": {},
   "outputs": [
    {
     "name": "stdout",
     "output_type": "stream",
     "text": [
      "(2, 3)\n",
      "(3, 2)\n"
     ]
    }
   ],
   "source": [
    "print(A.shape)\n",
    "print(B.shape)"
   ]
  },
  {
   "cell_type": "code",
   "execution_count": 147,
   "metadata": {},
   "outputs": [
    {
     "data": {
      "text/plain": [
       "array([[ 58,  64],\n",
       "       [139, 154]])"
      ]
     },
     "execution_count": 147,
     "metadata": {},
     "output_type": "execute_result"
    }
   ],
   "source": [
    "np.dot(A,B)"
   ]
  },
  {
   "cell_type": "code",
   "execution_count": 149,
   "metadata": {},
   "outputs": [
    {
     "data": {
      "text/plain": [
       "array([[1, 4],\n",
       "       [2, 5],\n",
       "       [3, 6]])"
      ]
     },
     "execution_count": 149,
     "metadata": {},
     "output_type": "execute_result"
    }
   ],
   "source": [
    "#전치\n",
    "np.transpose(A) #3x2"
   ]
  },
  {
   "cell_type": "code",
   "execution_count": null,
   "metadata": {},
   "outputs": [],
   "source": []
  },
  {
   "cell_type": "code",
   "execution_count": null,
   "metadata": {},
   "outputs": [],
   "source": []
  }
 ],
 "metadata": {
  "kernelspec": {
   "display_name": "Python 3",
   "language": "python",
   "name": "python3"
  },
  "language_info": {
   "codemirror_mode": {
    "name": "ipython",
    "version": 3
   },
   "file_extension": ".py",
   "mimetype": "text/x-python",
   "name": "python",
   "nbconvert_exporter": "python",
   "pygments_lexer": "ipython3",
   "version": "3.7.1"
  }
 },
 "nbformat": 4,
 "nbformat_minor": 2
}
